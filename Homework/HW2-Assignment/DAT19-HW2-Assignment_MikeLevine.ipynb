{
 "cells": [
  {
   "cell_type": "markdown",
   "metadata": {},
   "source": [
    "# DAT 19: Homework 2 Assignment"
   ]
  },
  {
   "cell_type": "markdown",
   "metadata": {},
   "source": [
    "## Instructions\n",
    "\n",
    "For Homework 2, we will build on the work we did with the Titanic dataset in Homework 1. In this assignment, we will build a logistic regression model to predict passenger survival.\n",
    "\n",
    "Please do all your analysis to answer the questions below in this Jupyter notebook. Show your work.\n",
    "\n",
    "**Please submit your completed notebook by 6:00PM on Monday, January 11.**"
   ]
  },
  {
   "cell_type": "markdown",
   "metadata": {},
   "source": [
    "## About the Data\n",
    "\n",
    "```\n",
    "VARIABLE DESCRIPTIONS:\n",
    "survival        Survival\n",
    "                (0 = No; 1 = Yes)\n",
    "pclass          Passenger Class\n",
    "                (1 = 1st; 2 = 2nd; 3 = 3rd)\n",
    "name            Name\n",
    "sex             Sex\n",
    "age             Age\n",
    "sibsp           Number of Siblings/Spouses Aboard\n",
    "parch           Number of Parents/Children Aboard\n",
    "ticket          Ticket Number\n",
    "fare            Passenger Fare\n",
    "cabin           Cabin\n",
    "embarked        Port of Embarkation\n",
    "                (C = Cherbourg; Q = Queenstown; S = Southampton)\n",
    "\n",
    "SPECIAL NOTES:\n",
    "Pclass is a proxy for socio-economic status (SES)\n",
    " 1st ~ Upper; 2nd ~ Middle; 3rd ~ Lower\n",
    "\n",
    "Age is in Years; Fractional if Age less than One (1)\n",
    " If the Age is Estimated, it is in the form xx.5\n",
    "\n",
    "With respect to the family relation variables (i.e. sibsp and parch)\n",
    "some relations were ignored.  The following are the definitions used\n",
    "for sibsp and parch.\n",
    "\n",
    "Sibling:  Brother, Sister, Stepbrother, or Stepsister of Passenger Aboard Titanic\n",
    "Spouse:   Husband or Wife of Passenger Aboard Titanic (Mistresses and Fiances Ignored)\n",
    "Parent:   Mother or Father of Passenger Aboard Titanic\n",
    "Child:    Son, Daughter, Stepson, or Stepdaughter of Passenger Aboard Titanic\n",
    "\n",
    "Other family relatives excluded from this study include cousins,\n",
    "nephews/nieces, aunts/uncles, and in-laws.  Some children travelled\n",
    "only with a nanny, therefore parch=0 for them.  As well, some\n",
    "travelled with very close friends or neighbors in a village, however,\n",
    "the definitions do not support such relations.\n",
    "```"
   ]
  },
  {
   "cell_type": "markdown",
   "metadata": {},
   "source": [
    "## Homework Assignment"
   ]
  },
  {
   "cell_type": "markdown",
   "metadata": {},
   "source": [
    "**1) Create a logistic regression model on the Titanic dataset to predict the survival of passengers. Show your model output. Include coefficient values.**"
   ]
  },
  {
   "cell_type": "code",
   "execution_count": 475,
   "metadata": {
    "collapsed": false
   },
   "outputs": [],
   "source": [
    "# Step 1 => Import necessary packages and modules\n",
    "\n",
    "import numpy as np\n",
    "import pandas as pd\n",
    "from sklearn.cross_validation import cross_val_score\n",
    "from sklearn.linear_model import LogisticRegression\n",
    "from sklearn.preprocessing import OneHotEncoder\n",
    "from sklearn.feature_extraction import DictVectorizer"
   ]
  },
  {
   "cell_type": "code",
   "execution_count": 476,
   "metadata": {
    "collapsed": false
   },
   "outputs": [
    {
     "data": {
      "text/html": [
       "<div>\n",
       "<table border=\"1\" class=\"dataframe\">\n",
       "  <thead>\n",
       "    <tr style=\"text-align: right;\">\n",
       "      <th></th>\n",
       "      <th>Survived</th>\n",
       "      <th>Pclass</th>\n",
       "      <th>Name</th>\n",
       "      <th>Sex</th>\n",
       "      <th>Age</th>\n",
       "      <th>SibSp</th>\n",
       "      <th>Parch</th>\n",
       "      <th>Ticket</th>\n",
       "      <th>Fare</th>\n",
       "      <th>Cabin</th>\n",
       "      <th>Embarked</th>\n",
       "    </tr>\n",
       "    <tr>\n",
       "      <th>PassengerId</th>\n",
       "      <th></th>\n",
       "      <th></th>\n",
       "      <th></th>\n",
       "      <th></th>\n",
       "      <th></th>\n",
       "      <th></th>\n",
       "      <th></th>\n",
       "      <th></th>\n",
       "      <th></th>\n",
       "      <th></th>\n",
       "      <th></th>\n",
       "    </tr>\n",
       "  </thead>\n",
       "  <tbody>\n",
       "    <tr>\n",
       "      <th>1</th>\n",
       "      <td>0</td>\n",
       "      <td>3</td>\n",
       "      <td>Braund, Mr. Owen Harris</td>\n",
       "      <td>male</td>\n",
       "      <td>22</td>\n",
       "      <td>1</td>\n",
       "      <td>0</td>\n",
       "      <td>A/5 21171</td>\n",
       "      <td>7.2500</td>\n",
       "      <td>NaN</td>\n",
       "      <td>S</td>\n",
       "    </tr>\n",
       "    <tr>\n",
       "      <th>2</th>\n",
       "      <td>1</td>\n",
       "      <td>1</td>\n",
       "      <td>Cumings, Mrs. John Bradley (Florence Briggs Th...</td>\n",
       "      <td>female</td>\n",
       "      <td>38</td>\n",
       "      <td>1</td>\n",
       "      <td>0</td>\n",
       "      <td>PC 17599</td>\n",
       "      <td>71.2833</td>\n",
       "      <td>C85</td>\n",
       "      <td>C</td>\n",
       "    </tr>\n",
       "    <tr>\n",
       "      <th>3</th>\n",
       "      <td>1</td>\n",
       "      <td>3</td>\n",
       "      <td>Heikkinen, Miss. Laina</td>\n",
       "      <td>female</td>\n",
       "      <td>26</td>\n",
       "      <td>0</td>\n",
       "      <td>0</td>\n",
       "      <td>STON/O2. 3101282</td>\n",
       "      <td>7.9250</td>\n",
       "      <td>NaN</td>\n",
       "      <td>S</td>\n",
       "    </tr>\n",
       "    <tr>\n",
       "      <th>4</th>\n",
       "      <td>1</td>\n",
       "      <td>1</td>\n",
       "      <td>Futrelle, Mrs. Jacques Heath (Lily May Peel)</td>\n",
       "      <td>female</td>\n",
       "      <td>35</td>\n",
       "      <td>1</td>\n",
       "      <td>0</td>\n",
       "      <td>113803</td>\n",
       "      <td>53.1000</td>\n",
       "      <td>C123</td>\n",
       "      <td>S</td>\n",
       "    </tr>\n",
       "    <tr>\n",
       "      <th>5</th>\n",
       "      <td>0</td>\n",
       "      <td>3</td>\n",
       "      <td>Allen, Mr. William Henry</td>\n",
       "      <td>male</td>\n",
       "      <td>35</td>\n",
       "      <td>0</td>\n",
       "      <td>0</td>\n",
       "      <td>373450</td>\n",
       "      <td>8.0500</td>\n",
       "      <td>NaN</td>\n",
       "      <td>S</td>\n",
       "    </tr>\n",
       "  </tbody>\n",
       "</table>\n",
       "</div>"
      ],
      "text/plain": [
       "             Survived  Pclass  \\\n",
       "PassengerId                     \n",
       "1                   0       3   \n",
       "2                   1       1   \n",
       "3                   1       3   \n",
       "4                   1       1   \n",
       "5                   0       3   \n",
       "\n",
       "                                                          Name     Sex  Age  \\\n",
       "PassengerId                                                                   \n",
       "1                                      Braund, Mr. Owen Harris    male   22   \n",
       "2            Cumings, Mrs. John Bradley (Florence Briggs Th...  female   38   \n",
       "3                                       Heikkinen, Miss. Laina  female   26   \n",
       "4                 Futrelle, Mrs. Jacques Heath (Lily May Peel)  female   35   \n",
       "5                                     Allen, Mr. William Henry    male   35   \n",
       "\n",
       "             SibSp  Parch            Ticket     Fare Cabin Embarked  \n",
       "PassengerId                                                          \n",
       "1                1      0         A/5 21171   7.2500   NaN        S  \n",
       "2                1      0          PC 17599  71.2833   C85        C  \n",
       "3                0      0  STON/O2. 3101282   7.9250   NaN        S  \n",
       "4                1      0            113803  53.1000  C123        S  \n",
       "5                0      0            373450   8.0500   NaN        S  "
      ]
     },
     "execution_count": 476,
     "metadata": {},
     "output_type": "execute_result"
    }
   ],
   "source": [
    "# Step 2 => Read in the dataset\n",
    "df = pd.DataFrame.from_csv(\"titanic.csv\")\n",
    "\n",
    "# Step 3 => print .head() to review data\n",
    "df.head()"
   ]
  },
  {
   "cell_type": "code",
   "execution_count": 477,
   "metadata": {
    "collapsed": true
   },
   "outputs": [],
   "source": [
    "# Step 4 => set features & target (class labels)\n",
    "features = df.drop('Survived',axis=1)\n",
    "target = df.Survived"
   ]
  },
  {
   "cell_type": "code",
   "execution_count": 478,
   "metadata": {
    "collapsed": false
   },
   "outputs": [
    {
     "data": {
      "text/plain": [
       "Pclass        int64\n",
       "Name         object\n",
       "Sex          object\n",
       "Age         float64\n",
       "SibSp         int64\n",
       "Parch         int64\n",
       "Ticket       object\n",
       "Fare        float64\n",
       "Cabin        object\n",
       "Embarked     object\n",
       "dtype: object"
      ]
     },
     "execution_count": 478,
     "metadata": {},
     "output_type": "execute_result"
    }
   ],
   "source": [
    "# Step 5 => review datatypes of features before going forward\n",
    "features.dtypes"
   ]
  },
  {
   "cell_type": "code",
   "execution_count": 479,
   "metadata": {
    "collapsed": false
   },
   "outputs": [
    {
     "data": {
      "text/plain": [
       "array([[ 22.,   0.,   0., ...,   0.,   0.,   0.],\n",
       "       [ 38.,   0.,   0., ...,   0.,   0.,   0.],\n",
       "       [ 26.,   0.,   0., ...,   0.,   0.,   0.],\n",
       "       ..., \n",
       "       [  0.,   0.,   0., ...,   0.,   0.,   0.],\n",
       "       [ 26.,   0.,   0., ...,   0.,   0.,   0.],\n",
       "       [ 32.,   0.,   0., ...,   0.,   0.,   0.]])"
      ]
     },
     "execution_count": 479,
     "metadata": {},
     "output_type": "execute_result"
    }
   ],
   "source": [
    "# Step 6 => in order for the classifier to work, \n",
    "# we need to pass it numbers. because some of these features are of the type \"object\", \n",
    "# we need to change their datatypes to be readable for the matrix we'll pass to the classifier\n",
    "\n",
    "classes = df['Survived']\n",
    "features = df.drop('Survived',axis=1)\n",
    "features = features.fillna(0)\n",
    "\n",
    "D = features.to_dict('records')\n",
    "v = DictVectorizer(sparse=False)\n",
    "X = v.fit_transform(D)\n",
    "X"
   ]
  },
  {
   "cell_type": "code",
   "execution_count": 542,
   "metadata": {
    "collapsed": false
   },
   "outputs": [],
   "source": [
    "# Step 7 => Create a logistic regression model on the Titanic dataset to predict the survival of passengers.\n",
    "clf = LogisticRegression().fit(X, classes)"
   ]
  },
  {
   "cell_type": "code",
   "execution_count": 481,
   "metadata": {
    "collapsed": false
   },
   "outputs": [
    {
     "name": "stdout",
     "output_type": "stream",
     "text": [
      "[ 0.79124579  0.8013468   0.80808081]\n"
     ]
    }
   ],
   "source": [
    "# Step 8 => Show your model output. \n",
    "score = cross_val_score(clf, X, classes)\n",
    "print score"
   ]
  },
  {
   "cell_type": "code",
   "execution_count": 482,
   "metadata": {
    "collapsed": false
   },
   "outputs": [
    {
     "name": "stdout",
     "output_type": "stream",
     "text": [
      "[[-0.01442997  0.         -0.26422443 ..., -0.18502362 -0.14023648\n",
      "  -0.07166333]]\n",
      "[-0.01442997  0.         -0.26422443 ..., -0.18502362 -0.14023648\n",
      " -0.07166333]\n",
      "  features     coeff\n",
      "0   Pclass -0.014430\n",
      "1     Name  0.000000\n",
      "2      Sex -0.264224\n",
      "3      Age -0.262967\n",
      "4    SibSp  0.079595\n",
      "5    Parch -0.271555\n",
      "6   Ticket  0.366404\n",
      "7     Fare  0.472270\n",
      "8    Cabin -0.230219\n"
     ]
    },
    {
     "name": "stderr",
     "output_type": "stream",
     "text": [
      "/anaconda/lib/python2.7/site-packages/ipykernel/__main__.py:11: FutureWarning: sort(columns=....) is deprecated, use sort_values(by=.....)\n"
     ]
    },
    {
     "data": {
      "text/html": [
       "<div>\n",
       "<table border=\"1\" class=\"dataframe\">\n",
       "  <thead>\n",
       "    <tr style=\"text-align: right;\">\n",
       "      <th></th>\n",
       "      <th>features</th>\n",
       "      <th>coeff</th>\n",
       "      <th>abs</th>\n",
       "    </tr>\n",
       "  </thead>\n",
       "  <tbody>\n",
       "    <tr>\n",
       "      <th>7</th>\n",
       "      <td>Fare</td>\n",
       "      <td>0.472270</td>\n",
       "      <td>0.472270</td>\n",
       "    </tr>\n",
       "    <tr>\n",
       "      <th>6</th>\n",
       "      <td>Ticket</td>\n",
       "      <td>0.366404</td>\n",
       "      <td>0.366404</td>\n",
       "    </tr>\n",
       "    <tr>\n",
       "      <th>5</th>\n",
       "      <td>Parch</td>\n",
       "      <td>-0.271555</td>\n",
       "      <td>0.271555</td>\n",
       "    </tr>\n",
       "    <tr>\n",
       "      <th>2</th>\n",
       "      <td>Sex</td>\n",
       "      <td>-0.264224</td>\n",
       "      <td>0.264224</td>\n",
       "    </tr>\n",
       "    <tr>\n",
       "      <th>3</th>\n",
       "      <td>Age</td>\n",
       "      <td>-0.262967</td>\n",
       "      <td>0.262967</td>\n",
       "    </tr>\n",
       "    <tr>\n",
       "      <th>8</th>\n",
       "      <td>Cabin</td>\n",
       "      <td>-0.230219</td>\n",
       "      <td>0.230219</td>\n",
       "    </tr>\n",
       "    <tr>\n",
       "      <th>4</th>\n",
       "      <td>SibSp</td>\n",
       "      <td>0.079595</td>\n",
       "      <td>0.079595</td>\n",
       "    </tr>\n",
       "    <tr>\n",
       "      <th>0</th>\n",
       "      <td>Pclass</td>\n",
       "      <td>-0.014430</td>\n",
       "      <td>0.014430</td>\n",
       "    </tr>\n",
       "    <tr>\n",
       "      <th>1</th>\n",
       "      <td>Name</td>\n",
       "      <td>0.000000</td>\n",
       "      <td>0.000000</td>\n",
       "    </tr>\n",
       "  </tbody>\n",
       "</table>\n",
       "</div>"
      ],
      "text/plain": [
       "  features     coeff       abs\n",
       "7     Fare  0.472270  0.472270\n",
       "6   Ticket  0.366404  0.366404\n",
       "5    Parch -0.271555  0.271555\n",
       "2      Sex -0.264224  0.264224\n",
       "3      Age -0.262967  0.262967\n",
       "8    Cabin -0.230219  0.230219\n",
       "4    SibSp  0.079595  0.079595\n",
       "0   Pclass -0.014430  0.014430\n",
       "1     Name  0.000000  0.000000"
      ]
     },
     "execution_count": 482,
     "metadata": {},
     "output_type": "execute_result"
    }
   ],
   "source": [
    "# Step 9 => Coefficient values\n",
    "print clf.coef_\n",
    "print clf.coef_.ravel(order='F')\n",
    "\n",
    "\n",
    "coeffs = pd.DataFrame(zip(features.columns[:-1],clf.coef_.ravel()),columns=['features','coeff'])\n",
    "coeffs.head()\n",
    "print coeffs\n",
    "\n",
    "coeffs['abs'] = np.absolute(coeffs.coeff.values)\n",
    "coeffs.sort('abs',ascending=False)"
   ]
  },
  {
   "cell_type": "markdown",
   "metadata": {},
   "source": [
    "**2) Which features are predictive for this logistic regression? Explain your thinking. Do not simply cite model statistics.**"
   ]
  },
  {
   "cell_type": "code",
   "execution_count": 483,
   "metadata": {
    "collapsed": false
   },
   "outputs": [
    {
     "name": "stdout",
     "output_type": "stream",
     "text": [
      "Scores of the LR model when \"Sex\" is removed from the feature set: [ 0.65656566  0.70707071  0.76094276]\n",
      "Scores of the LR model when \"Sex + Pclass\" are removed from the feature set: [ 0.66666667  0.68686869  0.72053872]\n"
     ]
    }
   ],
   "source": [
    "# Step 10 => Domain Expertise\n",
    "# Approaches to evaluating feature importance:\n",
    "## (1) DOMAIN EXPERTISE_a (aka, HW1)\n",
    "### 18.89% of men on the Titanic survived\n",
    "### 74.20% of women on the Titanic survived\n",
    "### Based on previous analysis, there's a strong relationship between 'Sex' and survival rate\n",
    "### Therefore, it seems 'Sex' is clearly a strong predictive feature for this logistic regression\n",
    "### To examine this fact, I will retrain the model and exclude 'Sex'\n",
    "\n",
    "# Create features and target\n",
    "features2 = features.drop('Sex',axis=1)\n",
    "target2 = df.Survived\n",
    "\n",
    "# Fill NULL values with 0 so that the Logistic Regression classifier can read it\n",
    "features2a = features2.fillna(0)\n",
    "\n",
    "# Transform features into dictionary and have vectorizer read the dictionary (matrix)\n",
    "D2 = features2.to_dict('records')\n",
    "v2 = DictVectorizer(sparse=False)\n",
    "X2 = v.fit_transform(D2)\n",
    "\n",
    "## Rebuiding, training, and evaluating a model with fewer features\n",
    "# Show your model output.\n",
    "score = cross_val_score(clf, X2, target2)\n",
    "print 'Scores of the LR model when \"Sex\" is removed from the feature set: ' + str(score)\n",
    "\n",
    "## DOMAIN EXPERTISE_b (aka, HW1)\n",
    "### 63% of first-class passengers survived\n",
    "### 47% of second-class passengers survived\n",
    "### 24% of third-calss passengers survived\n",
    "### Based on previous analysis, there's a strong relationship between 'Pclass' and survival rate\n",
    "### Therefore, it seems 'Pclass' is clearly a strong predictive feature for this logistic regression\n",
    "### To examine this fact, I will retrain the model and exclude 'Pclass'\n",
    "\n",
    "# Create features and target\n",
    "features3 = features2.drop('Pclass',axis=1)\n",
    "target3 = df.Survived\n",
    "\n",
    "# Fill NULL values with 0 so that the Logistic Regression classifier can read it\n",
    "features3a = features3.fillna(0)\n",
    "\n",
    "# Transform features into dictionary and have vectorizer read the dictionary (matrix)\n",
    "D3 = features3.to_dict('records')\n",
    "v3 = DictVectorizer(sparse=False)\n",
    "X3 = v.fit_transform(D3)\n",
    "\n",
    "## Rebuiding, training, and evaluating a model with fewer features\n",
    "# Show your model output.\n",
    "score = cross_val_score(clf, X3, target3)\n",
    "print 'Scores of the LR model when \"Sex + Pclass\" are removed from the feature set: ' + str(score)"
   ]
  },
  {
   "cell_type": "code",
   "execution_count": 484,
   "metadata": {
    "collapsed": false
   },
   "outputs": [],
   "source": [
    "# Step 11a => Feature Normalization\n",
    "features_norm = (X - X.mean())/X.std()"
   ]
  },
  {
   "cell_type": "code",
   "execution_count": 485,
   "metadata": {
    "collapsed": false
   },
   "outputs": [],
   "source": [
    "# Step 11b => Feature Normalization\n",
    "\n",
    "from sklearn.preprocessing import StandardScaler\n",
    "\n",
    "scaler = StandardScaler()\n",
    "features_norm_2 = scaler.fit_transform(X)"
   ]
  },
  {
   "cell_type": "code",
   "execution_count": 486,
   "metadata": {
    "collapsed": false
   },
   "outputs": [
    {
     "data": {
      "text/plain": [
       "0.78900112233445563"
      ]
     },
     "execution_count": 486,
     "metadata": {},
     "output_type": "execute_result"
    }
   ],
   "source": [
    "# Step 12 => Run Logistic Regression with normalized features\n",
    "\n",
    "from sklearn.linear_model import LogisticRegression\n",
    "clf = LogisticRegression(C=1)\n",
    "\n",
    "cross_val_score(clf,features_norm, target,cv=3 ).mean()"
   ]
  },
  {
   "cell_type": "markdown",
   "metadata": {},
   "source": [
    "**3) Implement cross-validation for your logistic regression model. Select the number of folds. Explain your choice.**"
   ]
  },
  {
   "cell_type": "code",
   "execution_count": 487,
   "metadata": {
    "collapsed": false
   },
   "outputs": [
    {
     "name": "stdout",
     "output_type": "stream",
     "text": [
      "0.785642666398\n",
      "0.800224466891\n",
      "0.800255161117\n",
      "0.803603651106\n",
      "0.803591470258\n",
      "0.809184322904\n"
     ]
    }
   ],
   "source": [
    "print cross_val_score(clf,X,classes,cv=2).mean()\n",
    "print cross_val_score(clf,X,classes,cv=3).mean()\n",
    "print cross_val_score(clf,X,classes,cv=5).mean()\n",
    "print cross_val_score(clf,X,classes,cv=7).mean()\n",
    "print cross_val_score(clf,X,classes,cv=9).mean()\n",
    "print cross_val_score(clf,X,classes,cv=11).mean()"
   ]
  },
  {
   "cell_type": "markdown",
   "metadata": {},
   "source": [
    "**4) In the hw-assignments directory on the class github repo, there is a file called titanic-test.csv. What does your logistic regression model predict for these previously unseen (i.e. out of sample) passengers?**"
   ]
  },
  {
   "cell_type": "code",
   "execution_count": 488,
   "metadata": {
    "collapsed": false
   },
   "outputs": [
    {
     "data": {
      "text/html": [
       "<div>\n",
       "<table border=\"1\" class=\"dataframe\">\n",
       "  <thead>\n",
       "    <tr style=\"text-align: right;\">\n",
       "      <th></th>\n",
       "      <th>Pclass</th>\n",
       "      <th>Name</th>\n",
       "      <th>Sex</th>\n",
       "      <th>Age</th>\n",
       "      <th>SibSp</th>\n",
       "      <th>Parch</th>\n",
       "      <th>Ticket</th>\n",
       "      <th>Fare</th>\n",
       "      <th>Cabin</th>\n",
       "      <th>Embarked</th>\n",
       "    </tr>\n",
       "    <tr>\n",
       "      <th>PassengerId</th>\n",
       "      <th></th>\n",
       "      <th></th>\n",
       "      <th></th>\n",
       "      <th></th>\n",
       "      <th></th>\n",
       "      <th></th>\n",
       "      <th></th>\n",
       "      <th></th>\n",
       "      <th></th>\n",
       "      <th></th>\n",
       "    </tr>\n",
       "  </thead>\n",
       "  <tbody>\n",
       "    <tr>\n",
       "      <th>892</th>\n",
       "      <td>3</td>\n",
       "      <td>Kelly, Mr. James</td>\n",
       "      <td>male</td>\n",
       "      <td>34.5</td>\n",
       "      <td>0</td>\n",
       "      <td>0</td>\n",
       "      <td>330911</td>\n",
       "      <td>7.8292</td>\n",
       "      <td>NaN</td>\n",
       "      <td>Q</td>\n",
       "    </tr>\n",
       "    <tr>\n",
       "      <th>893</th>\n",
       "      <td>3</td>\n",
       "      <td>Wilkes, Mrs. James (Ellen Needs)</td>\n",
       "      <td>female</td>\n",
       "      <td>47.0</td>\n",
       "      <td>1</td>\n",
       "      <td>0</td>\n",
       "      <td>363272</td>\n",
       "      <td>7.0000</td>\n",
       "      <td>NaN</td>\n",
       "      <td>S</td>\n",
       "    </tr>\n",
       "    <tr>\n",
       "      <th>894</th>\n",
       "      <td>2</td>\n",
       "      <td>Myles, Mr. Thomas Francis</td>\n",
       "      <td>male</td>\n",
       "      <td>62.0</td>\n",
       "      <td>0</td>\n",
       "      <td>0</td>\n",
       "      <td>240276</td>\n",
       "      <td>9.6875</td>\n",
       "      <td>NaN</td>\n",
       "      <td>Q</td>\n",
       "    </tr>\n",
       "    <tr>\n",
       "      <th>895</th>\n",
       "      <td>3</td>\n",
       "      <td>Wirz, Mr. Albert</td>\n",
       "      <td>male</td>\n",
       "      <td>27.0</td>\n",
       "      <td>0</td>\n",
       "      <td>0</td>\n",
       "      <td>315154</td>\n",
       "      <td>8.6625</td>\n",
       "      <td>NaN</td>\n",
       "      <td>S</td>\n",
       "    </tr>\n",
       "    <tr>\n",
       "      <th>896</th>\n",
       "      <td>3</td>\n",
       "      <td>Hirvonen, Mrs. Alexander (Helga E Lindqvist)</td>\n",
       "      <td>female</td>\n",
       "      <td>22.0</td>\n",
       "      <td>1</td>\n",
       "      <td>1</td>\n",
       "      <td>3101298</td>\n",
       "      <td>12.2875</td>\n",
       "      <td>NaN</td>\n",
       "      <td>S</td>\n",
       "    </tr>\n",
       "  </tbody>\n",
       "</table>\n",
       "</div>"
      ],
      "text/plain": [
       "             Pclass                                          Name     Sex  \\\n",
       "PassengerId                                                                 \n",
       "892               3                              Kelly, Mr. James    male   \n",
       "893               3              Wilkes, Mrs. James (Ellen Needs)  female   \n",
       "894               2                     Myles, Mr. Thomas Francis    male   \n",
       "895               3                              Wirz, Mr. Albert    male   \n",
       "896               3  Hirvonen, Mrs. Alexander (Helga E Lindqvist)  female   \n",
       "\n",
       "              Age  SibSp  Parch   Ticket     Fare Cabin Embarked  \n",
       "PassengerId                                                       \n",
       "892          34.5      0      0   330911   7.8292   NaN        Q  \n",
       "893          47.0      1      0   363272   7.0000   NaN        S  \n",
       "894          62.0      0      0   240276   9.6875   NaN        Q  \n",
       "895          27.0      0      0   315154   8.6625   NaN        S  \n",
       "896          22.0      1      1  3101298  12.2875   NaN        S  "
      ]
     },
     "execution_count": 488,
     "metadata": {},
     "output_type": "execute_result"
    }
   ],
   "source": [
    "# Step 13 => Import Out of Sample dataset and view it\n",
    "df2 = pd.DataFrame.from_csv(\"titanic-test.csv\")\n",
    "df2.head()\n",
    "\n",
    "# The dataset doesn't include class labels!"
   ]
  },
  {
   "cell_type": "code",
   "execution_count": 489,
   "metadata": {
    "collapsed": false
   },
   "outputs": [],
   "source": [
    "# Step 14 => set new features\n",
    "features_new = df2\n",
    "columns = df2.columns"
   ]
  },
  {
   "cell_type": "code",
   "execution_count": 490,
   "metadata": {
    "collapsed": false
   },
   "outputs": [
    {
     "data": {
      "text/plain": [
       "array([[ 34.5,   0. ,   0. , ...,   0. ,   0. ,   0. ],\n",
       "       [ 47. ,   0. ,   0. , ...,   0. ,   0. ,   0. ],\n",
       "       [ 62. ,   0. ,   0. , ...,   0. ,   0. ,   0. ],\n",
       "       ..., \n",
       "       [ 38.5,   0. ,   0. , ...,   0. ,   0. ,   0. ],\n",
       "       [  0. ,   0. ,   0. , ...,   0. ,   0. ,   0. ],\n",
       "       [  0. ,   0. ,   0. , ...,   0. ,   0. ,   0. ]])"
      ]
     },
     "execution_count": 490,
     "metadata": {},
     "output_type": "execute_result"
    }
   ],
   "source": [
    "# Step 15 => in order for the classifier to work, \n",
    "# we need to pass it numbers. because some of these features are of the type \"object\", \n",
    "# we need to change their datatypes to be readable for the matrix we'll pass to the classifier\n",
    "\n",
    "features_new_nan = features_new.fillna(0)\n",
    "\n",
    "D_new = features_new_nan.to_dict('records')\n",
    "v_new = DictVectorizer(sparse=False)\n",
    "X_new = v.fit_transform(D_new)\n",
    "X_new"
   ]
  },
  {
   "cell_type": "code",
   "execution_count": 516,
   "metadata": {
    "collapsed": false
   },
   "outputs": [
    {
     "name": "stdout",
     "output_type": "stream",
     "text": [
      "[ 0.61428571  0.5971223   0.58992806]\n"
     ]
    }
   ],
   "source": [
    "# Step 15 => Evaluate effect of classifier on Out of Sample data \n",
    "clf_test = clf.fit(X_new,classes[:418])\n",
    "score_test = cross_val_score(clf_test, X_new, classes[:418])\n",
    "print score_test"
   ]
  },
  {
   "cell_type": "code",
   "execution_count": 517,
   "metadata": {
    "collapsed": true
   },
   "outputs": [],
   "source": [
    "# Step 16 => Results above show that classifier is has a low precision of predicting survival"
   ]
  },
  {
   "cell_type": "code",
   "execution_count": 518,
   "metadata": {
    "collapsed": true
   },
   "outputs": [],
   "source": [
    "# Step 17 => Feature Normalization of test_features\n",
    "features_norm_test = (X_new - X_new.mean())/X_new.std()"
   ]
  },
  {
   "cell_type": "code",
   "execution_count": 519,
   "metadata": {
    "collapsed": true
   },
   "outputs": [],
   "source": [
    "# Step 18 => Feature Normalization part II\n",
    "\n",
    "scaler_test = StandardScaler()\n",
    "features_norm_test2 = scaler_test.fit_transform(X_new)"
   ]
  },
  {
   "cell_type": "code",
   "execution_count": 520,
   "metadata": {
    "collapsed": false
   },
   "outputs": [
    {
     "data": {
      "text/plain": [
       "0.45697156560465912"
      ]
     },
     "execution_count": 520,
     "metadata": {},
     "output_type": "execute_result"
    }
   ],
   "source": [
    "# Step 19 => Run Logistic Regression with normalized test features\n",
    "\n",
    "cross_val_score(clf,features_norm_test2,classes[:418],cv=3 ).mean()"
   ]
  },
  {
   "cell_type": "code",
   "execution_count": 521,
   "metadata": {
    "collapsed": true
   },
   "outputs": [],
   "source": [
    "# Step 20 => Based on output above, normalizing data didn't help"
   ]
  },
  {
   "cell_type": "code",
   "execution_count": 522,
   "metadata": {
    "collapsed": false
   },
   "outputs": [
    {
     "name": "stdout",
     "output_type": "stream",
     "text": [
      "0.610004578755\n",
      "0.600445357999\n",
      "0.602868617326\n",
      "0.610184045833\n",
      "0.610042570322\n",
      "0.600375679323\n"
     ]
    }
   ],
   "source": [
    "# Step 21 => apply cross-fold validation\n",
    "print cross_val_score(clf,X_new,classes[:418],cv=2).mean()\n",
    "print cross_val_score(clf,X_new,classes[:418],cv=3).mean()\n",
    "print cross_val_score(clf,X_new,classes[:418],cv=5).mean()\n",
    "print cross_val_score(clf,X_new,classes[:418],cv=7).mean()\n",
    "print cross_val_score(clf,X_new,classes[:418],cv=9).mean()\n",
    "print cross_val_score(clf,X_new,classes[:418],cv=11).mean()"
   ]
  },
  {
   "cell_type": "code",
   "execution_count": 561,
   "metadata": {
    "collapsed": false
   },
   "outputs": [
    {
     "name": "stdout",
     "output_type": "stream",
     "text": [
      "According to my classifier 60.9133363212% of passengers in test data did not survive.\n",
      "According to my classifier 39.0866636788% of passengers in test data survived.\n"
     ]
    }
   ],
   "source": [
    "# Predicted regression values;\n",
    "# Classifiers that can predict the probability of class membership\n",
    "print 'According to my classifier ' + str(clf_test.predict_proba(X_new)[:,0].mean()*100)+str('%') + ' of passengers in test data did not survive.'\n",
    "print 'According to my classifier ' + str(clf_test.predict_proba(X_new)[:,1].mean()*100)+str('%') + ' of passengers in test data survived.'\n"
   ]
  }
 ],
 "metadata": {
  "kernelspec": {
   "display_name": "Python 2",
   "language": "python",
   "name": "python2"
  },
  "language_info": {
   "codemirror_mode": {
    "name": "ipython",
    "version": 2
   },
   "file_extension": ".py",
   "mimetype": "text/x-python",
   "name": "python",
   "nbconvert_exporter": "python",
   "pygments_lexer": "ipython2",
   "version": "2.7.11"
  }
 },
 "nbformat": 4,
 "nbformat_minor": 0
}
