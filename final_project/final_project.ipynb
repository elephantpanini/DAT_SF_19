{
 "cells": [
  {
   "cell_type": "markdown",
   "metadata": {},
   "source": [
    "### The aim of this project is to figure out a way to understand a way to \n",
    "#### 1) address the value of education (focus on secondary education)\n",
    "#### 2) address the features by gender that can predict education outcomes\n",
    "#### 3) call out disparities\n",
    "#### 4) propose next steps"
   ]
  },
  {
   "cell_type": "markdown",
   "metadata": {},
   "source": [
    "## Objective 1: Define & Build Metric for a Country's Valuation of Secondary Education"
   ]
  },
  {
   "cell_type": "markdown",
   "metadata": {},
   "source": [
    "### I am calling this metric `\"Quality of Commitment\"`"
   ]
  },
  {
   "cell_type": "markdown",
   "metadata": {},
   "source": [
    "A country's education system often reflects the values of the country's central government. Insofar as a country provides social services for its inhabitants, how much a country provides and how much a people accepts what is provided are critically important features to consider. In other words, if a country does support an educational system for its citizens, knowing how much a country gives to this system is likely indicative of the importance that a system holds for a country. Thus, the <b>first metric</b> I define is <b>`Expenditure on Education`</b>. Likewise to a country's investment in education is a country's accepting of the investment. In other words, we need to understand whether the citizens of a country are taking advantage of this program. In order to dterine whether the citizens are taking advantage of the education - presumably - paid for by the government, we review the <b>next metric</b> which is <b>'Percentage of Students Enrolled'</b>. Lastly, while the amount of time that a person spends in school doesn't detail the level of a person's aptitude or predict future achievements, most people of the world do attend compulsory education. The length of time that compulsory education lasts is therefore another feature for us to consider. Thus, the <b>last metric</b> we will use in creating our `Quality Commitment` metrics is <b>`Duration of Compulsory Education`</b>.\n",
    "\n",
    "#### In order to arrive at this metric, I will leverage 10 features (per country):\n",
    "1) All staff compensation as % of total expenditure in secondary public institutions (%) <br>\n",
    "2) Duration of compulsory education (years) <br>\n",
    "3) Expenditure on education as % of total government expenditure (%) <br>\n",
    "4) Expenditure on secondary as % of government expenditure on education (%) <br>\n",
    "5) Expenditure on secondary as % of total government expenditure (%) <br>\n",
    "6) Government expenditure in educational institutions as % of GDP (%) <br>\n",
    "7) Government expenditure in secondary institutions education as % of GDP (%) <br>\n",
    "8) Government expenditure on education as % of GDP (%) <br>\n",
    "9) Net enrolment rate, secondary, both sexes (%) <br>\n",
    "10) Pupil-teacher ratio in secondary education (headcount basis) <br>"
   ]
  },
  {
   "cell_type": "markdown",
   "metadata": {},
   "source": [
    "#### Building `Quality of Commitment`: Expenditure on Education"
   ]
  },
  {
   "cell_type": "markdown",
   "metadata": {},
   "source": [
    "Within the World Bank's bounty of datasets there exists features for each topic noteed above, which I use to build my index:<br>\n",
    "<br>\n",
    "\n",
    "Topic: <b>All staff compensation as % of total expenditure in secondary public institutions (%)</b><br>\n",
    "Description: <br>\n",
    "All staff (teacher and non-teachers) compensation expressed as a percentage of direct expenditure in public educational institutions (instructional and non-instructional) of the specified level of education. Financial aid to students and other transfers are excluded from direct expenditure. Staff compensation includes salaries, contributions by employers for staff retirement programmes, and other allowances and benefits. Divide all staff compensation in public institutions of a given level of education (ex. primary, secondary, or all levels combined) by total expenditure (current and capital) in public institutions of the same level of education, and multiply by 100. For more information, consult the UNESCO Institute of Statistics website: http://www.uis.unesco.org/Education/<br>\n",
    "<br>\n",
    "\n",
    "Topic: <b>Duration of compulsory education (years)</b> <br>\n",
    "Description: <br>\n",
    "Number of years that children are legally obliged to attend school.<br>\n",
    "<br>\n",
    "\n",
    "Topic: <b>Expenditure on education as % of total government expenditure (%)</b> <br>\n",
    "Description: <br>\n",
    "Total general (local, regional and central) government expenditure on education (current, capital, and transfers), expressed as a percentage of total general government expenditure on all sectors (including health, education, social services, etc.). It includes expenditure funded by transfers from international sources to government. Public education expenditure includes spending by local/municipal, regional and national governments (excluding household contributions) on educational institutions (both public and private), education administration, and subsidies for private entities (students/households and other privates entities). In some instances data on total public expenditure on education refers only to the ministry of education and can exclude other ministries that spend a part of their budget on educational activities. The indicator is calculated by dividing total public expenditure on education incurred by all government agencies/departments by the total government expenditure and multiplying by 100. For more information, consult the UNESCO Institute of Statistics website: http://www.uis.unesco.org/Education/<br>\n",
    "<br>\n",
    "\n",
    "Topic: <b>Expenditure on secondary as % of government expenditure on education (%)</b> <br>\n",
    "Description: <br>\n",
    "Expenditure on education by level of education, expressed as a percentage of total general government expenditure on education. Divide government expenditure on a given level of education (ex. primary, secondary) by total government expenditure on education (all levels combined), and multiply by 100. A high percentage of government expenditure on education spent on a given level denotes a high priority given to that level compared to others. When interpreting this indicator, one should take into account enrolment at that level, and the relative costs per student between different levels of education. For more information, consult the UNESCO Institute of Statistics website: http://www.uis.unesco.org/Education/<br><br>\n",
    "\n",
    "Topic: <b>Expenditure on secondary as % of total government expenditure (%)</b> <br>\n",
    "Description: <br>\n",
    "Total general (local, regional and central) government expenditure on secondary education (current, capital, and transfers), expressed as a percentage of total general government expenditure on all sectors (including health, education, social services, etc.). It includes expenditure funded by transfers from international sources to government. Divide total government expenditure for a given level of education (ex. primary, secondary, or all levels combined) by total general government expenditure (all sectors), and multiply by 100. A higher percentage of government expenditure on education shows a high government priority for education relative to other public investments. When interpreting this indicator however, one should keep in mind that some governments have more (or less) means and therefore larger (or smaller) overall budgets, and that countries with younger populations may spend more on education in relation to other sector such as health or social security, and vice-versa. For more information, consult the UNESCO Institute of Statistics website: http://www.uis.unesco.org/Education/<br><br>\n",
    "\n",
    "Topic: <b>Government expenditure in educational institutions as % of GDP (%)</b> <br>\n",
    "Description: <br>\n",
    "Total general (local, regional and central) government expenditure in educational institutions (current and capital), expressed as a percentage of GDP. It excludes transfers to private entities such as subsidies to households and students, but includes expenditure funded by transfers from international sources to government. Divide total expenditure in public institutions by the GDP, and multiply by 100. For more information, consult the UNESCO Institute of Statistics website: http://www.uis.unesco.org/Education/<br><br>\n",
    "\n",
    "Topic: <b>Government expenditure in secondary institutions education as % of GDP (%)</b> <br>\n",
    "Description: <br>\n",
    "Total general (local, regional and central) government expenditure in educational institutions (current and capital) at a given level of education, expressed as a percentage of GDP. It excludes transfers to private entities such as subsidies to households and students, but includes expenditure funded by transfers from international sources to government. Divide total expenditure in public institutions of a given level of education (ex. primary, secondary, or all levels combined) by the GDP, and multiply by 100. For more information, consult the UNESCO Institute of Statistics website: http://www.uis.unesco.org/Education/<br><br>\n",
    "\n",
    "Topic: <b>Government expenditure on education as % of GDP (%)</b> <br>\n",
    "Description: <br>\n",
    "Total general (local, regional and central) government expenditure on education (current, capital, and transfers), expressed as a percentage of GDP. It includes expenditure funded by transfers from international sources to government. Divide total government expenditure for a given level of education (ex. primary, secondary, or all levels combined) by the GDP, and multiply by 100. A higher percentage of GDP spent on education shows a higher government priority for education, but also a higher capacity of the government to raise revenues for public spending, in relation to the size of the country's economy. When interpreting this indicator however, one should keep in mind in some countries, the private sector and/or households may fund a higher proportion of total funding for education, thus making government expenditure appear lower than in other countries. For more information, consult the UNESCO Institute of Statistics website: http://www.uis.unesco.org/Education/<br><br>\n",
    "\n",
    "Topic: <b>Net enrolment rate, secondary, both sexes (%)</b> <br>\n",
    "Description: <br>\n",
    "Total number of students in the theoretical age group for secondary education enrolled in that level, expressed as a percentage of the total population in that age group. Divide the number of students enrolled who are of the official age group for secondary education by the population for the same age group and multiply the result by 100. NER at each level of education should be based on enrolment of the relevant age group in all types of schools and education institutions, including public, private and all other institutions that provide organized educational programmes.<br><br>\n",
    "\n",
    "Topic: <b>Pupil-teacher ratio in secondary education (headcount basis)</b> <br>\n",
    "Description: <br>\n",
    "Average number of pupils per teacher at a given level of education, based on headcounts of both pupils and teachers. Divide the total number of pupils enrolled at the specified level of education by the number of teachers at the same level. In computing and interpreting this indicator, one should take into account the existence of part-time teaching, school-shifts, multi-grade classes and other practices that may affect the precision and meaningfulness of pupil-teacher ratios. When feasible, the number of part-time teachers is converted to â€˜full-time equivalentâ€™ teachers; a double-shift teacher is counted twice, etc. Teachers are defined as persons whose professional activity involves the transmitting of knowledge, attitudes and skills that are stipulated in a formal curriculum programme to students enrolled in a formal educational institution."
   ]
  },
  {
   "cell_type": "code",
   "execution_count": 1,
   "metadata": {
    "collapsed": false
   },
   "outputs": [
    {
     "data": {
      "text/html": [
       "\n",
       "    <div class=\"bk-banner\">\n",
       "        <a href=\"http://bokeh.pydata.org\" target=\"_blank\" class=\"bk-logo bk-logo-small bk-logo-notebook\"></a>\n",
       "        <span id=\"d3fb4394-6d4c-4e4f-829c-a25e14e2fd42\">Loading BokehJS ...</span>\n",
       "    </div>"
      ]
     },
     "metadata": {},
     "output_type": "display_data"
    },
    {
     "data": {
      "application/javascript": [
       "\n",
       "(function(global) {\n",
       "  function now() {\n",
       "    return new Date();\n",
       "  }\n",
       "\n",
       "  if (typeof (window._bokeh_onload_callbacks) === \"undefined\") {\n",
       "    window._bokeh_onload_callbacks = [];\n",
       "  }\n",
       "\n",
       "  function run_callbacks() {\n",
       "    window._bokeh_onload_callbacks.forEach(function(callback) { callback() });\n",
       "    delete window._bokeh_onload_callbacks\n",
       "    console.info(\"Bokeh: all callbacks have finished\");\n",
       "  }\n",
       "\n",
       "  function load_libs(js_urls, callback) {\n",
       "    window._bokeh_onload_callbacks.push(callback);\n",
       "    if (window._bokeh_is_loading > 0) {\n",
       "      console.log(\"Bokeh: BokehJS is being loaded, scheduling callback at\", now());\n",
       "      return null;\n",
       "    }\n",
       "    if (js_urls == null || js_urls.length === 0) {\n",
       "      run_callbacks();\n",
       "      return null;\n",
       "    }\n",
       "    console.log(\"Bokeh: BokehJS not loaded, scheduling load and callback at\", now());\n",
       "    window._bokeh_is_loading = js_urls.length;\n",
       "    for (var i = 0; i < js_urls.length; i++) {\n",
       "      var url = js_urls[i];\n",
       "      var s = document.createElement('script');\n",
       "      s.src = url;\n",
       "      s.async = false;\n",
       "      s.onreadystatechange = s.onload = function() {\n",
       "        window._bokeh_is_loading--;\n",
       "        if (window._bokeh_is_loading === 0) {\n",
       "          console.log(\"Bokeh: all BokehJS libraries loaded\");\n",
       "          run_callbacks()\n",
       "        }\n",
       "      };\n",
       "      s.onerror = function() {\n",
       "        console.warn(\"failed to load library \" + url);\n",
       "      };\n",
       "      console.log(\"Bokeh: injecting script tag for BokehJS library: \", url);\n",
       "      document.getElementsByTagName(\"head\")[0].appendChild(s);\n",
       "    }\n",
       "  };\n",
       "\n",
       "  var js_urls = ['https://cdn.pydata.org/bokeh/release/bokeh-0.11.1.min.js', 'https://cdn.pydata.org/bokeh/release/bokeh-widgets-0.11.1.min.js', 'https://cdn.pydata.org/bokeh/release/bokeh-compiler-0.11.1.min.js'];\n",
       "\n",
       "  var inline_js = [\n",
       "    function(Bokeh) {\n",
       "      Bokeh.set_log_level(\"info\");\n",
       "    },\n",
       "    \n",
       "    function(Bokeh) {\n",
       "      Bokeh.$(\"#d3fb4394-6d4c-4e4f-829c-a25e14e2fd42\").text(\"BokehJS successfully loaded\");\n",
       "    },\n",
       "    function(Bokeh) {\n",
       "      console.log(\"Bokeh: injecting CSS: https://cdn.pydata.org/bokeh/release/bokeh-0.11.1.min.css\");\n",
       "      Bokeh.embed.inject_css(\"https://cdn.pydata.org/bokeh/release/bokeh-0.11.1.min.css\");\n",
       "      console.log(\"Bokeh: injecting CSS: https://cdn.pydata.org/bokeh/release/bokeh-widgets-0.11.1.min.css\");\n",
       "      Bokeh.embed.inject_css(\"https://cdn.pydata.org/bokeh/release/bokeh-widgets-0.11.1.min.css\");\n",
       "    }\n",
       "  ];\n",
       "\n",
       "  function run_inline_js() {\n",
       "    for (var i = 0; i < inline_js.length; i++) {\n",
       "      inline_js[i](window.Bokeh);\n",
       "    }\n",
       "  }\n",
       "\n",
       "  if (window._bokeh_is_loading === 0) {\n",
       "    console.log(\"Bokeh: BokehJS loaded, going straight to plotting\");\n",
       "    run_inline_js();\n",
       "  } else {\n",
       "    load_libs(js_urls, function() {\n",
       "      console.log(\"Bokeh: BokehJS plotting callback run at\", now());\n",
       "      run_inline_js();\n",
       "    });\n",
       "  }\n",
       "}(this));"
      ]
     },
     "metadata": {},
     "output_type": "display_data"
    }
   ],
   "source": [
    "# Import packages necessary to access data and do initial preprocessing\n",
    "\n",
    "import numpy as np\n",
    "import pandas as pd\n",
    "from sklearn.preprocessing import StandardScaler\n",
    "from sklearn.cluster import KMeans\n",
    "from sklearn.neighbors import KNeighborsClassifier\n",
    "from sklearn.linear_model import LogisticRegression\n",
    "from sklearn.cross_validation import cross_val_score\n",
    "import sklearn.tree\n",
    "import sklearn.ensemble\n",
    "from sklearn.metrics import silhouette_samples, silhouette_score\n",
    "\n",
    "\n",
    "import matplotlib.pyplot as plt\n",
    "from pandas.tools.plotting import scatter_matrix\n",
    "from bokeh.plotting import figure,show,output_notebook\n",
    "from bokeh.models import Range1d\n",
    "from bokeh.charts import Bar, output_file, show\n",
    "output_notebook()\n",
    "%matplotlib inline"
   ]
  },
  {
   "cell_type": "code",
   "execution_count": 2,
   "metadata": {
    "collapsed": true
   },
   "outputs": [],
   "source": [
    "# Data to be evaluated/manipulated/preprocessed\n",
    "education_data = pd.read_csv('Data_Extract_From_Education_Statistics_-_All_Indicators_Data.csv')"
   ]
  },
  {
   "cell_type": "code",
   "execution_count": 3,
   "metadata": {
    "collapsed": false
   },
   "outputs": [
    {
     "data": {
      "text/html": [
       "<div>\n",
       "<table border=\"1\" class=\"dataframe\">\n",
       "  <thead>\n",
       "    <tr style=\"text-align: right;\">\n",
       "      <th></th>\n",
       "      <th>﻿Country</th>\n",
       "      <th>Country Code</th>\n",
       "      <th>Series</th>\n",
       "      <th>Series Code</th>\n",
       "      <th>2011 [YR2011]</th>\n",
       "    </tr>\n",
       "  </thead>\n",
       "  <tbody>\n",
       "    <tr>\n",
       "      <th>0</th>\n",
       "      <td>Afghanistan</td>\n",
       "      <td>AFG</td>\n",
       "      <td>Adjusted net enrolment rate, lower secondary, ...</td>\n",
       "      <td>UIS.NERA.2</td>\n",
       "      <td>..</td>\n",
       "    </tr>\n",
       "    <tr>\n",
       "      <th>1</th>\n",
       "      <td>Afghanistan</td>\n",
       "      <td>AFG</td>\n",
       "      <td>Adjusted net enrolment rate, lower secondary, ...</td>\n",
       "      <td>UIS.NERA.2.F</td>\n",
       "      <td>..</td>\n",
       "    </tr>\n",
       "    <tr>\n",
       "      <th>2</th>\n",
       "      <td>Afghanistan</td>\n",
       "      <td>AFG</td>\n",
       "      <td>Adjusted net enrolment rate, lower secondary, ...</td>\n",
       "      <td>UIS.NERA.2.GPI</td>\n",
       "      <td>..</td>\n",
       "    </tr>\n",
       "    <tr>\n",
       "      <th>3</th>\n",
       "      <td>Afghanistan</td>\n",
       "      <td>AFG</td>\n",
       "      <td>Adjusted net enrolment rate, lower secondary, ...</td>\n",
       "      <td>UIS.NERA.2.M</td>\n",
       "      <td>..</td>\n",
       "    </tr>\n",
       "    <tr>\n",
       "      <th>4</th>\n",
       "      <td>Afghanistan</td>\n",
       "      <td>AFG</td>\n",
       "      <td>Adjusted net enrolment rate, primary, both sex...</td>\n",
       "      <td>SE.PRM.TENR</td>\n",
       "      <td>..</td>\n",
       "    </tr>\n",
       "  </tbody>\n",
       "</table>\n",
       "</div>"
      ],
      "text/plain": [
       "      ﻿Country Country Code  \\\n",
       "0  Afghanistan          AFG   \n",
       "1  Afghanistan          AFG   \n",
       "2  Afghanistan          AFG   \n",
       "3  Afghanistan          AFG   \n",
       "4  Afghanistan          AFG   \n",
       "\n",
       "                                              Series     Series Code  \\\n",
       "0  Adjusted net enrolment rate, lower secondary, ...      UIS.NERA.2   \n",
       "1  Adjusted net enrolment rate, lower secondary, ...    UIS.NERA.2.F   \n",
       "2  Adjusted net enrolment rate, lower secondary, ...  UIS.NERA.2.GPI   \n",
       "3  Adjusted net enrolment rate, lower secondary, ...    UIS.NERA.2.M   \n",
       "4  Adjusted net enrolment rate, primary, both sex...     SE.PRM.TENR   \n",
       "\n",
       "  2011 [YR2011]  \n",
       "0            ..  \n",
       "1            ..  \n",
       "2            ..  \n",
       "3            ..  \n",
       "4            ..  "
      ]
     },
     "execution_count": 3,
     "metadata": {},
     "output_type": "execute_result"
    }
   ],
   "source": [
    "education_data.head()"
   ]
  },
  {
   "cell_type": "code",
   "execution_count": 4,
   "metadata": {
    "collapsed": true
   },
   "outputs": [],
   "source": [
    "education_index = (\n",
    "    education_data.loc[\n",
    "        education_data[\n",
    "            'Series'\n",
    "        ].isin(\n",
    "            [\n",
    "            'All staff compensation as % of total expenditure in secondary public institutions (%)',\n",
    "            'Duration of compulsory education (years)',\n",
    "            'Expenditure on education as % of total government expenditure (%)',\n",
    "            'Expenditure on secondary as % of government expenditure on education (%)',\n",
    "            'Expenditure on secondary as % of total government expenditure (%)',\n",
    "            'Government expenditure in educational institutions as % of GDP (%)',\n",
    "            'Government expenditure in secondary institutions education as % of GDP (%)',\n",
    "            'Government expenditure on education as % of GDP (%)',\n",
    "            'Net enrolment rate, secondary, both sexes (%)',\n",
    "            'Pupil-teacher ratio in secondary education (headcount basis)'                \n",
    "            ]\n",
    "        )\n",
    "    ]\n",
    ")"
   ]
  },
  {
   "cell_type": "code",
   "execution_count": 5,
   "metadata": {
    "collapsed": false
   },
   "outputs": [
    {
     "data": {
      "text/html": [
       "<div>\n",
       "<table border=\"1\" class=\"dataframe\">\n",
       "  <thead>\n",
       "    <tr style=\"text-align: right;\">\n",
       "      <th></th>\n",
       "      <th>﻿Country</th>\n",
       "      <th>Country Code</th>\n",
       "      <th>Series</th>\n",
       "      <th>Series Code</th>\n",
       "      <th>2011 [YR2011]</th>\n",
       "    </tr>\n",
       "  </thead>\n",
       "  <tbody>\n",
       "    <tr>\n",
       "      <th>130</th>\n",
       "      <td>Afghanistan</td>\n",
       "      <td>AFG</td>\n",
       "      <td>All staff compensation as % of total expenditu...</td>\n",
       "      <td>UIS.XSPENDP.23.FDPUB.FNS</td>\n",
       "      <td>..</td>\n",
       "    </tr>\n",
       "    <tr>\n",
       "      <th>705</th>\n",
       "      <td>Afghanistan</td>\n",
       "      <td>AFG</td>\n",
       "      <td>Duration of compulsory education (years)</td>\n",
       "      <td>SE.COM.DURS</td>\n",
       "      <td>9</td>\n",
       "    </tr>\n",
       "    <tr>\n",
       "      <th>1215</th>\n",
       "      <td>Afghanistan</td>\n",
       "      <td>AFG</td>\n",
       "      <td>Expenditure on education as % of total governm...</td>\n",
       "      <td>SE.XPD.TOTL.GB.ZS</td>\n",
       "      <td>19.1058502197266</td>\n",
       "    </tr>\n",
       "    <tr>\n",
       "      <th>1225</th>\n",
       "      <td>Afghanistan</td>\n",
       "      <td>AFG</td>\n",
       "      <td>Expenditure on secondary as % of government ex...</td>\n",
       "      <td>SE.XPD.SECO.ZS</td>\n",
       "      <td>..</td>\n",
       "    </tr>\n",
       "    <tr>\n",
       "      <th>1226</th>\n",
       "      <td>Afghanistan</td>\n",
       "      <td>AFG</td>\n",
       "      <td>Expenditure on secondary as % of total governm...</td>\n",
       "      <td>UIS.XGOVEXP.IMF.23</td>\n",
       "      <td>..</td>\n",
       "    </tr>\n",
       "  </tbody>\n",
       "</table>\n",
       "</div>"
      ],
      "text/plain": [
       "         ﻿Country Country Code  \\\n",
       "130   Afghanistan          AFG   \n",
       "705   Afghanistan          AFG   \n",
       "1215  Afghanistan          AFG   \n",
       "1225  Afghanistan          AFG   \n",
       "1226  Afghanistan          AFG   \n",
       "\n",
       "                                                 Series  \\\n",
       "130   All staff compensation as % of total expenditu...   \n",
       "705            Duration of compulsory education (years)   \n",
       "1215  Expenditure on education as % of total governm...   \n",
       "1225  Expenditure on secondary as % of government ex...   \n",
       "1226  Expenditure on secondary as % of total governm...   \n",
       "\n",
       "                   Series Code     2011 [YR2011]  \n",
       "130   UIS.XSPENDP.23.FDPUB.FNS                ..  \n",
       "705                SE.COM.DURS                 9  \n",
       "1215         SE.XPD.TOTL.GB.ZS  19.1058502197266  \n",
       "1225            SE.XPD.SECO.ZS                ..  \n",
       "1226        UIS.XGOVEXP.IMF.23                ..  "
      ]
     },
     "execution_count": 5,
     "metadata": {},
     "output_type": "execute_result"
    }
   ],
   "source": [
    "education_index.head()"
   ]
  },
  {
   "cell_type": "code",
   "execution_count": 6,
   "metadata": {
    "collapsed": false,
    "scrolled": true
   },
   "outputs": [],
   "source": [
    "# Remove missing values\n",
    "education_index = education_index[education_index['2011 [YR2011]']<>'..']"
   ]
  },
  {
   "cell_type": "code",
   "execution_count": 7,
   "metadata": {
    "collapsed": false
   },
   "outputs": [],
   "source": [
    "education_index.drop(['Country Code','Series Code'],axis=1,inplace=True)"
   ]
  },
  {
   "cell_type": "code",
   "execution_count": 8,
   "metadata": {
    "collapsed": false
   },
   "outputs": [],
   "source": [
    "education_index.columns = ['Country','Feature','Feature Value']\n",
    "education_index_pivot = education_index.pivot(index='Country', columns='Feature', values='Feature Value')\n",
    "education_index_reset = education_index_pivot.dropna().reset_index()"
   ]
  },
  {
   "cell_type": "code",
   "execution_count": 9,
   "metadata": {
    "collapsed": false,
    "scrolled": true
   },
   "outputs": [
    {
     "data": {
      "text/html": [
       "<div>\n",
       "<table border=\"1\" class=\"dataframe\">\n",
       "  <thead>\n",
       "    <tr style=\"text-align: right;\">\n",
       "      <th>Feature</th>\n",
       "      <th>Country</th>\n",
       "      <th>All staff compensation as % of total expenditure in secondary public institutions (%)</th>\n",
       "      <th>Duration of compulsory education (years)</th>\n",
       "      <th>Expenditure on education as % of total government expenditure (%)</th>\n",
       "      <th>Expenditure on secondary as % of government expenditure on education (%)</th>\n",
       "      <th>Expenditure on secondary as % of total government expenditure (%)</th>\n",
       "      <th>Government expenditure in educational institutions as % of GDP (%)</th>\n",
       "      <th>Government expenditure in secondary institutions education as % of GDP (%)</th>\n",
       "      <th>Government expenditure on education as % of GDP (%)</th>\n",
       "      <th>Net enrolment rate, secondary, both sexes (%)</th>\n",
       "      <th>Pupil-teacher ratio in secondary education (headcount basis)</th>\n",
       "    </tr>\n",
       "  </thead>\n",
       "  <tbody>\n",
       "    <tr>\n",
       "      <th>0</th>\n",
       "      <td>Bulgaria</td>\n",
       "      <td>70.2788391113281</td>\n",
       "      <td>9</td>\n",
       "      <td>11.1000499725342</td>\n",
       "      <td>41.4084091186523</td>\n",
       "      <td>4.59635019302368</td>\n",
       "      <td>3.04402995109558</td>\n",
       "      <td>1.25155997276306</td>\n",
       "      <td>3.66866993904114</td>\n",
       "      <td>85.2456436157227</td>\n",
       "      <td>12.297739982605</td>\n",
       "    </tr>\n",
       "    <tr>\n",
       "      <th>1</th>\n",
       "      <td>Burkina Faso</td>\n",
       "      <td>59.7685394287109</td>\n",
       "      <td>10</td>\n",
       "      <td>20.3136405944824</td>\n",
       "      <td>19.0634803771973</td>\n",
       "      <td>3.87248992919922</td>\n",
       "      <td>4.30073976516724</td>\n",
       "      <td>0.845690011978149</td>\n",
       "      <td>4.47012996673584</td>\n",
       "      <td>18.4462394714355</td>\n",
       "      <td>26.4881401062012</td>\n",
       "    </tr>\n",
       "    <tr>\n",
       "      <th>2</th>\n",
       "      <td>Colombia</td>\n",
       "      <td>90.3166885375977</td>\n",
       "      <td>10</td>\n",
       "      <td>15.5291404724121</td>\n",
       "      <td>36.2583885192871</td>\n",
       "      <td>5.63062000274658</td>\n",
       "      <td>4.24277019500732</td>\n",
       "      <td>1.56815004348755</td>\n",
       "      <td>4.45980978012085</td>\n",
       "      <td>75.6345596313477</td>\n",
       "      <td>25.5813694000244</td>\n",
       "    </tr>\n",
       "    <tr>\n",
       "      <th>3</th>\n",
       "      <td>Cyprus</td>\n",
       "      <td>86.4166107177734</td>\n",
       "      <td>9</td>\n",
       "      <td>15.5367097854614</td>\n",
       "      <td>42.6022300720215</td>\n",
       "      <td>6.61897993087769</td>\n",
       "      <td>6.67362022399902</td>\n",
       "      <td>2.99753999710083</td>\n",
       "      <td>7.2425799369812</td>\n",
       "      <td>89.6834182739258</td>\n",
       "      <td>9.72688007354736</td>\n",
       "    </tr>\n",
       "    <tr>\n",
       "      <th>4</th>\n",
       "      <td>Ecuador</td>\n",
       "      <td>47.2555618286133</td>\n",
       "      <td>15</td>\n",
       "      <td>10.9646701812744</td>\n",
       "      <td>39.7605285644531</td>\n",
       "      <td>4.35961008071899</td>\n",
       "      <td>4.28348016738892</td>\n",
       "      <td>1.71548998355865</td>\n",
       "      <td>4.31454992294312</td>\n",
       "      <td>72.1840362548828</td>\n",
       "      <td>10.9397296905518</td>\n",
       "    </tr>\n",
       "  </tbody>\n",
       "</table>\n",
       "</div>"
      ],
      "text/plain": [
       "Feature       Country  \\\n",
       "0            Bulgaria   \n",
       "1        Burkina Faso   \n",
       "2            Colombia   \n",
       "3              Cyprus   \n",
       "4             Ecuador   \n",
       "\n",
       "Feature All staff compensation as % of total expenditure in secondary public institutions (%)  \\\n",
       "0                                         70.2788391113281                                      \n",
       "1                                         59.7685394287109                                      \n",
       "2                                         90.3166885375977                                      \n",
       "3                                         86.4166107177734                                      \n",
       "4                                         47.2555618286133                                      \n",
       "\n",
       "Feature Duration of compulsory education (years)  \\\n",
       "0                                              9   \n",
       "1                                             10   \n",
       "2                                             10   \n",
       "3                                              9   \n",
       "4                                             15   \n",
       "\n",
       "Feature Expenditure on education as % of total government expenditure (%)  \\\n",
       "0                                         11.1000499725342                  \n",
       "1                                         20.3136405944824                  \n",
       "2                                         15.5291404724121                  \n",
       "3                                         15.5367097854614                  \n",
       "4                                         10.9646701812744                  \n",
       "\n",
       "Feature Expenditure on secondary as % of government expenditure on education (%)  \\\n",
       "0                                         41.4084091186523                         \n",
       "1                                         19.0634803771973                         \n",
       "2                                         36.2583885192871                         \n",
       "3                                         42.6022300720215                         \n",
       "4                                         39.7605285644531                         \n",
       "\n",
       "Feature Expenditure on secondary as % of total government expenditure (%)  \\\n",
       "0                                         4.59635019302368                  \n",
       "1                                         3.87248992919922                  \n",
       "2                                         5.63062000274658                  \n",
       "3                                         6.61897993087769                  \n",
       "4                                         4.35961008071899                  \n",
       "\n",
       "Feature Government expenditure in educational institutions as % of GDP (%)  \\\n",
       "0                                         3.04402995109558                   \n",
       "1                                         4.30073976516724                   \n",
       "2                                         4.24277019500732                   \n",
       "3                                         6.67362022399902                   \n",
       "4                                         4.28348016738892                   \n",
       "\n",
       "Feature Government expenditure in secondary institutions education as % of GDP (%)  \\\n",
       "0                                         1.25155997276306                           \n",
       "1                                        0.845690011978149                           \n",
       "2                                         1.56815004348755                           \n",
       "3                                         2.99753999710083                           \n",
       "4                                         1.71548998355865                           \n",
       "\n",
       "Feature Government expenditure on education as % of GDP (%)  \\\n",
       "0                                         3.66866993904114    \n",
       "1                                         4.47012996673584    \n",
       "2                                         4.45980978012085    \n",
       "3                                          7.2425799369812    \n",
       "4                                         4.31454992294312    \n",
       "\n",
       "Feature Net enrolment rate, secondary, both sexes (%)  \\\n",
       "0                                    85.2456436157227   \n",
       "1                                    18.4462394714355   \n",
       "2                                    75.6345596313477   \n",
       "3                                    89.6834182739258   \n",
       "4                                    72.1840362548828   \n",
       "\n",
       "Feature Pupil-teacher ratio in secondary education (headcount basis)  \n",
       "0                                          12.297739982605            \n",
       "1                                         26.4881401062012            \n",
       "2                                         25.5813694000244            \n",
       "3                                         9.72688007354736            \n",
       "4                                         10.9397296905518            "
      ]
     },
     "execution_count": 9,
     "metadata": {},
     "output_type": "execute_result"
    }
   ],
   "source": [
    "education_index_reset.head()"
   ]
  },
  {
   "cell_type": "code",
   "execution_count": 10,
   "metadata": {
    "collapsed": false
   },
   "outputs": [
    {
     "data": {
      "text/plain": [
       "pandas.core.frame.DataFrame"
      ]
     },
     "execution_count": 10,
     "metadata": {},
     "output_type": "execute_result"
    }
   ],
   "source": [
    "type(education_index_reset)"
   ]
  },
  {
   "cell_type": "code",
   "execution_count": 11,
   "metadata": {
    "collapsed": false
   },
   "outputs": [],
   "source": [
    "education_index_array = education_index_reset.as_matrix()"
   ]
  },
  {
   "cell_type": "code",
   "execution_count": 12,
   "metadata": {
    "collapsed": false
   },
   "outputs": [
    {
     "data": {
      "text/plain": [
       "numpy.ndarray"
      ]
     },
     "execution_count": 12,
     "metadata": {},
     "output_type": "execute_result"
    }
   ],
   "source": [
    "type(education_index_array)"
   ]
  },
  {
   "cell_type": "code",
   "execution_count": 13,
   "metadata": {
    "collapsed": false
   },
   "outputs": [
    {
     "name": "stderr",
     "output_type": "stream",
     "text": [
      "//anaconda/lib/python2.7/site-packages/sklearn/utils/validation.py:420: DataConversionWarning: Data with input dtype object was converted to float64 by StandardScaler.\n",
      "  warnings.warn(msg, DataConversionWarning)\n",
      "//anaconda/lib/python2.7/site-packages/sklearn/utils/validation.py:420: DataConversionWarning: Data with input dtype object was converted to float64 by StandardScaler.\n",
      "  warnings.warn(msg, DataConversionWarning)\n"
     ]
    }
   ],
   "source": [
    "X_index = education_index_array[:,1:]\n",
    "scaler_index = StandardScaler()\n",
    "features_normalized_index = scaler_index.fit_transform(X_index)"
   ]
  },
  {
   "cell_type": "code",
   "execution_count": 14,
   "metadata": {
    "collapsed": false
   },
   "outputs": [
    {
     "data": {
      "text/plain": [
       "KMeans(copy_x=True, init='k-means++', max_iter=300, n_clusters=5, n_init=10,\n",
       "    n_jobs=1, precompute_distances='auto', random_state=None, tol=0.0001,\n",
       "    verbose=0)"
      ]
     },
     "execution_count": 14,
     "metadata": {},
     "output_type": "execute_result"
    }
   ],
   "source": [
    "km_index = KMeans(5)\n",
    "km_index.fit(features_normalized_index)"
   ]
  },
  {
   "cell_type": "code",
   "execution_count": 15,
   "metadata": {
    "collapsed": false,
    "scrolled": true
   },
   "outputs": [
    {
     "name": "stdout",
     "output_type": "stream",
     "text": [
      "[0 2 3 4 1 1 1 2 0 1 0 3 0 1 3 3 3 4 1 0 1 0 1 1 1 3 1]\n",
      "[[-0.07383728 -0.32673072 -0.42862594 -0.34998014 -0.66072969 -1.03008469\n",
      "  -0.9505244  -1.09218993  0.39842104 -0.08984918]\n",
      " [-0.39784222  0.61974476 -0.74936896  0.55159018 -0.38598644  0.22711956\n",
      "   0.4213759   0.2462411   0.54907713 -0.65172218]\n",
      " [ 0.1610216  -0.72410592  0.74886628 -2.04299029 -0.97362987 -1.0889446\n",
      "  -1.50775684 -0.95947866 -2.6946034   2.35630368]\n",
      " [ 0.54886603 -0.4856808   1.1841491  -0.22860446  1.05334218  0.20481244\n",
      "  -0.06497033  0.20377922 -0.5929625   0.76450688]\n",
      " [ 0.60202434 -0.24725568  1.10609347  0.74499811  1.91871785  2.31560376\n",
      "   2.23667355  2.27038477  0.25830356 -0.79580476]]\n"
     ]
    }
   ],
   "source": [
    "labels_index = km_index.labels_\n",
    "centers_index = km_index.cluster_centers_\n",
    "print labels_index\n",
    "print centers_index"
   ]
  },
  {
   "cell_type": "code",
   "execution_count": 16,
   "metadata": {
    "collapsed": false
   },
   "outputs": [],
   "source": [
    "targets_index = labels_index.T"
   ]
  },
  {
   "cell_type": "code",
   "execution_count": 17,
   "metadata": {
    "collapsed": false
   },
   "outputs": [],
   "source": [
    "targets_index = pd.DataFrame(targets_index)"
   ]
  },
  {
   "cell_type": "code",
   "execution_count": 18,
   "metadata": {
    "collapsed": false
   },
   "outputs": [],
   "source": [
    "targets_index.columns = ['class_labels']"
   ]
  },
  {
   "cell_type": "code",
   "execution_count": 19,
   "metadata": {
    "collapsed": false
   },
   "outputs": [
    {
     "data": {
      "text/html": [
       "<div>\n",
       "<table border=\"1\" class=\"dataframe\">\n",
       "  <thead>\n",
       "    <tr style=\"text-align: right;\">\n",
       "      <th></th>\n",
       "      <th>class_labels</th>\n",
       "    </tr>\n",
       "  </thead>\n",
       "  <tbody>\n",
       "    <tr>\n",
       "      <th>0</th>\n",
       "      <td>0</td>\n",
       "    </tr>\n",
       "    <tr>\n",
       "      <th>1</th>\n",
       "      <td>2</td>\n",
       "    </tr>\n",
       "    <tr>\n",
       "      <th>2</th>\n",
       "      <td>3</td>\n",
       "    </tr>\n",
       "    <tr>\n",
       "      <th>3</th>\n",
       "      <td>4</td>\n",
       "    </tr>\n",
       "    <tr>\n",
       "      <th>4</th>\n",
       "      <td>1</td>\n",
       "    </tr>\n",
       "  </tbody>\n",
       "</table>\n",
       "</div>"
      ],
      "text/plain": [
       "   class_labels\n",
       "0             0\n",
       "1             2\n",
       "2             3\n",
       "3             4\n",
       "4             1"
      ]
     },
     "execution_count": 19,
     "metadata": {},
     "output_type": "execute_result"
    }
   ],
   "source": [
    "targets_index.head()"
   ]
  },
  {
   "cell_type": "code",
   "execution_count": 20,
   "metadata": {
    "collapsed": false
   },
   "outputs": [
    {
     "data": {
      "text/plain": [
       "array([[-0.07383728, -0.32673072, -0.42862594, -0.34998014, -0.66072969,\n",
       "        -1.03008469, -0.9505244 , -1.09218993,  0.39842104, -0.08984918],\n",
       "       [-0.39784222,  0.61974476, -0.74936896,  0.55159018, -0.38598644,\n",
       "         0.22711956,  0.4213759 ,  0.2462411 ,  0.54907713, -0.65172218],\n",
       "       [ 0.1610216 , -0.72410592,  0.74886628, -2.04299029, -0.97362987,\n",
       "        -1.0889446 , -1.50775684, -0.95947866, -2.6946034 ,  2.35630368],\n",
       "       [ 0.54886603, -0.4856808 ,  1.1841491 , -0.22860446,  1.05334218,\n",
       "         0.20481244, -0.06497033,  0.20377922, -0.5929625 ,  0.76450688],\n",
       "       [ 0.60202434, -0.24725568,  1.10609347,  0.74499811,  1.91871785,\n",
       "         2.31560376,  2.23667355,  2.27038477,  0.25830356, -0.79580476]])"
      ]
     },
     "execution_count": 20,
     "metadata": {},
     "output_type": "execute_result"
    }
   ],
   "source": [
    "centers_index"
   ]
  },
  {
   "cell_type": "code",
   "execution_count": 21,
   "metadata": {
    "collapsed": true
   },
   "outputs": [],
   "source": [
    "features_normalized_index = pd.DataFrame(features_normalized_index)"
   ]
  },
  {
   "cell_type": "code",
   "execution_count": 22,
   "metadata": {
    "collapsed": false
   },
   "outputs": [],
   "source": [
    "education_with_classes = features_normalized_index.join(targets_index)"
   ]
  },
  {
   "cell_type": "code",
   "execution_count": 23,
   "metadata": {
    "collapsed": false
   },
   "outputs": [],
   "source": [
    "education_with_classes.columns = [\n",
    "    'All staff compensation as % of total expenditure in secondary public institutions (%)',\n",
    "    'Duration of compulsory education (years)',\n",
    "    'Expenditure on education as % of total government expenditure (%)',\n",
    "    'Expenditure on secondary as % of government expenditure on education (%)',\n",
    "    'Expenditure on secondary as % of total government expenditure (%)',\n",
    "    'Government expenditure in educational institutions as % of GDP (%)',\n",
    "    'Government expenditure in secondary institutions education as % of GDP (%)',\n",
    "    'Government expenditure on education as % of GDP (%)',\n",
    "    'Net enrolment rate, secondary, both sexes (%)',\n",
    "    'Pupil-teacher ratio in secondary education (headcount basis)',\n",
    "    'class_labels'\n",
    "]"
   ]
  },
  {
   "cell_type": "code",
   "execution_count": 24,
   "metadata": {
    "collapsed": false
   },
   "outputs": [],
   "source": [
    "countries = education_index_reset[['Country']]"
   ]
  },
  {
   "cell_type": "code",
   "execution_count": 25,
   "metadata": {
    "collapsed": true
   },
   "outputs": [],
   "source": [
    "education_with_countries = countries.join(education_with_classes)"
   ]
  },
  {
   "cell_type": "code",
   "execution_count": 26,
   "metadata": {
    "collapsed": false,
    "scrolled": true
   },
   "outputs": [
    {
     "data": {
      "image/png": "[encoded data removed]",
      "text/plain": [
       "<matplotlib.figure.Figure at 0x113d53510>"
      ]
     },
     "metadata": {},
     "output_type": "display_data"
    }
   ],
   "source": [
    "scat = scatter_matrix(education_with_countries, figsize = (30,30))"
   ]
  },
  {
   "cell_type": "code",
   "execution_count": 27,
   "metadata": {
    "collapsed": false
   },
   "outputs": [
    {
     "data": {
      "text/html": [
       "<div>\n",
       "<table border=\"1\" class=\"dataframe\">\n",
       "  <thead>\n",
       "    <tr style=\"text-align: right;\">\n",
       "      <th>Feature</th>\n",
       "      <th>Country</th>\n",
       "      <th>class_labels</th>\n",
       "    </tr>\n",
       "  </thead>\n",
       "  <tbody>\n",
       "    <tr>\n",
       "      <th>0</th>\n",
       "      <td>Bulgaria</td>\n",
       "      <td>0</td>\n",
       "    </tr>\n",
       "    <tr>\n",
       "      <th>1</th>\n",
       "      <td>Burkina Faso</td>\n",
       "      <td>2</td>\n",
       "    </tr>\n",
       "    <tr>\n",
       "      <th>2</th>\n",
       "      <td>Colombia</td>\n",
       "      <td>3</td>\n",
       "    </tr>\n",
       "    <tr>\n",
       "      <th>3</th>\n",
       "      <td>Cyprus</td>\n",
       "      <td>4</td>\n",
       "    </tr>\n",
       "    <tr>\n",
       "      <th>4</th>\n",
       "      <td>Ecuador</td>\n",
       "      <td>1</td>\n",
       "    </tr>\n",
       "    <tr>\n",
       "      <th>5</th>\n",
       "      <td>Finland</td>\n",
       "      <td>1</td>\n",
       "    </tr>\n",
       "    <tr>\n",
       "      <th>6</th>\n",
       "      <td>France</td>\n",
       "      <td>1</td>\n",
       "    </tr>\n",
       "    <tr>\n",
       "      <th>7</th>\n",
       "      <td>Guinea</td>\n",
       "      <td>2</td>\n",
       "    </tr>\n",
       "    <tr>\n",
       "      <th>8</th>\n",
       "      <td>Guyana</td>\n",
       "      <td>0</td>\n",
       "    </tr>\n",
       "    <tr>\n",
       "      <th>9</th>\n",
       "      <td>Hungary</td>\n",
       "      <td>1</td>\n",
       "    </tr>\n",
       "    <tr>\n",
       "      <th>10</th>\n",
       "      <td>Indonesia</td>\n",
       "      <td>0</td>\n",
       "    </tr>\n",
       "    <tr>\n",
       "      <th>11</th>\n",
       "      <td>Jamaica</td>\n",
       "      <td>3</td>\n",
       "    </tr>\n",
       "    <tr>\n",
       "      <th>12</th>\n",
       "      <td>Japan</td>\n",
       "      <td>0</td>\n",
       "    </tr>\n",
       "    <tr>\n",
       "      <th>13</th>\n",
       "      <td>Latvia</td>\n",
       "      <td>1</td>\n",
       "    </tr>\n",
       "    <tr>\n",
       "      <th>14</th>\n",
       "      <td>Malaysia</td>\n",
       "      <td>3</td>\n",
       "    </tr>\n",
       "    <tr>\n",
       "      <th>15</th>\n",
       "      <td>Mali</td>\n",
       "      <td>3</td>\n",
       "    </tr>\n",
       "    <tr>\n",
       "      <th>16</th>\n",
       "      <td>Mexico</td>\n",
       "      <td>3</td>\n",
       "    </tr>\n",
       "    <tr>\n",
       "      <th>17</th>\n",
       "      <td>Moldova</td>\n",
       "      <td>4</td>\n",
       "    </tr>\n",
       "    <tr>\n",
       "      <th>18</th>\n",
       "      <td>Netherlands</td>\n",
       "      <td>1</td>\n",
       "    </tr>\n",
       "    <tr>\n",
       "      <th>19</th>\n",
       "      <td>Peru</td>\n",
       "      <td>0</td>\n",
       "    </tr>\n",
       "    <tr>\n",
       "      <th>20</th>\n",
       "      <td>Poland</td>\n",
       "      <td>1</td>\n",
       "    </tr>\n",
       "    <tr>\n",
       "      <th>21</th>\n",
       "      <td>Serbia</td>\n",
       "      <td>0</td>\n",
       "    </tr>\n",
       "    <tr>\n",
       "      <th>22</th>\n",
       "      <td>Slovenia</td>\n",
       "      <td>1</td>\n",
       "    </tr>\n",
       "    <tr>\n",
       "      <th>23</th>\n",
       "      <td>Spain</td>\n",
       "      <td>1</td>\n",
       "    </tr>\n",
       "    <tr>\n",
       "      <th>24</th>\n",
       "      <td>Sweden</td>\n",
       "      <td>1</td>\n",
       "    </tr>\n",
       "    <tr>\n",
       "      <th>25</th>\n",
       "      <td>Thailand</td>\n",
       "      <td>3</td>\n",
       "    </tr>\n",
       "    <tr>\n",
       "      <th>26</th>\n",
       "      <td>United States</td>\n",
       "      <td>1</td>\n",
       "    </tr>\n",
       "  </tbody>\n",
       "</table>\n",
       "</div>"
      ],
      "text/plain": [
       "Feature        Country  class_labels\n",
       "0             Bulgaria             0\n",
       "1         Burkina Faso             2\n",
       "2             Colombia             3\n",
       "3               Cyprus             4\n",
       "4              Ecuador             1\n",
       "5              Finland             1\n",
       "6               France             1\n",
       "7               Guinea             2\n",
       "8               Guyana             0\n",
       "9              Hungary             1\n",
       "10           Indonesia             0\n",
       "11             Jamaica             3\n",
       "12               Japan             0\n",
       "13              Latvia             1\n",
       "14            Malaysia             3\n",
       "15                Mali             3\n",
       "16              Mexico             3\n",
       "17             Moldova             4\n",
       "18         Netherlands             1\n",
       "19                Peru             0\n",
       "20              Poland             1\n",
       "21              Serbia             0\n",
       "22            Slovenia             1\n",
       "23               Spain             1\n",
       "24              Sweden             1\n",
       "25            Thailand             3\n",
       "26       United States             1"
      ]
     },
     "execution_count": 27,
     "metadata": {},
     "output_type": "execute_result"
    }
   ],
   "source": [
    "education_with_countries[['Country','class_labels']]"
   ]
  },
  {
   "cell_type": "markdown",
   "metadata": {},
   "source": [
    "#### Feature Importance for Class Membership"
   ]
  },
  {
   "cell_type": "code",
   "execution_count": 28,
   "metadata": {
    "collapsed": false
   },
   "outputs": [
    {
     "name": "stderr",
     "output_type": "stream",
     "text": [
      "//anaconda/lib/python2.7/site-packages/sklearn/cross_validation.py:516: Warning: The least populated class in y has only 2 members, which is too few. The minimum number of labels for any class cannot be less than n_folds=5.\n",
      "  % (min_labels, self.n_folds)), Warning)\n"
     ]
    },
    {
     "data": {
      "text/plain": [
       "0.70555555555555549"
      ]
     },
     "execution_count": 28,
     "metadata": {},
     "output_type": "execute_result"
    }
   ],
   "source": [
    "features_index = education_with_classes.drop(['class_labels'],axis=1)\n",
    "target_index = education_with_classes.class_labels\n",
    "scaler_index = StandardScaler()\n",
    "features_normalized_index = scaler_index.fit_transform(features_index)\n",
    "\n",
    "\n",
    "model_lr_index = LogisticRegression(C=1).fit(features_index, target_index)\n",
    "cross_val_score(model_lr_index,features_index, target_index,cv=5 ).mean()"
   ]
  },
  {
   "cell_type": "code",
   "execution_count": 29,
   "metadata": {
    "collapsed": false
   },
   "outputs": [
    {
     "data": {
      "text/plain": [
       "0.67222222222222228"
      ]
     },
     "execution_count": 29,
     "metadata": {},
     "output_type": "execute_result"
    }
   ],
   "source": [
    "model_knn_index = KNeighborsClassifier(5)\n",
    "cross_val_score(model_knn_index,features_index,target_index,cv=5).mean()"
   ]
  },
  {
   "cell_type": "code",
   "execution_count": 30,
   "metadata": {
    "collapsed": false
   },
   "outputs": [
    {
     "name": "stdout",
     "output_type": "stream",
     "text": [
      "0.62380952381\n"
     ]
    },
    {
     "name": "stderr",
     "output_type": "stream",
     "text": [
      "//anaconda/lib/python2.7/site-packages/sklearn/cross_validation.py:516: Warning: The least populated class in y has only 2 members, which is too few. The minimum number of labels for any class cannot be less than n_folds=3.\n",
      "  % (min_labels, self.n_folds)), Warning)\n"
     ]
    }
   ],
   "source": [
    "decision_tree_index = sklearn.tree.DecisionTreeClassifier()\n",
    "score_index = sklearn.cross_validation.cross_val_score(decision_tree_index,features_index,target_index,cv=3).mean()\n",
    "print(score_index)"
   ]
  },
  {
   "cell_type": "code",
   "execution_count": 31,
   "metadata": {
    "collapsed": false
   },
   "outputs": [
    {
     "data": {
      "text/plain": [
       "Index([u'All staff compensation as % of total expenditure in secondary public institutions (%)',\n",
       "       u'Duration of compulsory education (years)',\n",
       "       u'Expenditure on education as % of total government expenditure (%)',\n",
       "       u'Expenditure on secondary as % of government expenditure on education (%)',\n",
       "       u'Expenditure on secondary as % of total government expenditure (%)',\n",
       "       u'Government expenditure in educational institutions as % of GDP (%)',\n",
       "       u'Government expenditure in secondary institutions education as % of GDP (%)',\n",
       "       u'Government expenditure on education as % of GDP (%)',\n",
       "       u'Net enrolment rate, secondary, both sexes (%)',\n",
       "       u'Pupil-teacher ratio in secondary education (headcount basis)'],\n",
       "      dtype='object')"
      ]
     },
     "execution_count": 31,
     "metadata": {},
     "output_type": "execute_result"
    }
   ],
   "source": [
    "x_index = np.arange(len(features_index.columns))\n",
    "names_index = features_index.columns\n",
    "names_index"
   ]
  },
  {
   "cell_type": "code",
   "execution_count": 32,
   "metadata": {
    "collapsed": false
   },
   "outputs": [
    {
     "name": "stdout",
     "output_type": "stream",
     "text": [
      "[[-0.09510061 -0.41241278  0.02966735 -0.12140158  0.16669888 -0.73675659\n",
      "  -0.71096009 -0.8906794   0.77574067 -0.53681621]\n",
      " [-0.7795797   0.9933631  -0.88920171  0.42120577 -0.82947219  0.33651876\n",
      "   0.36640089  0.4959011   0.21047382 -0.31837974]\n",
      " [ 0.0814294  -0.08038479 -0.10219939 -0.29171484 -0.47234193  0.01574607\n",
      "   0.02275843  0.14566444 -0.73177118  0.41182289]\n",
      " [ 0.33667448 -0.0896033   0.87914548  0.24563824  0.9159906  -0.06909637\n",
      "  -0.44897589 -0.11986008  0.24569498  0.55876995]\n",
      " [ 0.17365751  0.0928337   0.15737184 -0.10225608  0.19251727  0.36245652\n",
      "   0.48319177  0.25263274 -0.05020648 -0.14058841]]\n",
      "[-0.09510061 -0.41241278  0.02966735 -0.12140158  0.16669888 -0.73675659\n",
      " -0.71096009 -0.8906794   0.77574067 -0.53681621 -0.7795797   0.9933631\n",
      " -0.88920171  0.42120577 -0.82947219  0.33651876  0.36640089  0.4959011\n",
      "  0.21047382 -0.31837974  0.0814294  -0.08038479 -0.10219939 -0.29171484\n",
      " -0.47234193  0.01574607  0.02275843  0.14566444 -0.73177118  0.41182289\n",
      "  0.33667448 -0.0896033   0.87914548  0.24563824  0.9159906  -0.06909637\n",
      " -0.44897589 -0.11986008  0.24569498  0.55876995  0.17365751  0.0928337\n",
      "  0.15737184 -0.10225608  0.19251727  0.36245652  0.48319177  0.25263274\n",
      " -0.05020648 -0.14058841]\n"
     ]
    }
   ],
   "source": [
    "print model_lr_index.coef_\n",
    "print model_lr_index.coef_.ravel()"
   ]
  },
  {
   "cell_type": "code",
   "execution_count": 33,
   "metadata": {
    "collapsed": false
   },
   "outputs": [
    {
     "data": {
      "text/html": [
       "\n",
       "\n",
       "    <div class=\"plotdiv\" id=\"4a3baea7-c587-4307-8539-fc9fa12ef7fd\"></div>\n",
       "<script type=\"text/javascript\">\n",
       "  \n",
       "  (function(global) {\n",
       "    function now() {\n",
       "      return new Date();\n",
       "    }\n",
       "  \n",
       "    if (typeof (window._bokeh_onload_callbacks) === \"undefined\") {\n",
       "      window._bokeh_onload_callbacks = [];\n",
       "    }\n",
       "  \n",
       "    function run_callbacks() {\n",
       "      window._bokeh_onload_callbacks.forEach(function(callback) { callback() });\n",
       "      delete window._bokeh_onload_callbacks\n",
       "      console.info(\"Bokeh: all callbacks have finished\");\n",
       "    }\n",
       "  \n",
       "    function load_libs(js_urls, callback) {\n",
       "      window._bokeh_onload_callbacks.push(callback);\n",
       "      if (window._bokeh_is_loading > 0) {\n",
       "        console.log(\"Bokeh: BokehJS is being loaded, scheduling callback at\", now());\n",
       "        return null;\n",
       "      }\n",
       "      if (js_urls == null || js_urls.length === 0) {\n",
       "        run_callbacks();\n",
       "        return null;\n",
       "      }\n",
       "      console.log(\"Bokeh: BokehJS not loaded, scheduling load and callback at\", now());\n",
       "      window._bokeh_is_loading = js_urls.length;\n",
       "      for (var i = 0; i < js_urls.length; i++) {\n",
       "        var url = js_urls[i];\n",
       "        var s = document.createElement('script');\n",
       "        s.src = url;\n",
       "        s.async = false;\n",
       "        s.onreadystatechange = s.onload = function() {\n",
       "          window._bokeh_is_loading--;\n",
       "          if (window._bokeh_is_loading === 0) {\n",
       "            console.log(\"Bokeh: all BokehJS libraries loaded\");\n",
       "            run_callbacks()\n",
       "          }\n",
       "        };\n",
       "        s.onerror = function() {\n",
       "          console.warn(\"failed to load library \" + url);\n",
       "        };\n",
       "        console.log(\"Bokeh: injecting script tag for BokehJS library: \", url);\n",
       "        document.getElementsByTagName(\"head\")[0].appendChild(s);\n",
       "      }\n",
       "    };var element = document.getElementById(\"4a3baea7-c587-4307-8539-fc9fa12ef7fd\");\n",
       "    if (element == null) {\n",
       "      console.log(\"Bokeh: ERROR: autoload.js configured with elementid '4a3baea7-c587-4307-8539-fc9fa12ef7fd' but no matching script tag was found. \")\n",
       "      return false;\n",
       "    }\n",
       "  \n",
       "    var js_urls = [];\n",
       "  \n",
       "    var inline_js = [\n",
       "      function(Bokeh) {\n",
       "        Bokeh.$(function() {\n",
       "            var docs_json = {\"532e6749-8181-48c8-81d3-8fc18a5e9f77\":{\"roots\":{\"references\":[{\"attributes\":{},\"id\":\"b2dcc6e1-5a73-47f0-a90b-f68ec78aa1a0\",\"type\":\"BasicTickFormatter\"},{\"attributes\":{},\"id\":\"b2f3d6fa-9e7b-4de9-8934-c9da06da41b4\",\"type\":\"BasicTickFormatter\"},{\"attributes\":{},\"id\":\"3f13784b-0af9-4cd1-9ce8-5d4d500d80b5\",\"type\":\"ToolEvents\"},{\"attributes\":{\"callback\":null},\"id\":\"2eab6319-708b-4f01-9217-972258e000a2\",\"type\":\"ColumnDataSource\"},{\"attributes\":{\"callback\":null},\"id\":\"f9e74d9b-7a28-4067-b256-ba75bb21222f\",\"type\":\"ColumnDataSource\"},{\"attributes\":{\"callback\":null},\"id\":\"b95296e2-4a09-41e0-b71e-02a30d25c353\",\"type\":\"ColumnDataSource\"},{\"attributes\":{\"formatter\":{\"id\":\"b2f3d6fa-9e7b-4de9-8934-c9da06da41b4\",\"type\":\"BasicTickFormatter\"},\"plot\":{\"id\":\"51f39171-f40b-472c-9a2f-ba4b1447727b\",\"subtype\":\"Figure\",\"type\":\"Plot\"},\"ticker\":{\"id\":\"a1cff191-16fd-40f5-b86d-f8e684b3ede6\",\"type\":\"BasicTicker\"}},\"id\":\"06693a45-aa95-40f1-b0fa-1665985cb682\",\"type\":\"LinearAxis\"},{\"attributes\":{\"bottom\":{\"value\":0},\"fill_color\":{\"value\":\"yellow\"},\"left\":{\"value\":5.2},\"line_color\":{\"value\":\"yellow\"},\"right\":{\"value\":5.8},\"top\":{\"value\":-0.736756589254854}},\"id\":\"14188d14-da39-4864-99ad-33844b50ec87\",\"type\":\"Quad\"},{\"attributes\":{\"data_source\":{\"id\":\"b95296e2-4a09-41e0-b71e-02a30d25c353\",\"type\":\"ColumnDataSource\"},\"glyph\":{\"id\":\"7a7cdd8e-bbb5-4039-abd7-59d41584382f\",\"type\":\"Quad\"},\"hover_glyph\":null,\"nonselection_glyph\":{\"id\":\"03581632-b007-43f0-9f88-e7a8fd7ee360\",\"type\":\"Quad\"},\"selection_glyph\":null},\"id\":\"0a5c0e6f-8cfe-4617-9839-1e5264b01eb0\",\"type\":\"GlyphRenderer\"},{\"attributes\":{\"plot\":{\"id\":\"51f39171-f40b-472c-9a2f-ba4b1447727b\",\"subtype\":\"Figure\",\"type\":\"Plot\"},\"ticker\":{\"id\":\"1be82da9-82f9-4f77-979b-2594f75a273f\",\"type\":\"BasicTicker\"}},\"id\":\"48fa0cc9-6215-44fd-a97e-9d5d177af5e4\",\"type\":\"Grid\"},{\"attributes\":{\"bottom\":{\"value\":0},\"fill_color\":{\"value\":\"pink\"},\"left\":{\"value\":8.2},\"line_color\":{\"value\":\"pink\"},\"right\":{\"value\":8.8},\"top\":{\"value\":0.7757406736065163}},\"id\":\"9df2b5c1-419f-4608-badb-b506e6214c4b\",\"type\":\"Quad\"},{\"attributes\":{\"bottom\":{\"value\":0},\"fill_color\":{\"value\":\"orange\"},\"left\":{\"value\":1.2},\"line_color\":{\"value\":\"orange\"},\"right\":{\"value\":1.8},\"top\":{\"value\":-0.4124127837300706}},\"id\":\"7dd26a53-e244-45a6-be66-fce255d4d6d6\",\"type\":\"Quad\"},{\"attributes\":{},\"id\":\"a1cff191-16fd-40f5-b86d-f8e684b3ede6\",\"type\":\"BasicTicker\"},{\"attributes\":{},\"id\":\"1be82da9-82f9-4f77-979b-2594f75a273f\",\"type\":\"BasicTicker\"},{\"attributes\":{\"bottom\":{\"value\":0},\"fill_alpha\":{\"value\":0.1},\"fill_color\":{\"value\":\"#1f77b4\"},\"left\":{\"value\":5.2},\"line_alpha\":{\"value\":0.1},\"line_color\":{\"value\":\"#1f77b4\"},\"right\":{\"value\":5.8},\"top\":{\"value\":-0.736756589254854}},\"id\":\"3537969e-46fc-4206-aa0e-0c17e9d42176\",\"type\":\"Quad\"},{\"attributes\":{\"plot\":{\"id\":\"51f39171-f40b-472c-9a2f-ba4b1447727b\",\"subtype\":\"Figure\",\"type\":\"Plot\"}},\"id\":\"6f5ea326-4a54-42e3-a4e1-2d597a7d2bd9\",\"type\":\"PanTool\"},{\"attributes\":{\"plot\":{\"id\":\"51f39171-f40b-472c-9a2f-ba4b1447727b\",\"subtype\":\"Figure\",\"type\":\"Plot\"}},\"id\":\"589c986d-ca6f-4600-9ddb-bed69a7b4643\",\"type\":\"PreviewSaveTool\"},{\"attributes\":{\"bottom\":{\"value\":0},\"left\":{\"value\":7.2},\"line_color\":{\"value\":\"gray\"},\"right\":{\"value\":7.8},\"top\":{\"value\":-0.8906794035902462}},\"id\":\"398cfd84-b870-45e9-89ec-7e1ddad74c25\",\"type\":\"Quad\"},{\"attributes\":{\"bottom\":{\"value\":0},\"fill_alpha\":{\"value\":0.1},\"fill_color\":{\"value\":\"#1f77b4\"},\"left\":{\"value\":0.2},\"line_alpha\":{\"value\":0.1},\"line_color\":{\"value\":\"#1f77b4\"},\"right\":{\"value\":0.8},\"top\":{\"value\":-0.09510060566876255}},\"id\":\"03581632-b007-43f0-9f88-e7a8fd7ee360\",\"type\":\"Quad\"},{\"attributes\":{\"data_source\":{\"id\":\"df7bbcb8-adf4-4652-96fc-c6bcb771e45e\",\"type\":\"ColumnDataSource\"},\"glyph\":{\"id\":\"9df2b5c1-419f-4608-badb-b506e6214c4b\",\"type\":\"Quad\"},\"hover_glyph\":null,\"nonselection_glyph\":{\"id\":\"3cdfe7bc-876d-49eb-a0de-f33492bf51d4\",\"type\":\"Quad\"},\"selection_glyph\":null},\"id\":\"b09d9d1c-87d5-42c0-97c2-78f814246a11\",\"type\":\"GlyphRenderer\"},{\"attributes\":{\"plot\":{\"id\":\"51f39171-f40b-472c-9a2f-ba4b1447727b\",\"subtype\":\"Figure\",\"type\":\"Plot\"}},\"id\":\"4990e790-bd56-489b-a546-1ebc9e62b796\",\"type\":\"HelpTool\"},{\"attributes\":{\"overlay\":{\"id\":\"9e04a738-2852-44cf-b409-6207d169c4a4\",\"type\":\"BoxAnnotation\"},\"plot\":{\"id\":\"51f39171-f40b-472c-9a2f-ba4b1447727b\",\"subtype\":\"Figure\",\"type\":\"Plot\"}},\"id\":\"b9eda978-92fd-447f-a07e-4bae6e9db756\",\"type\":\"BoxZoomTool\"},{\"attributes\":{\"callback\":null},\"id\":\"5ea990b6-b04c-40fd-8c59-80da76b6bd0f\",\"type\":\"ColumnDataSource\"},{\"attributes\":{\"data_source\":{\"id\":\"2eab6319-708b-4f01-9217-972258e000a2\",\"type\":\"ColumnDataSource\"},\"glyph\":{\"id\":\"2544bd5d-df6e-4be4-8716-696303ed2035\",\"type\":\"Quad\"},\"hover_glyph\":null,\"nonselection_glyph\":{\"id\":\"c297b329-30c7-41cf-a1ef-ce6dd0b2d65b\",\"type\":\"Quad\"},\"selection_glyph\":null},\"id\":\"082f06e9-094d-45b7-92bf-c0f0cdfa3531\",\"type\":\"GlyphRenderer\"},{\"attributes\":{\"bottom_units\":\"screen\",\"fill_alpha\":{\"value\":0.5},\"fill_color\":{\"value\":\"lightgrey\"},\"left_units\":\"screen\",\"level\":\"overlay\",\"line_alpha\":{\"value\":1.0},\"line_color\":{\"value\":\"black\"},\"line_dash\":[4,4],\"line_width\":{\"value\":2},\"plot\":null,\"render_mode\":\"css\",\"right_units\":\"screen\",\"top_units\":\"screen\"},\"id\":\"9e04a738-2852-44cf-b409-6207d169c4a4\",\"type\":\"BoxAnnotation\"},{\"attributes\":{\"plot\":{\"id\":\"51f39171-f40b-472c-9a2f-ba4b1447727b\",\"subtype\":\"Figure\",\"type\":\"Plot\"}},\"id\":\"53b3164f-211b-4b0a-a559-2bb6dbb78600\",\"type\":\"WheelZoomTool\"},{\"attributes\":{\"formatter\":{\"id\":\"b2dcc6e1-5a73-47f0-a90b-f68ec78aa1a0\",\"type\":\"BasicTickFormatter\"},\"plot\":{\"id\":\"51f39171-f40b-472c-9a2f-ba4b1447727b\",\"subtype\":\"Figure\",\"type\":\"Plot\"},\"ticker\":{\"id\":\"1be82da9-82f9-4f77-979b-2594f75a273f\",\"type\":\"BasicTicker\"}},\"id\":\"0cc146ca-c9ca-4822-bf49-b564b3d4ae5d\",\"type\":\"LinearAxis\"},{\"attributes\":{\"data_source\":{\"id\":\"a303557d-9a99-4204-b497-f4cdfca0e444\",\"type\":\"ColumnDataSource\"},\"glyph\":{\"id\":\"31b4a37c-6c16-46cf-9eb1-47a093155efb\",\"type\":\"Quad\"},\"hover_glyph\":null,\"nonselection_glyph\":{\"id\":\"e1b6967f-e94a-4d3b-a586-5dd144873b44\",\"type\":\"Quad\"},\"selection_glyph\":null},\"id\":\"0650684f-2b4e-4e94-a816-a9973de733d7\",\"type\":\"GlyphRenderer\"},{\"attributes\":{\"bottom\":{\"value\":0},\"fill_alpha\":{\"value\":0.1},\"fill_color\":{\"value\":\"#1f77b4\"},\"left\":{\"value\":3.2},\"line_alpha\":{\"value\":0.1},\"line_color\":{\"value\":\"#1f77b4\"},\"right\":{\"value\":3.8},\"top\":{\"value\":-0.12140157527218728}},\"id\":\"e1b6967f-e94a-4d3b-a586-5dd144873b44\",\"type\":\"Quad\"},{\"attributes\":{\"bottom\":{\"value\":0},\"fill_alpha\":{\"value\":0.1},\"fill_color\":{\"value\":\"#1f77b4\"},\"left\":{\"value\":2.2},\"line_alpha\":{\"value\":0.1},\"line_color\":{\"value\":\"#1f77b4\"},\"right\":{\"value\":2.8},\"top\":{\"value\":0.029667350738920583}},\"id\":\"44342087-89f1-4a2c-8205-5c608d40e4eb\",\"type\":\"Quad\"},{\"attributes\":{\"callback\":null},\"id\":\"29dd5826-7ec2-46b6-a17b-1eaa12d119b4\",\"type\":\"DataRange1d\"},{\"attributes\":{\"legends\":[[\"All staff compensation as % of total expenditure in secondary public institutions (%)\",[{\"id\":\"0a5c0e6f-8cfe-4617-9839-1e5264b01eb0\",\"type\":\"GlyphRenderer\"}]],[\"Duration of compulsory education (years)\",[{\"id\":\"0cf6ed57-b5bf-464b-9a19-d116d2e724b8\",\"type\":\"GlyphRenderer\"}]],[\"Expenditure on education as % of total government expenditure (%)\",[{\"id\":\"01dcec25-697d-4b08-95a3-266cd72368e5\",\"type\":\"GlyphRenderer\"}]],[\"Expenditure on secondary as % of government expenditure on education (%)\",[{\"id\":\"0650684f-2b4e-4e94-a816-a9973de733d7\",\"type\":\"GlyphRenderer\"}]],[\"Expenditure on secondary as % of total government expenditure (%)\",[{\"id\":\"a60f875e-f532-417c-9ed6-23c11d3096fb\",\"type\":\"GlyphRenderer\"}]],[\"Government expenditure in educational institutions as % of GDP (%)\",[{\"id\":\"50be2a42-1bd2-4d62-ab44-3c122bd0a7d6\",\"type\":\"GlyphRenderer\"}]],[\"Government expenditure in secondary institutions education as % of GDP (%)\",[{\"id\":\"176d714d-a8e3-44ce-8419-462b0216bd6e\",\"type\":\"GlyphRenderer\"}]],[\"Government expenditure on education as % of GDP (%)\",[{\"id\":\"cbe37a30-21ac-402e-b5c6-3b06548b8f68\",\"type\":\"GlyphRenderer\"}]],[\"Net enrolment rate, secondary, both sexes (%)\",[{\"id\":\"b09d9d1c-87d5-42c0-97c2-78f814246a11\",\"type\":\"GlyphRenderer\"}]],[\"Pupil-teacher ratio in secondary education (headcount basis)\",[{\"id\":\"082f06e9-094d-45b7-92bf-c0f0cdfa3531\",\"type\":\"GlyphRenderer\"}]]],\"plot\":{\"id\":\"51f39171-f40b-472c-9a2f-ba4b1447727b\",\"subtype\":\"Figure\",\"type\":\"Plot\"}},\"id\":\"9b25e0c7-8201-47ee-bfd4-9d947d82f397\",\"type\":\"Legend\"},{\"attributes\":{\"plot\":{\"id\":\"51f39171-f40b-472c-9a2f-ba4b1447727b\",\"subtype\":\"Figure\",\"type\":\"Plot\"}},\"id\":\"eb6c70ac-b1a6-40a9-959a-86c7954a28cc\",\"type\":\"ResetTool\"},{\"attributes\":{\"bottom\":{\"value\":0},\"fill_color\":{\"field\":\"hazel\"},\"left\":{\"value\":9.2},\"line_color\":{\"field\":\"hazel\"},\"right\":{\"value\":9.8},\"top\":{\"value\":-0.536816206293769}},\"id\":\"2544bd5d-df6e-4be4-8716-696303ed2035\",\"type\":\"Quad\"},{\"attributes\":{\"bottom\":{\"value\":0},\"fill_alpha\":{\"value\":0.1},\"fill_color\":{\"value\":\"#1f77b4\"},\"left\":{\"value\":6.2},\"line_alpha\":{\"value\":0.1},\"line_color\":{\"value\":\"#1f77b4\"},\"right\":{\"value\":6.8},\"top\":{\"value\":-0.7109600909468134}},\"id\":\"62b099b8-4131-481a-a108-2da2ef60b241\",\"type\":\"Quad\"},{\"attributes\":{\"data_source\":{\"id\":\"85c39b70-d610-4068-96b7-80853fc6a655\",\"type\":\"ColumnDataSource\"},\"glyph\":{\"id\":\"14188d14-da39-4864-99ad-33844b50ec87\",\"type\":\"Quad\"},\"hover_glyph\":null,\"nonselection_glyph\":{\"id\":\"3537969e-46fc-4206-aa0e-0c17e9d42176\",\"type\":\"Quad\"},\"selection_glyph\":null},\"id\":\"50be2a42-1bd2-4d62-ab44-3c122bd0a7d6\",\"type\":\"GlyphRenderer\"},{\"attributes\":{\"bottom\":{\"value\":0},\"fill_color\":{\"value\":\"purple\"},\"left\":{\"value\":3.2},\"line_color\":{\"value\":\"purple\"},\"right\":{\"value\":3.8},\"top\":{\"value\":-0.12140157527218728}},\"id\":\"31b4a37c-6c16-46cf-9eb1-47a093155efb\",\"type\":\"Quad\"},{\"attributes\":{\"bottom\":{\"value\":0},\"fill_alpha\":{\"value\":0.1},\"fill_color\":{\"value\":\"#1f77b4\"},\"left\":{\"value\":8.2},\"line_alpha\":{\"value\":0.1},\"line_color\":{\"value\":\"#1f77b4\"},\"right\":{\"value\":8.8},\"top\":{\"value\":0.7757406736065163}},\"id\":\"3cdfe7bc-876d-49eb-a0de-f33492bf51d4\",\"type\":\"Quad\"},{\"attributes\":{\"bottom\":{\"value\":0},\"fill_alpha\":{\"value\":0.1},\"fill_color\":{\"value\":\"#1f77b4\"},\"left\":{\"value\":4.2},\"line_alpha\":{\"value\":0.1},\"line_color\":{\"value\":\"#1f77b4\"},\"right\":{\"value\":4.8},\"top\":{\"value\":0.16669887913611653}},\"id\":\"e58090e2-dbdc-46dc-aef8-e90d4c0ba482\",\"type\":\"Quad\"},{\"attributes\":{\"bottom\":{\"value\":0},\"fill_color\":{\"value\":\"red\"},\"left\":{\"value\":0.2},\"line_color\":{\"value\":\"red\"},\"right\":{\"value\":0.8},\"top\":{\"value\":-0.09510060566876255}},\"id\":\"7a7cdd8e-bbb5-4039-abd7-59d41584382f\",\"type\":\"Quad\"},{\"attributes\":{\"bottom\":{\"value\":0},\"fill_color\":{\"value\":\"brown\"},\"left\":{\"value\":6.2},\"line_color\":{\"value\":\"brown\"},\"right\":{\"value\":6.8},\"top\":{\"value\":-0.7109600909468134}},\"id\":\"ecd24d5c-0d1d-44b9-898e-6be88be1bb52\",\"type\":\"Quad\"},{\"attributes\":{\"data_source\":{\"id\":\"2267cea3-4765-4e3f-a6ba-c07d203732a7\",\"type\":\"ColumnDataSource\"},\"glyph\":{\"id\":\"91bea4bf-be17-4c0d-a3fc-1241322dca46\",\"type\":\"Quad\"},\"hover_glyph\":null,\"nonselection_glyph\":{\"id\":\"e58090e2-dbdc-46dc-aef8-e90d4c0ba482\",\"type\":\"Quad\"},\"selection_glyph\":null},\"id\":\"a60f875e-f532-417c-9ed6-23c11d3096fb\",\"type\":\"GlyphRenderer\"},{\"attributes\":{\"callback\":null},\"id\":\"85c39b70-d610-4068-96b7-80853fc6a655\",\"type\":\"ColumnDataSource\"},{\"attributes\":{\"callback\":null},\"id\":\"fbe1de56-51d0-4e07-a331-84261f922577\",\"type\":\"ColumnDataSource\"},{\"attributes\":{\"data_source\":{\"id\":\"fbe1de56-51d0-4e07-a331-84261f922577\",\"type\":\"ColumnDataSource\"},\"glyph\":{\"id\":\"17973784-c28a-445c-a0f6-009b05f1face\",\"type\":\"Quad\"},\"hover_glyph\":null,\"nonselection_glyph\":{\"id\":\"44342087-89f1-4a2c-8205-5c608d40e4eb\",\"type\":\"Quad\"},\"selection_glyph\":null},\"id\":\"01dcec25-697d-4b08-95a3-266cd72368e5\",\"type\":\"GlyphRenderer\"},{\"attributes\":{\"plot\":{\"id\":\"51f39171-f40b-472c-9a2f-ba4b1447727b\",\"subtype\":\"Figure\",\"type\":\"Plot\"}},\"id\":\"22685262-ad88-46a1-8b3e-5f9311c0432b\",\"type\":\"ResizeTool\"},{\"attributes\":{\"callback\":null,\"end\":2.4933630972618093,\"start\":-0.9906794035902462},\"id\":\"14d1dc4e-db1e-4a95-96b7-a75c739d08da\",\"type\":\"Range1d\"},{\"attributes\":{\"callback\":null},\"id\":\"df7bbcb8-adf4-4652-96fc-c6bcb771e45e\",\"type\":\"ColumnDataSource\"},{\"attributes\":{\"bottom\":{\"value\":0},\"fill_color\":{\"value\":\"green\"},\"left\":{\"value\":2.2},\"line_color\":{\"value\":\"green\"},\"right\":{\"value\":2.8},\"top\":{\"value\":0.029667350738920583}},\"id\":\"17973784-c28a-445c-a0f6-009b05f1face\",\"type\":\"Quad\"},{\"attributes\":{\"below\":[{\"id\":\"0cc146ca-c9ca-4822-bf49-b564b3d4ae5d\",\"type\":\"LinearAxis\"}],\"left\":[{\"id\":\"06693a45-aa95-40f1-b0fa-1665985cb682\",\"type\":\"LinearAxis\"}],\"renderers\":[{\"id\":\"0cc146ca-c9ca-4822-bf49-b564b3d4ae5d\",\"type\":\"LinearAxis\"},{\"id\":\"48fa0cc9-6215-44fd-a97e-9d5d177af5e4\",\"type\":\"Grid\"},{\"id\":\"06693a45-aa95-40f1-b0fa-1665985cb682\",\"type\":\"LinearAxis\"},{\"id\":\"9118fb8b-570a-4acc-b08b-dc1c075f17d9\",\"type\":\"Grid\"},{\"id\":\"9e04a738-2852-44cf-b409-6207d169c4a4\",\"type\":\"BoxAnnotation\"},{\"id\":\"9b25e0c7-8201-47ee-bfd4-9d947d82f397\",\"type\":\"Legend\"},{\"id\":\"0a5c0e6f-8cfe-4617-9839-1e5264b01eb0\",\"type\":\"GlyphRenderer\"},{\"id\":\"0cf6ed57-b5bf-464b-9a19-d116d2e724b8\",\"type\":\"GlyphRenderer\"},{\"id\":\"01dcec25-697d-4b08-95a3-266cd72368e5\",\"type\":\"GlyphRenderer\"},{\"id\":\"0650684f-2b4e-4e94-a816-a9973de733d7\",\"type\":\"GlyphRenderer\"},{\"id\":\"a60f875e-f532-417c-9ed6-23c11d3096fb\",\"type\":\"GlyphRenderer\"},{\"id\":\"50be2a42-1bd2-4d62-ab44-3c122bd0a7d6\",\"type\":\"GlyphRenderer\"},{\"id\":\"176d714d-a8e3-44ce-8419-462b0216bd6e\",\"type\":\"GlyphRenderer\"},{\"id\":\"cbe37a30-21ac-402e-b5c6-3b06548b8f68\",\"type\":\"GlyphRenderer\"},{\"id\":\"b09d9d1c-87d5-42c0-97c2-78f814246a11\",\"type\":\"GlyphRenderer\"},{\"id\":\"082f06e9-094d-45b7-92bf-c0f0cdfa3531\",\"type\":\"GlyphRenderer\"}],\"title\":\"Index Coefficients Logistic Regression\",\"tool_events\":{\"id\":\"3f13784b-0af9-4cd1-9ce8-5d4d500d80b5\",\"type\":\"ToolEvents\"},\"tools\":[{\"id\":\"6f5ea326-4a54-42e3-a4e1-2d597a7d2bd9\",\"type\":\"PanTool\"},{\"id\":\"53b3164f-211b-4b0a-a559-2bb6dbb78600\",\"type\":\"WheelZoomTool\"},{\"id\":\"b9eda978-92fd-447f-a07e-4bae6e9db756\",\"type\":\"BoxZoomTool\"},{\"id\":\"589c986d-ca6f-4600-9ddb-bed69a7b4643\",\"type\":\"PreviewSaveTool\"},{\"id\":\"22685262-ad88-46a1-8b3e-5f9311c0432b\",\"type\":\"ResizeTool\"},{\"id\":\"eb6c70ac-b1a6-40a9-959a-86c7954a28cc\",\"type\":\"ResetTool\"},{\"id\":\"4990e790-bd56-489b-a546-1ebc9e62b796\",\"type\":\"HelpTool\"}],\"x_range\":{\"id\":\"29dd5826-7ec2-46b6-a17b-1eaa12d119b4\",\"type\":\"DataRange1d\"},\"y_range\":{\"id\":\"14d1dc4e-db1e-4a95-96b7-a75c739d08da\",\"type\":\"Range1d\"}},\"id\":\"51f39171-f40b-472c-9a2f-ba4b1447727b\",\"subtype\":\"Figure\",\"type\":\"Plot\"},{\"attributes\":{\"data_source\":{\"id\":\"f9e74d9b-7a28-4067-b256-ba75bb21222f\",\"type\":\"ColumnDataSource\"},\"glyph\":{\"id\":\"ecd24d5c-0d1d-44b9-898e-6be88be1bb52\",\"type\":\"Quad\"},\"hover_glyph\":null,\"nonselection_glyph\":{\"id\":\"62b099b8-4131-481a-a108-2da2ef60b241\",\"type\":\"Quad\"},\"selection_glyph\":null},\"id\":\"176d714d-a8e3-44ce-8419-462b0216bd6e\",\"type\":\"GlyphRenderer\"},{\"attributes\":{\"data_source\":{\"id\":\"9def8f09-3027-499d-aebb-707a1486178d\",\"type\":\"ColumnDataSource\"},\"glyph\":{\"id\":\"7dd26a53-e244-45a6-be66-fce255d4d6d6\",\"type\":\"Quad\"},\"hover_glyph\":null,\"nonselection_glyph\":{\"id\":\"5829025e-958c-4278-a1ff-e2418643c9dd\",\"type\":\"Quad\"},\"selection_glyph\":null},\"id\":\"0cf6ed57-b5bf-464b-9a19-d116d2e724b8\",\"type\":\"GlyphRenderer\"},{\"attributes\":{\"callback\":null},\"id\":\"a303557d-9a99-4204-b497-f4cdfca0e444\",\"type\":\"ColumnDataSource\"},{\"attributes\":{\"bottom\":{\"value\":0},\"fill_alpha\":{\"value\":0.1},\"fill_color\":{\"value\":\"#1f77b4\"},\"left\":{\"value\":7.2},\"line_alpha\":{\"value\":0.1},\"line_color\":{\"value\":\"#1f77b4\"},\"right\":{\"value\":7.8},\"top\":{\"value\":-0.8906794035902462}},\"id\":\"e35f7502-5e03-42a9-bec0-2c147092e8f6\",\"type\":\"Quad\"},{\"attributes\":{\"data_source\":{\"id\":\"5ea990b6-b04c-40fd-8c59-80da76b6bd0f\",\"type\":\"ColumnDataSource\"},\"glyph\":{\"id\":\"398cfd84-b870-45e9-89ec-7e1ddad74c25\",\"type\":\"Quad\"},\"hover_glyph\":null,\"nonselection_glyph\":{\"id\":\"e35f7502-5e03-42a9-bec0-2c147092e8f6\",\"type\":\"Quad\"},\"selection_glyph\":null},\"id\":\"cbe37a30-21ac-402e-b5c6-3b06548b8f68\",\"type\":\"GlyphRenderer\"},{\"attributes\":{\"bottom\":{\"value\":0},\"fill_color\":{\"value\":\"black\"},\"left\":{\"value\":4.2},\"right\":{\"value\":4.8},\"top\":{\"value\":0.16669887913611653}},\"id\":\"91bea4bf-be17-4c0d-a3fc-1241322dca46\",\"type\":\"Quad\"},{\"attributes\":{\"dimension\":1,\"plot\":{\"id\":\"51f39171-f40b-472c-9a2f-ba4b1447727b\",\"subtype\":\"Figure\",\"type\":\"Plot\"},\"ticker\":{\"id\":\"a1cff191-16fd-40f5-b86d-f8e684b3ede6\",\"type\":\"BasicTicker\"}},\"id\":\"9118fb8b-570a-4acc-b08b-dc1c075f17d9\",\"type\":\"Grid\"},{\"attributes\":{\"bottom\":{\"value\":0},\"fill_alpha\":{\"value\":0.1},\"fill_color\":{\"value\":\"#1f77b4\"},\"left\":{\"value\":1.2},\"line_alpha\":{\"value\":0.1},\"line_color\":{\"value\":\"#1f77b4\"},\"right\":{\"value\":1.8},\"top\":{\"value\":-0.4124127837300706}},\"id\":\"5829025e-958c-4278-a1ff-e2418643c9dd\",\"type\":\"Quad\"},{\"attributes\":{\"callback\":null},\"id\":\"2267cea3-4765-4e3f-a6ba-c07d203732a7\",\"type\":\"ColumnDataSource\"},{\"attributes\":{\"callback\":null},\"id\":\"9def8f09-3027-499d-aebb-707a1486178d\",\"type\":\"ColumnDataSource\"},{\"attributes\":{\"bottom\":{\"value\":0},\"fill_alpha\":{\"value\":0.1},\"fill_color\":{\"value\":\"#1f77b4\"},\"left\":{\"value\":9.2},\"line_alpha\":{\"value\":0.1},\"line_color\":{\"value\":\"#1f77b4\"},\"right\":{\"value\":9.8},\"top\":{\"value\":-0.536816206293769}},\"id\":\"c297b329-30c7-41cf-a1ef-ce6dd0b2d65b\",\"type\":\"Quad\"}],\"root_ids\":[\"51f39171-f40b-472c-9a2f-ba4b1447727b\"]},\"title\":\"Bokeh Application\",\"version\":\"0.11.1\"}};\n",
       "            var render_items = [{\"docid\":\"532e6749-8181-48c8-81d3-8fc18a5e9f77\",\"elementid\":\"4a3baea7-c587-4307-8539-fc9fa12ef7fd\",\"modelid\":\"51f39171-f40b-472c-9a2f-ba4b1447727b\",\"notebook_comms_target\":\"a260b8bb-d473-447c-af26-e58b43c95667\"}];\n",
       "            \n",
       "            Bokeh.embed.embed_items(docs_json, render_items);\n",
       "        });\n",
       "      },\n",
       "      function(Bokeh) {\n",
       "      }\n",
       "    ];\n",
       "  \n",
       "    function run_inline_js() {\n",
       "      for (var i = 0; i < inline_js.length; i++) {\n",
       "        inline_js[i](window.Bokeh);\n",
       "      }\n",
       "    }\n",
       "  \n",
       "    if (window._bokeh_is_loading === 0) {\n",
       "      console.log(\"Bokeh: BokehJS loaded, going straight to plotting\");\n",
       "      run_inline_js();\n",
       "    } else {\n",
       "      load_libs(js_urls, function() {\n",
       "        console.log(\"Bokeh: BokehJS plotting callback run at\", now());\n",
       "        run_inline_js();\n",
       "      });\n",
       "    }\n",
       "  }(this));\n",
       "</script>"
      ]
     },
     "metadata": {},
     "output_type": "display_data"
    },
    {
     "data": {
      "text/html": [
       "<p><code>&lt;Bokeh Notebook handle for <strong>In[33]</strong>&gt;</code></p>"
      ],
      "text/plain": [
       "<bokeh.io._CommsHandle at 0x123cf07d0>"
      ]
     },
     "execution_count": 33,
     "metadata": {},
     "output_type": "execute_result"
    }
   ],
   "source": [
    "p_index = figure(title=\"Index Coefficients Logistic Regression\")\n",
    "for val in x_index:\n",
    "    p_index.quad(top=model_lr_index.coef_.ravel()[val], \n",
    "           bottom=0, left=val+0.2,right=val+0.8, \n",
    "           color=[\n",
    "            'red','orange','green',\n",
    "            'purple','black','yellow',\n",
    "            'brown','gray','pink','hazel'][val],\n",
    "           legend=names_index[val]\n",
    "          )\n",
    "    \n",
    "p_index.y_range = Range1d(min(model_lr_index.coef_.ravel())-0.1, max(model_lr_index.coef_.ravel())+1.5)\n",
    "show(p_index)"
   ]
  },
  {
   "cell_type": "code",
   "execution_count": 34,
   "metadata": {
    "collapsed": false
   },
   "outputs": [
    {
     "data": {
      "text/html": [
       "<div>\n",
       "<table border=\"1\" class=\"dataframe\">\n",
       "  <thead>\n",
       "    <tr style=\"text-align: right;\">\n",
       "      <th></th>\n",
       "      <th>features</th>\n",
       "      <th>coeff</th>\n",
       "    </tr>\n",
       "  </thead>\n",
       "  <tbody>\n",
       "    <tr>\n",
       "      <th>0</th>\n",
       "      <td>All staff compensation as % of total expenditu...</td>\n",
       "      <td>-0.095101</td>\n",
       "    </tr>\n",
       "    <tr>\n",
       "      <th>1</th>\n",
       "      <td>Duration of compulsory education (years)</td>\n",
       "      <td>-0.412413</td>\n",
       "    </tr>\n",
       "    <tr>\n",
       "      <th>2</th>\n",
       "      <td>Expenditure on education as % of total governm...</td>\n",
       "      <td>0.029667</td>\n",
       "    </tr>\n",
       "    <tr>\n",
       "      <th>3</th>\n",
       "      <td>Expenditure on secondary as % of government ex...</td>\n",
       "      <td>-0.121402</td>\n",
       "    </tr>\n",
       "    <tr>\n",
       "      <th>4</th>\n",
       "      <td>Expenditure on secondary as % of total governm...</td>\n",
       "      <td>0.166699</td>\n",
       "    </tr>\n",
       "    <tr>\n",
       "      <th>5</th>\n",
       "      <td>Government expenditure in educational institut...</td>\n",
       "      <td>-0.736757</td>\n",
       "    </tr>\n",
       "    <tr>\n",
       "      <th>6</th>\n",
       "      <td>Government expenditure in secondary institutio...</td>\n",
       "      <td>-0.710960</td>\n",
       "    </tr>\n",
       "    <tr>\n",
       "      <th>7</th>\n",
       "      <td>Government expenditure on education as % of GD...</td>\n",
       "      <td>-0.890679</td>\n",
       "    </tr>\n",
       "    <tr>\n",
       "      <th>8</th>\n",
       "      <td>Net enrolment rate, secondary, both sexes (%)</td>\n",
       "      <td>0.775741</td>\n",
       "    </tr>\n",
       "  </tbody>\n",
       "</table>\n",
       "</div>"
      ],
      "text/plain": [
       "                                            features     coeff\n",
       "0  All staff compensation as % of total expenditu... -0.095101\n",
       "1           Duration of compulsory education (years) -0.412413\n",
       "2  Expenditure on education as % of total governm...  0.029667\n",
       "3  Expenditure on secondary as % of government ex... -0.121402\n",
       "4  Expenditure on secondary as % of total governm...  0.166699\n",
       "5  Government expenditure in educational institut... -0.736757\n",
       "6  Government expenditure in secondary institutio... -0.710960\n",
       "7  Government expenditure on education as % of GD... -0.890679\n",
       "8      Net enrolment rate, secondary, both sexes (%)  0.775741"
      ]
     },
     "execution_count": 34,
     "metadata": {},
     "output_type": "execute_result"
    }
   ],
   "source": [
    "coeffs_index = pd.DataFrame(zip(features_index.columns[:-1],model_lr_index.coef_.ravel()),columns=['features','coeff'])\n",
    "coeffs_index"
   ]
  },
  {
   "cell_type": "markdown",
   "metadata": {},
   "source": [
    "## Objective 2: Predict `Quality of Commitment` for Male Secondary Education"
   ]
  },
  {
   "cell_type": "markdown",
   "metadata": {},
   "source": [
    "Now that 3 <b>`Quality of Commitment`</b> clusters have been built, I want to know whether the features for secondary-education of males can predict a country's class membership"
   ]
  },
  {
   "cell_type": "markdown",
   "metadata": {},
   "source": [
    "In order to predict the `Quality of Commitment` for Male Secondary Education across the 27 countries above, I will leverage features that specifically represent characteristcs of males in secondary education."
   ]
  },
  {
   "cell_type": "markdown",
   "metadata": {},
   "source": [
    "#### In order to arrive at the class-membership predictions, I will leverage 4 features (per country):\n",
    "1) Net enrolment rate, secondary, gender parity index (GPI) <br>\n",
    "2) Net enrolment rate, secondary, male (%) <br>\n",
    "3) School life expectancy, secondary, gender parity index (GPI) <br>\n",
    "4) School life expectancy, secondary, male (years) <br>"
   ]
  },
  {
   "cell_type": "markdown",
   "metadata": {},
   "source": [
    "Within the World Bank's bounty of datasets there exists features for each topic noted above, which I use to build my feature-space:<br>\n",
    "<br>\n",
    "\n",
    "Topic: <b>Net enrolment rate, secondary, gender parity index (GPI)</b><br>\n",
    "Description:<br>\n",
    "Ratio of female net enrolment rate for secondary to the male net enrolment rate for secondary. It is calculated by dividing the female value for the indicator by the male value for the indicator. A GPI equal to 1 indicates parity between females and males. In general, a value less than 1 indicates disparity in favor of males and a value greater than 1 indicates disparity in favor of females.\n",
    "<br>\n",
    "<br>\n",
    "\n",
    "Topic: <b>Net enrolment rate, secondary, male (%)</b> <br>\n",
    "Description: <br>\n",
    "Total number of male students in the theoretical age group for secondary education enrolled in that level, expressed as a percentage of the total male population in that age group. Divide the number of male students enrolled who are of the official age group for secondary education by the male population for the same age group and multiply the result by 100. NER at each level of education should be based on enrolment of the relevant age group in all types of schools and education institutions, including public, private and all other institutions that provide organized educational programmes.<br>\n",
    "<br>\n",
    "\n",
    "Topic: <b>School life expectancy, secondary, gender parity index (GPI)</b> <br>\n",
    "Description: <br>\n",
    "Ratio of female school life expectancy to the male school life expectancy. It is calculated by dividing the female value for the indicator by the male value for the indicator. A GPI equal to 1 indicates parity between females and males. In general, a value less than 1 indicates disparity in favor of males and a value greater than 1 indicates disparity in favor of females.<br>\n",
    "<br>\n",
    "\n",
    "Topic: <b>School life expectancy, secondary, male (years)</b> <br>\n",
    "Description: <br>\n",
    "Number of years a person of school entrance age can expect to spend within the specified level of education. For a child of a certain age a, the school life expectancy is calculated as the sum of the age specific enrolment rates for the levels of education specified. The part of the enrolment that is not distributed by age is divided by the school-age population for the level of education they are enrolled in, and multiplied by the duration of that level of education. The result is then added to the sum of the age-specific enrolment rates. A relatively high SLE indicates greater probability for children to spend more years in education and higher overall retention within the education system. It must be noted that the expected number of years does not necessarily coincide with the expected number of grades of education completed, because of repetition. Since school life expectancy is an average based on participation in different levels of education, the expected number of years of schooling may be pulled down by the magnitude of children who never go to school. Those children who are in school may benefit from many more years of education than the average.<br>\n",
    "<br>"
   ]
  },
  {
   "cell_type": "code",
   "execution_count": 35,
   "metadata": {
    "collapsed": true
   },
   "outputs": [],
   "source": [
    "secondary_ed_males = (\n",
    "    education_data.loc[\n",
    "        education_data[\n",
    "            'Series'\n",
    "        ].isin(\n",
    "            [\n",
    "            'Net enrolment rate, secondary, gender parity index (GPI)',\n",
    "            'Net enrolment rate, secondary, male (%)',\n",
    "            'School life expectancy, secondary, gender parity index (GPI)',\n",
    "            'School life expectancy, secondary, male (years)'\n",
    "            ]\n",
    "        )\n",
    "    ]\n",
    ")"
   ]
  },
  {
   "cell_type": "code",
   "execution_count": 36,
   "metadata": {
    "collapsed": false
   },
   "outputs": [
    {
     "data": {
      "text/html": [
       "<div>\n",
       "<table border=\"1\" class=\"dataframe\">\n",
       "  <thead>\n",
       "    <tr style=\"text-align: right;\">\n",
       "      <th></th>\n",
       "      <th>﻿Country</th>\n",
       "      <th>Country Code</th>\n",
       "      <th>Series</th>\n",
       "      <th>Series Code</th>\n",
       "      <th>2011 [YR2011]</th>\n",
       "    </tr>\n",
       "  </thead>\n",
       "  <tbody>\n",
       "    <tr>\n",
       "      <th>1634</th>\n",
       "      <td>Afghanistan</td>\n",
       "      <td>AFG</td>\n",
       "      <td>Net enrolment rate, secondary, gender parity i...</td>\n",
       "      <td>UIS.NER.23.GPI</td>\n",
       "      <td>..</td>\n",
       "    </tr>\n",
       "    <tr>\n",
       "      <th>1635</th>\n",
       "      <td>Afghanistan</td>\n",
       "      <td>AFG</td>\n",
       "      <td>Net enrolment rate, secondary, male (%)</td>\n",
       "      <td>SE.SEC.NENR.MA</td>\n",
       "      <td>..</td>\n",
       "    </tr>\n",
       "    <tr>\n",
       "      <th>2866</th>\n",
       "      <td>Afghanistan</td>\n",
       "      <td>AFG</td>\n",
       "      <td>School life expectancy, secondary, gender pari...</td>\n",
       "      <td>UIS.SLE.23.GPI</td>\n",
       "      <td>0.548789978027344</td>\n",
       "    </tr>\n",
       "    <tr>\n",
       "      <th>2867</th>\n",
       "      <td>Afghanistan</td>\n",
       "      <td>AFG</td>\n",
       "      <td>School life expectancy, secondary, male (years)</td>\n",
       "      <td>UIS.SLE.23.M</td>\n",
       "      <td>3.9861900806427</td>\n",
       "    </tr>\n",
       "    <tr>\n",
       "      <th>4634</th>\n",
       "      <td>Albania</td>\n",
       "      <td>ALB</td>\n",
       "      <td>Net enrolment rate, secondary, gender parity i...</td>\n",
       "      <td>UIS.NER.23.GPI</td>\n",
       "      <td>..</td>\n",
       "    </tr>\n",
       "  </tbody>\n",
       "</table>\n",
       "</div>"
      ],
      "text/plain": [
       "         ﻿Country Country Code  \\\n",
       "1634  Afghanistan          AFG   \n",
       "1635  Afghanistan          AFG   \n",
       "2866  Afghanistan          AFG   \n",
       "2867  Afghanistan          AFG   \n",
       "4634      Albania          ALB   \n",
       "\n",
       "                                                 Series     Series Code  \\\n",
       "1634  Net enrolment rate, secondary, gender parity i...  UIS.NER.23.GPI   \n",
       "1635            Net enrolment rate, secondary, male (%)  SE.SEC.NENR.MA   \n",
       "2866  School life expectancy, secondary, gender pari...  UIS.SLE.23.GPI   \n",
       "2867    School life expectancy, secondary, male (years)    UIS.SLE.23.M   \n",
       "4634  Net enrolment rate, secondary, gender parity i...  UIS.NER.23.GPI   \n",
       "\n",
       "          2011 [YR2011]  \n",
       "1634                 ..  \n",
       "1635                 ..  \n",
       "2866  0.548789978027344  \n",
       "2867    3.9861900806427  \n",
       "4634                 ..  "
      ]
     },
     "execution_count": 36,
     "metadata": {},
     "output_type": "execute_result"
    }
   ],
   "source": [
    "secondary_ed_males.head()"
   ]
  },
  {
   "cell_type": "code",
   "execution_count": 37,
   "metadata": {
    "collapsed": false
   },
   "outputs": [
    {
     "name": "stderr",
     "output_type": "stream",
     "text": [
      "/anaconda/lib/python2.7/site-packages/ipykernel/__main__.py:2: SettingWithCopyWarning: \n",
      "A value is trying to be set on a copy of a slice from a DataFrame\n",
      "\n",
      "See the caveats in the documentation: http://pandas.pydata.org/pandas-docs/stable/indexing.html#indexing-view-versus-copy\n",
      "  from ipykernel import kernelapp as app\n"
     ]
    }
   ],
   "source": [
    "# Remove unnecessary columns\n",
    "secondary_ed_males.drop(['Country Code','Series Code'],axis=1,inplace=True)"
   ]
  },
  {
   "cell_type": "code",
   "execution_count": 38,
   "metadata": {
    "collapsed": false
   },
   "outputs": [],
   "source": [
    "secondary_ed_males.columns = ['Country','Feature','Feature Value']"
   ]
  },
  {
   "cell_type": "code",
   "execution_count": 39,
   "metadata": {
    "collapsed": false
   },
   "outputs": [
    {
     "data": {
      "text/html": [
       "<div>\n",
       "<table border=\"1\" class=\"dataframe\">\n",
       "  <thead>\n",
       "    <tr style=\"text-align: right;\">\n",
       "      <th>Feature</th>\n",
       "      <th>Country</th>\n",
       "      <th>Net enrolment rate, secondary, gender parity index (GPI)</th>\n",
       "      <th>Net enrolment rate, secondary, male (%)</th>\n",
       "      <th>School life expectancy, secondary, gender parity index (GPI)</th>\n",
       "      <th>School life expectancy, secondary, male (years)</th>\n",
       "    </tr>\n",
       "  </thead>\n",
       "  <tbody>\n",
       "    <tr>\n",
       "      <th>0</th>\n",
       "      <td>Afghanistan</td>\n",
       "      <td>..</td>\n",
       "      <td>..</td>\n",
       "      <td>0.548789978027344</td>\n",
       "      <td>3.9861900806427</td>\n",
       "    </tr>\n",
       "    <tr>\n",
       "      <th>1</th>\n",
       "      <td>Albania</td>\n",
       "      <td>..</td>\n",
       "      <td>..</td>\n",
       "      <td>..</td>\n",
       "      <td>..</td>\n",
       "    </tr>\n",
       "    <tr>\n",
       "      <th>2</th>\n",
       "      <td>Algeria</td>\n",
       "      <td>..</td>\n",
       "      <td>..</td>\n",
       "      <td>1.03393995761871</td>\n",
       "      <td>6.60558986663818</td>\n",
       "    </tr>\n",
       "    <tr>\n",
       "      <th>3</th>\n",
       "      <td>American Samoa</td>\n",
       "      <td>..</td>\n",
       "      <td>..</td>\n",
       "      <td>..</td>\n",
       "      <td>..</td>\n",
       "    </tr>\n",
       "    <tr>\n",
       "      <th>4</th>\n",
       "      <td>Andorra</td>\n",
       "      <td>..</td>\n",
       "      <td>..</td>\n",
       "      <td>..</td>\n",
       "      <td>..</td>\n",
       "    </tr>\n",
       "  </tbody>\n",
       "</table>\n",
       "</div>"
      ],
      "text/plain": [
       "Feature         Country  \\\n",
       "0           Afghanistan   \n",
       "1               Albania   \n",
       "2               Algeria   \n",
       "3        American Samoa   \n",
       "4               Andorra   \n",
       "\n",
       "Feature Net enrolment rate, secondary, gender parity index (GPI)  \\\n",
       "0                                                       ..         \n",
       "1                                                       ..         \n",
       "2                                                       ..         \n",
       "3                                                       ..         \n",
       "4                                                       ..         \n",
       "\n",
       "Feature Net enrolment rate, secondary, male (%)  \\\n",
       "0                                            ..   \n",
       "1                                            ..   \n",
       "2                                            ..   \n",
       "3                                            ..   \n",
       "4                                            ..   \n",
       "\n",
       "Feature School life expectancy, secondary, gender parity index (GPI)  \\\n",
       "0                                        0.548789978027344             \n",
       "1                                                       ..             \n",
       "2                                         1.03393995761871             \n",
       "3                                                       ..             \n",
       "4                                                       ..             \n",
       "\n",
       "Feature School life expectancy, secondary, male (years)  \n",
       "0                                       3.9861900806427  \n",
       "1                                                    ..  \n",
       "2                                      6.60558986663818  \n",
       "3                                                    ..  \n",
       "4                                                    ..  "
      ]
     },
     "execution_count": 39,
     "metadata": {},
     "output_type": "execute_result"
    }
   ],
   "source": [
    "secondary_ed_males_pivot = secondary_ed_males.pivot(index='Country', columns='Feature', values='Feature Value')\n",
    "secondary_ed_males_reset = secondary_ed_males_pivot.dropna().reset_index()\n",
    "secondary_ed_males_reset.head()"
   ]
  },
  {
   "cell_type": "code",
   "execution_count": 40,
   "metadata": {
    "collapsed": false
   },
   "outputs": [],
   "source": [
    "edu_with_classes = education_with_countries[['Country','class_labels']]"
   ]
  },
  {
   "cell_type": "code",
   "execution_count": 41,
   "metadata": {
    "collapsed": true
   },
   "outputs": [],
   "source": [
    "edu_class_male = pd.merge(edu_with_classes, secondary_ed_males_reset, on='Country', how='left')"
   ]
  },
  {
   "cell_type": "code",
   "execution_count": 42,
   "metadata": {
    "collapsed": false
   },
   "outputs": [
    {
     "data": {
      "text/html": [
       "<div>\n",
       "<table border=\"1\" class=\"dataframe\">\n",
       "  <thead>\n",
       "    <tr style=\"text-align: right;\">\n",
       "      <th>Feature</th>\n",
       "      <th>Country</th>\n",
       "      <th>class_labels</th>\n",
       "      <th>Net enrolment rate, secondary, gender parity index (GPI)</th>\n",
       "      <th>Net enrolment rate, secondary, male (%)</th>\n",
       "      <th>School life expectancy, secondary, gender parity index (GPI)</th>\n",
       "      <th>School life expectancy, secondary, male (years)</th>\n",
       "    </tr>\n",
       "  </thead>\n",
       "  <tbody>\n",
       "    <tr>\n",
       "      <th>0</th>\n",
       "      <td>Bulgaria</td>\n",
       "      <td>0</td>\n",
       "      <td>0.978900015354156</td>\n",
       "      <td>86.1293182373047</td>\n",
       "      <td>0.960240006446838</td>\n",
       "      <td>7.48646020889282</td>\n",
       "    </tr>\n",
       "    <tr>\n",
       "      <th>1</th>\n",
       "      <td>Burkina Faso</td>\n",
       "      <td>2</td>\n",
       "      <td>0.80102002620697</td>\n",
       "      <td>20.44580078125</td>\n",
       "      <td>0.774110019207001</td>\n",
       "      <td>1.97684001922607</td>\n",
       "    </tr>\n",
       "    <tr>\n",
       "      <th>2</th>\n",
       "      <td>Colombia</td>\n",
       "      <td>3</td>\n",
       "      <td>1.07465994358063</td>\n",
       "      <td>72.9629974365234</td>\n",
       "      <td>1.08826994895935</td>\n",
       "      <td>5.62004995346069</td>\n",
       "    </tr>\n",
       "    <tr>\n",
       "      <th>3</th>\n",
       "      <td>Cyprus</td>\n",
       "      <td>4</td>\n",
       "      <td>1.02063000202179</td>\n",
       "      <td>88.791389465332</td>\n",
       "      <td>1.01495003700256</td>\n",
       "      <td>5.52293014526367</td>\n",
       "    </tr>\n",
       "    <tr>\n",
       "      <th>4</th>\n",
       "      <td>Ecuador</td>\n",
       "      <td>1</td>\n",
       "      <td>1.0220799446106</td>\n",
       "      <td>71.4095687866211</td>\n",
       "      <td>1.01372003555298</td>\n",
       "      <td>5.10024976730347</td>\n",
       "    </tr>\n",
       "  </tbody>\n",
       "</table>\n",
       "</div>"
      ],
      "text/plain": [
       "Feature       Country  class_labels  \\\n",
       "0            Bulgaria             0   \n",
       "1        Burkina Faso             2   \n",
       "2            Colombia             3   \n",
       "3              Cyprus             4   \n",
       "4             Ecuador             1   \n",
       "\n",
       "Feature Net enrolment rate, secondary, gender parity index (GPI)  \\\n",
       "0                                        0.978900015354156         \n",
       "1                                         0.80102002620697         \n",
       "2                                         1.07465994358063         \n",
       "3                                         1.02063000202179         \n",
       "4                                          1.0220799446106         \n",
       "\n",
       "Feature Net enrolment rate, secondary, male (%)  \\\n",
       "0                              86.1293182373047   \n",
       "1                                20.44580078125   \n",
       "2                              72.9629974365234   \n",
       "3                               88.791389465332   \n",
       "4                              71.4095687866211   \n",
       "\n",
       "Feature School life expectancy, secondary, gender parity index (GPI)  \\\n",
       "0                                        0.960240006446838             \n",
       "1                                        0.774110019207001             \n",
       "2                                         1.08826994895935             \n",
       "3                                         1.01495003700256             \n",
       "4                                         1.01372003555298             \n",
       "\n",
       "Feature School life expectancy, secondary, male (years)  \n",
       "0                                      7.48646020889282  \n",
       "1                                      1.97684001922607  \n",
       "2                                      5.62004995346069  \n",
       "3                                      5.52293014526367  \n",
       "4                                      5.10024976730347  "
      ]
     },
     "execution_count": 42,
     "metadata": {},
     "output_type": "execute_result"
    }
   ],
   "source": [
    "edu_class_male.head()"
   ]
  },
  {
   "cell_type": "code",
   "execution_count": 43,
   "metadata": {
    "collapsed": false
   },
   "outputs": [],
   "source": [
    "features_male = edu_class_male.drop(['Country','class_labels'],axis=1)\n",
    "target_male = edu_class_male.class_labels\n",
    "scaler_male = StandardScaler()\n",
    "features_normalized_male = scaler_male.fit_transform(features_male)"
   ]
  },
  {
   "cell_type": "code",
   "execution_count": 44,
   "metadata": {
    "collapsed": false
   },
   "outputs": [
    {
     "data": {
      "text/html": [
       "<div>\n",
       "<table border=\"1\" class=\"dataframe\">\n",
       "  <thead>\n",
       "    <tr style=\"text-align: right;\">\n",
       "      <th>Feature</th>\n",
       "      <th>Net enrolment rate, secondary, gender parity index (GPI)</th>\n",
       "      <th>Net enrolment rate, secondary, male (%)</th>\n",
       "      <th>School life expectancy, secondary, gender parity index (GPI)</th>\n",
       "      <th>School life expectancy, secondary, male (years)</th>\n",
       "    </tr>\n",
       "  </thead>\n",
       "  <tbody>\n",
       "    <tr>\n",
       "      <th>0</th>\n",
       "      <td>-0.104284</td>\n",
       "      <td>0.426025</td>\n",
       "      <td>-0.200720</td>\n",
       "      <td>1.275386</td>\n",
       "    </tr>\n",
       "    <tr>\n",
       "      <th>1</th>\n",
       "      <td>-1.762741</td>\n",
       "      <td>-3.106262</td>\n",
       "      <td>-1.916614</td>\n",
       "      <td>-2.526978</td>\n",
       "    </tr>\n",
       "    <tr>\n",
       "      <th>2</th>\n",
       "      <td>0.788529</td>\n",
       "      <td>-0.282025</td>\n",
       "      <td>0.979561</td>\n",
       "      <td>-0.012683</td>\n",
       "    </tr>\n",
       "    <tr>\n",
       "      <th>3</th>\n",
       "      <td>0.284783</td>\n",
       "      <td>0.569184</td>\n",
       "      <td>0.303640</td>\n",
       "      <td>-0.079708</td>\n",
       "    </tr>\n",
       "    <tr>\n",
       "      <th>4</th>\n",
       "      <td>0.298302</td>\n",
       "      <td>-0.365564</td>\n",
       "      <td>0.292301</td>\n",
       "      <td>-0.371414</td>\n",
       "    </tr>\n",
       "  </tbody>\n",
       "</table>\n",
       "</div>"
      ],
      "text/plain": [
       "Feature  Net enrolment rate, secondary, gender parity index (GPI)  \\\n",
       "0                                                -0.104284          \n",
       "1                                                -1.762741          \n",
       "2                                                 0.788529          \n",
       "3                                                 0.284783          \n",
       "4                                                 0.298302          \n",
       "\n",
       "Feature  Net enrolment rate, secondary, male (%)  \\\n",
       "0                                       0.426025   \n",
       "1                                      -3.106262   \n",
       "2                                      -0.282025   \n",
       "3                                       0.569184   \n",
       "4                                      -0.365564   \n",
       "\n",
       "Feature  School life expectancy, secondary, gender parity index (GPI)  \\\n",
       "0                                                -0.200720              \n",
       "1                                                -1.916614              \n",
       "2                                                 0.979561              \n",
       "3                                                 0.303640              \n",
       "4                                                 0.292301              \n",
       "\n",
       "Feature  School life expectancy, secondary, male (years)  \n",
       "0                                               1.275386  \n",
       "1                                              -2.526978  \n",
       "2                                              -0.012683  \n",
       "3                                              -0.079708  \n",
       "4                                              -0.371414  "
      ]
     },
     "execution_count": 44,
     "metadata": {},
     "output_type": "execute_result"
    }
   ],
   "source": [
    "pd.DataFrame(features_normalized_male, columns=features_male.columns).head()"
   ]
  },
  {
   "cell_type": "code",
   "execution_count": 45,
   "metadata": {
    "collapsed": false
   },
   "outputs": [
    {
     "name": "stderr",
     "output_type": "stream",
     "text": [
      "//anaconda/lib/python2.7/site-packages/sklearn/cross_validation.py:516: Warning: The least populated class in y has only 2 members, which is too few. The minimum number of labels for any class cannot be less than n_folds=11.\n",
      "  % (min_labels, self.n_folds)), Warning)\n"
     ]
    },
    {
     "data": {
      "text/plain": [
       "0.64242424242424245"
      ]
     },
     "execution_count": 45,
     "metadata": {},
     "output_type": "execute_result"
    }
   ],
   "source": [
    "model_lr_male = LogisticRegression(C=1)\n",
    "cross_val_score(model_lr_male,features_male, target_male,cv=11 ).mean()"
   ]
  },
  {
   "cell_type": "markdown",
   "metadata": {},
   "source": [
    "### Review the feature importance\n"
   ]
  },
  {
   "cell_type": "code",
   "execution_count": 46,
   "metadata": {
    "collapsed": false
   },
   "outputs": [
    {
     "data": {
      "text/plain": [
       "Index([u'Net enrolment rate, secondary, gender parity index (GPI)',\n",
       "       u'Net enrolment rate, secondary, male (%)',\n",
       "       u'School life expectancy, secondary, gender parity index (GPI)',\n",
       "       u'School life expectancy, secondary, male (years)'],\n",
       "      dtype='object', name=u'Feature')"
      ]
     },
     "execution_count": 46,
     "metadata": {},
     "output_type": "execute_result"
    }
   ],
   "source": [
    "model_lr_male = LogisticRegression(C=1).fit(features_male, target_male)\n",
    "\n",
    "x_male = np.arange(len(features_male.columns))\n",
    "names_male = features_male.columns\n",
    "names_male"
   ]
  },
  {
   "cell_type": "code",
   "execution_count": 47,
   "metadata": {
    "collapsed": false
   },
   "outputs": [
    {
     "name": "stdout",
     "output_type": "stream",
     "text": [
      "[[-0.31663543  0.03340002 -0.31979381 -0.46506855]\n",
      " [-0.8009993   0.00579417 -0.83208305  0.33095498]\n",
      " [ 0.32975011 -0.11226738  0.31360428  0.62157454]\n",
      " [ 0.48154747 -0.01348252  0.53101937 -0.29365976]\n",
      " [-0.22378929 -0.00109724 -0.20784681 -0.27516734]]\n",
      "[-0.31663543  0.03340002 -0.31979381 -0.46506855 -0.8009993   0.00579417\n",
      " -0.83208305  0.33095498  0.32975011 -0.11226738  0.31360428  0.62157454\n",
      "  0.48154747 -0.01348252  0.53101937 -0.29365976 -0.22378929 -0.00109724\n",
      " -0.20784681 -0.27516734]\n"
     ]
    }
   ],
   "source": [
    "print model_lr_male.coef_\n",
    "print model_lr_male.coef_.ravel()"
   ]
  },
  {
   "cell_type": "code",
   "execution_count": 48,
   "metadata": {
    "collapsed": false
   },
   "outputs": [
    {
     "data": {
      "text/html": [
       "\n",
       "\n",
       "    <div class=\"plotdiv\" id=\"abb99e2c-aa72-4128-aa5d-c84449e040c0\"></div>\n",
       "<script type=\"text/javascript\">\n",
       "  \n",
       "  (function(global) {\n",
       "    function now() {\n",
       "      return new Date();\n",
       "    }\n",
       "  \n",
       "    if (typeof (window._bokeh_onload_callbacks) === \"undefined\") {\n",
       "      window._bokeh_onload_callbacks = [];\n",
       "    }\n",
       "  \n",
       "    function run_callbacks() {\n",
       "      window._bokeh_onload_callbacks.forEach(function(callback) { callback() });\n",
       "      delete window._bokeh_onload_callbacks\n",
       "      console.info(\"Bokeh: all callbacks have finished\");\n",
       "    }\n",
       "  \n",
       "    function load_libs(js_urls, callback) {\n",
       "      window._bokeh_onload_callbacks.push(callback);\n",
       "      if (window._bokeh_is_loading > 0) {\n",
       "        console.log(\"Bokeh: BokehJS is being loaded, scheduling callback at\", now());\n",
       "        return null;\n",
       "      }\n",
       "      if (js_urls == null || js_urls.length === 0) {\n",
       "        run_callbacks();\n",
       "        return null;\n",
       "      }\n",
       "      console.log(\"Bokeh: BokehJS not loaded, scheduling load and callback at\", now());\n",
       "      window._bokeh_is_loading = js_urls.length;\n",
       "      for (var i = 0; i < js_urls.length; i++) {\n",
       "        var url = js_urls[i];\n",
       "        var s = document.createElement('script');\n",
       "        s.src = url;\n",
       "        s.async = false;\n",
       "        s.onreadystatechange = s.onload = function() {\n",
       "          window._bokeh_is_loading--;\n",
       "          if (window._bokeh_is_loading === 0) {\n",
       "            console.log(\"Bokeh: all BokehJS libraries loaded\");\n",
       "            run_callbacks()\n",
       "          }\n",
       "        };\n",
       "        s.onerror = function() {\n",
       "          console.warn(\"failed to load library \" + url);\n",
       "        };\n",
       "        console.log(\"Bokeh: injecting script tag for BokehJS library: \", url);\n",
       "        document.getElementsByTagName(\"head\")[0].appendChild(s);\n",
       "      }\n",
       "    };var element = document.getElementById(\"abb99e2c-aa72-4128-aa5d-c84449e040c0\");\n",
       "    if (element == null) {\n",
       "      console.log(\"Bokeh: ERROR: autoload.js configured with elementid 'abb99e2c-aa72-4128-aa5d-c84449e040c0' but no matching script tag was found. \")\n",
       "      return false;\n",
       "    }\n",
       "  \n",
       "    var js_urls = [];\n",
       "  \n",
       "    var inline_js = [\n",
       "      function(Bokeh) {\n",
       "        Bokeh.$(function() {\n",
       "            var docs_json = {\"d190ec56-263c-4901-9f21-b25df7d35b9d\":{\"roots\":{\"references\":[{\"attributes\":{\"below\":[{\"id\":\"0cc146ca-c9ca-4822-bf49-b564b3d4ae5d\",\"type\":\"LinearAxis\"}],\"left\":[{\"id\":\"06693a45-aa95-40f1-b0fa-1665985cb682\",\"type\":\"LinearAxis\"}],\"renderers\":[{\"id\":\"0cc146ca-c9ca-4822-bf49-b564b3d4ae5d\",\"type\":\"LinearAxis\"},{\"id\":\"48fa0cc9-6215-44fd-a97e-9d5d177af5e4\",\"type\":\"Grid\"},{\"id\":\"06693a45-aa95-40f1-b0fa-1665985cb682\",\"type\":\"LinearAxis\"},{\"id\":\"9118fb8b-570a-4acc-b08b-dc1c075f17d9\",\"type\":\"Grid\"},{\"id\":\"9e04a738-2852-44cf-b409-6207d169c4a4\",\"type\":\"BoxAnnotation\"},{\"id\":\"9b25e0c7-8201-47ee-bfd4-9d947d82f397\",\"type\":\"Legend\"},{\"id\":\"0a5c0e6f-8cfe-4617-9839-1e5264b01eb0\",\"type\":\"GlyphRenderer\"},{\"id\":\"0cf6ed57-b5bf-464b-9a19-d116d2e724b8\",\"type\":\"GlyphRenderer\"},{\"id\":\"01dcec25-697d-4b08-95a3-266cd72368e5\",\"type\":\"GlyphRenderer\"},{\"id\":\"0650684f-2b4e-4e94-a816-a9973de733d7\",\"type\":\"GlyphRenderer\"},{\"id\":\"a60f875e-f532-417c-9ed6-23c11d3096fb\",\"type\":\"GlyphRenderer\"},{\"id\":\"50be2a42-1bd2-4d62-ab44-3c122bd0a7d6\",\"type\":\"GlyphRenderer\"},{\"id\":\"176d714d-a8e3-44ce-8419-462b0216bd6e\",\"type\":\"GlyphRenderer\"},{\"id\":\"cbe37a30-21ac-402e-b5c6-3b06548b8f68\",\"type\":\"GlyphRenderer\"},{\"id\":\"b09d9d1c-87d5-42c0-97c2-78f814246a11\",\"type\":\"GlyphRenderer\"},{\"id\":\"082f06e9-094d-45b7-92bf-c0f0cdfa3531\",\"type\":\"GlyphRenderer\"}],\"title\":\"Index Coefficients Logistic Regression\",\"tool_events\":{\"id\":\"3f13784b-0af9-4cd1-9ce8-5d4d500d80b5\",\"type\":\"ToolEvents\"},\"tools\":[{\"id\":\"6f5ea326-4a54-42e3-a4e1-2d597a7d2bd9\",\"type\":\"PanTool\"},{\"id\":\"53b3164f-211b-4b0a-a559-2bb6dbb78600\",\"type\":\"WheelZoomTool\"},{\"id\":\"b9eda978-92fd-447f-a07e-4bae6e9db756\",\"type\":\"BoxZoomTool\"},{\"id\":\"589c986d-ca6f-4600-9ddb-bed69a7b4643\",\"type\":\"PreviewSaveTool\"},{\"id\":\"22685262-ad88-46a1-8b3e-5f9311c0432b\",\"type\":\"ResizeTool\"},{\"id\":\"eb6c70ac-b1a6-40a9-959a-86c7954a28cc\",\"type\":\"ResetTool\"},{\"id\":\"4990e790-bd56-489b-a546-1ebc9e62b796\",\"type\":\"HelpTool\"}],\"x_range\":{\"id\":\"29dd5826-7ec2-46b6-a17b-1eaa12d119b4\",\"type\":\"DataRange1d\"},\"y_range\":{\"id\":\"14d1dc4e-db1e-4a95-96b7-a75c739d08da\",\"type\":\"Range1d\"}},\"id\":\"51f39171-f40b-472c-9a2f-ba4b1447727b\",\"subtype\":\"Figure\",\"type\":\"Plot\"},{\"attributes\":{},\"id\":\"b2dcc6e1-5a73-47f0-a90b-f68ec78aa1a0\",\"type\":\"BasicTickFormatter\"},{\"attributes\":{\"plot\":{\"id\":\"51f39171-f40b-472c-9a2f-ba4b1447727b\",\"subtype\":\"Figure\",\"type\":\"Plot\"},\"ticker\":{\"id\":\"1be82da9-82f9-4f77-979b-2594f75a273f\",\"type\":\"BasicTicker\"}},\"id\":\"48fa0cc9-6215-44fd-a97e-9d5d177af5e4\",\"type\":\"Grid\"},{\"attributes\":{\"callback\":null},\"id\":\"b95296e2-4a09-41e0-b71e-02a30d25c353\",\"type\":\"ColumnDataSource\"},{\"attributes\":{\"formatter\":{\"id\":\"b2f3d6fa-9e7b-4de9-8934-c9da06da41b4\",\"type\":\"BasicTickFormatter\"},\"plot\":{\"id\":\"51f39171-f40b-472c-9a2f-ba4b1447727b\",\"subtype\":\"Figure\",\"type\":\"Plot\"},\"ticker\":{\"id\":\"a1cff191-16fd-40f5-b86d-f8e684b3ede6\",\"type\":\"BasicTicker\"}},\"id\":\"06693a45-aa95-40f1-b0fa-1665985cb682\",\"type\":\"LinearAxis\"},{\"attributes\":{\"plot\":{\"id\":\"027a70d0-9790-4af8-a966-547e9f1b68e1\",\"subtype\":\"Figure\",\"type\":\"Plot\"}},\"id\":\"5e85227e-f97f-4b57-bbee-7aa39655fd67\",\"type\":\"PreviewSaveTool\"},{\"attributes\":{},\"id\":\"a1cff191-16fd-40f5-b86d-f8e684b3ede6\",\"type\":\"BasicTicker\"},{\"attributes\":{\"plot\":{\"id\":\"51f39171-f40b-472c-9a2f-ba4b1447727b\",\"subtype\":\"Figure\",\"type\":\"Plot\"}},\"id\":\"6f5ea326-4a54-42e3-a4e1-2d597a7d2bd9\",\"type\":\"PanTool\"},{\"attributes\":{\"plot\":{\"id\":\"51f39171-f40b-472c-9a2f-ba4b1447727b\",\"subtype\":\"Figure\",\"type\":\"Plot\"}},\"id\":\"589c986d-ca6f-4600-9ddb-bed69a7b4643\",\"type\":\"PreviewSaveTool\"},{\"attributes\":{\"bottom\":{\"value\":0},\"fill_alpha\":{\"value\":0.1},\"fill_color\":{\"value\":\"#1f77b4\"},\"left\":{\"value\":6.2},\"line_alpha\":{\"value\":0.1},\"line_color\":{\"value\":\"#1f77b4\"},\"right\":{\"value\":6.8},\"top\":{\"value\":-0.7109600909468134}},\"id\":\"62b099b8-4131-481a-a108-2da2ef60b241\",\"type\":\"Quad\"},{\"attributes\":{\"callback\":null},\"id\":\"df7bbcb8-adf4-4652-96fc-c6bcb771e45e\",\"type\":\"ColumnDataSource\"},{\"attributes\":{\"callback\":null},\"id\":\"5ea990b6-b04c-40fd-8c59-80da76b6bd0f\",\"type\":\"ColumnDataSource\"},{\"attributes\":{\"data_source\":{\"id\":\"2eab6319-708b-4f01-9217-972258e000a2\",\"type\":\"ColumnDataSource\"},\"glyph\":{\"id\":\"2544bd5d-df6e-4be4-8716-696303ed2035\",\"type\":\"Quad\"},\"hover_glyph\":null,\"nonselection_glyph\":{\"id\":\"c297b329-30c7-41cf-a1ef-ce6dd0b2d65b\",\"type\":\"Quad\"},\"selection_glyph\":null},\"id\":\"082f06e9-094d-45b7-92bf-c0f0cdfa3531\",\"type\":\"GlyphRenderer\"},{\"attributes\":{\"callback\":null},\"id\":\"067492cf-36e1-4853-9d6a-a8aff7f6c264\",\"type\":\"ColumnDataSource\"},{\"attributes\":{\"callback\":null},\"id\":\"d25be77c-ab91-479c-918a-72df383a2584\",\"type\":\"ColumnDataSource\"},{\"attributes\":{\"legends\":[[\"Net enrolment rate, secondary, gender parity index (GPI)\",[{\"id\":\"bc6db127-c51e-45bf-9746-a7b25571880d\",\"type\":\"GlyphRenderer\"}]],[\"Net enrolment rate, secondary, male (%)\",[{\"id\":\"609384ee-69c5-49b2-b678-7182b9269877\",\"type\":\"GlyphRenderer\"}]],[\"School life expectancy, secondary, gender parity index (GPI)\",[{\"id\":\"9ca36a44-bdf8-4d90-8c66-27ea12eb23db\",\"type\":\"GlyphRenderer\"}]],[\"School life expectancy, secondary, male (years)\",[{\"id\":\"686d0791-96f8-4de5-ba78-0e58d39eefd6\",\"type\":\"GlyphRenderer\"}]]],\"plot\":{\"id\":\"027a70d0-9790-4af8-a966-547e9f1b68e1\",\"subtype\":\"Figure\",\"type\":\"Plot\"}},\"id\":\"00898d7d-a429-44ea-8c4e-0afd7cbc95c4\",\"type\":\"Legend\"},{\"attributes\":{\"legends\":[[\"All staff compensation as % of total expenditure in secondary public institutions (%)\",[{\"id\":\"0a5c0e6f-8cfe-4617-9839-1e5264b01eb0\",\"type\":\"GlyphRenderer\"}]],[\"Duration of compulsory education (years)\",[{\"id\":\"0cf6ed57-b5bf-464b-9a19-d116d2e724b8\",\"type\":\"GlyphRenderer\"}]],[\"Expenditure on education as % of total government expenditure (%)\",[{\"id\":\"01dcec25-697d-4b08-95a3-266cd72368e5\",\"type\":\"GlyphRenderer\"}]],[\"Expenditure on secondary as % of government expenditure on education (%)\",[{\"id\":\"0650684f-2b4e-4e94-a816-a9973de733d7\",\"type\":\"GlyphRenderer\"}]],[\"Expenditure on secondary as % of total government expenditure (%)\",[{\"id\":\"a60f875e-f532-417c-9ed6-23c11d3096fb\",\"type\":\"GlyphRenderer\"}]],[\"Government expenditure in educational institutions as % of GDP (%)\",[{\"id\":\"50be2a42-1bd2-4d62-ab44-3c122bd0a7d6\",\"type\":\"GlyphRenderer\"}]],[\"Government expenditure in secondary institutions education as % of GDP (%)\",[{\"id\":\"176d714d-a8e3-44ce-8419-462b0216bd6e\",\"type\":\"GlyphRenderer\"}]],[\"Government expenditure on education as % of GDP (%)\",[{\"id\":\"cbe37a30-21ac-402e-b5c6-3b06548b8f68\",\"type\":\"GlyphRenderer\"}]],[\"Net enrolment rate, secondary, both sexes (%)\",[{\"id\":\"b09d9d1c-87d5-42c0-97c2-78f814246a11\",\"type\":\"GlyphRenderer\"}]],[\"Pupil-teacher ratio in secondary education (headcount basis)\",[{\"id\":\"082f06e9-094d-45b7-92bf-c0f0cdfa3531\",\"type\":\"GlyphRenderer\"}]]],\"plot\":{\"id\":\"51f39171-f40b-472c-9a2f-ba4b1447727b\",\"subtype\":\"Figure\",\"type\":\"Plot\"}},\"id\":\"9b25e0c7-8201-47ee-bfd4-9d947d82f397\",\"type\":\"Legend\"},{\"attributes\":{\"bottom\":{\"value\":0},\"fill_color\":{\"field\":\"hazel\"},\"left\":{\"value\":9.2},\"line_color\":{\"field\":\"hazel\"},\"right\":{\"value\":9.8},\"top\":{\"value\":-0.536816206293769}},\"id\":\"2544bd5d-df6e-4be4-8716-696303ed2035\",\"type\":\"Quad\"},{\"attributes\":{\"bottom\":{\"value\":0},\"fill_alpha\":{\"value\":0.1},\"fill_color\":{\"value\":\"#1f77b4\"},\"left\":{\"value\":8.2},\"line_alpha\":{\"value\":0.1},\"line_color\":{\"value\":\"#1f77b4\"},\"right\":{\"value\":8.8},\"top\":{\"value\":0.7757406736065163}},\"id\":\"3cdfe7bc-876d-49eb-a0de-f33492bf51d4\",\"type\":\"Quad\"},{\"attributes\":{},\"id\":\"76f3737e-ff3e-48ff-95a1-18752eb18645\",\"type\":\"ToolEvents\"},{\"attributes\":{\"callback\":null},\"id\":\"85c39b70-d610-4068-96b7-80853fc6a655\",\"type\":\"ColumnDataSource\"},{\"attributes\":{\"callback\":null,\"end\":2.4933630972618093,\"start\":-0.9906794035902462},\"id\":\"14d1dc4e-db1e-4a95-96b7-a75c739d08da\",\"type\":\"Range1d\"},{\"attributes\":{\"bottom\":{\"value\":0},\"fill_color\":{\"value\":\"pink\"},\"left\":{\"value\":8.2},\"line_color\":{\"value\":\"pink\"},\"right\":{\"value\":8.8},\"top\":{\"value\":0.7757406736065163}},\"id\":\"9df2b5c1-419f-4608-badb-b506e6214c4b\",\"type\":\"Quad\"},{\"attributes\":{\"bottom\":{\"value\":0},\"fill_color\":{\"value\":\"black\"},\"left\":{\"value\":4.2},\"right\":{\"value\":4.8},\"top\":{\"value\":0.16669887913611653}},\"id\":\"91bea4bf-be17-4c0d-a3fc-1241322dca46\",\"type\":\"Quad\"},{\"attributes\":{\"dimension\":1,\"plot\":{\"id\":\"51f39171-f40b-472c-9a2f-ba4b1447727b\",\"subtype\":\"Figure\",\"type\":\"Plot\"},\"ticker\":{\"id\":\"a1cff191-16fd-40f5-b86d-f8e684b3ede6\",\"type\":\"BasicTicker\"}},\"id\":\"9118fb8b-570a-4acc-b08b-dc1c075f17d9\",\"type\":\"Grid\"},{\"attributes\":{\"data_source\":{\"id\":\"5e25cd43-fc82-4252-9840-5fa3f506940b\",\"type\":\"ColumnDataSource\"},\"glyph\":{\"id\":\"f8102ecb-4dab-4020-8c70-6d81d5487d64\",\"type\":\"Quad\"},\"hover_glyph\":null,\"nonselection_glyph\":{\"id\":\"f9d298da-04f8-46dd-af10-564e3d9105e5\",\"type\":\"Quad\"},\"selection_glyph\":null},\"id\":\"bc6db127-c51e-45bf-9746-a7b25571880d\",\"type\":\"GlyphRenderer\"},{\"attributes\":{\"formatter\":{\"id\":\"b5735264-1462-49eb-8abf-af426e7d3545\",\"type\":\"BasicTickFormatter\"},\"plot\":{\"id\":\"027a70d0-9790-4af8-a966-547e9f1b68e1\",\"subtype\":\"Figure\",\"type\":\"Plot\"},\"ticker\":{\"id\":\"9140f42f-64df-4aa3-ac37-7fc5644e06c7\",\"type\":\"BasicTicker\"}},\"id\":\"0c2a9a0c-5ae7-43b7-8f71-af744899b343\",\"type\":\"LinearAxis\"},{\"attributes\":{\"bottom\":{\"value\":0},\"fill_alpha\":{\"value\":0.1},\"fill_color\":{\"value\":\"#1f77b4\"},\"left\":{\"value\":9.2},\"line_alpha\":{\"value\":0.1},\"line_color\":{\"value\":\"#1f77b4\"},\"right\":{\"value\":9.8},\"top\":{\"value\":-0.536816206293769}},\"id\":\"c297b329-30c7-41cf-a1ef-ce6dd0b2d65b\",\"type\":\"Quad\"},{\"attributes\":{},\"id\":\"b2f3d6fa-9e7b-4de9-8934-c9da06da41b4\",\"type\":\"BasicTickFormatter\"},{\"attributes\":{\"bottom\":{\"value\":0},\"left\":{\"value\":7.2},\"line_color\":{\"value\":\"gray\"},\"right\":{\"value\":7.8},\"top\":{\"value\":-0.8906794035902462}},\"id\":\"398cfd84-b870-45e9-89ec-7e1ddad74c25\",\"type\":\"Quad\"},{\"attributes\":{\"bottom\":{\"value\":0},\"fill_color\":{\"value\":\"orange\"},\"left\":{\"value\":1.2},\"line_color\":{\"value\":\"orange\"},\"right\":{\"value\":1.8},\"top\":{\"value\":0.03340001972528662}},\"id\":\"818b67d6-f6ec-4313-b942-3dbf8660a59d\",\"type\":\"Quad\"},{\"attributes\":{\"bottom\":{\"value\":0},\"fill_color\":{\"value\":\"yellow\"},\"left\":{\"value\":5.2},\"line_color\":{\"value\":\"yellow\"},\"right\":{\"value\":5.8},\"top\":{\"value\":-0.736756589254854}},\"id\":\"14188d14-da39-4864-99ad-33844b50ec87\",\"type\":\"Quad\"},{\"attributes\":{\"bottom\":{\"value\":0},\"fill_color\":{\"value\":\"red\"},\"left\":{\"value\":0.2},\"line_color\":{\"value\":\"red\"},\"right\":{\"value\":0.8},\"top\":{\"value\":-0.3166354265346888}},\"id\":\"f8102ecb-4dab-4020-8c70-6d81d5487d64\",\"type\":\"Quad\"},{\"attributes\":{\"bottom\":{\"value\":0},\"fill_alpha\":{\"value\":0.1},\"fill_color\":{\"value\":\"#1f77b4\"},\"left\":{\"value\":0.2},\"line_alpha\":{\"value\":0.1},\"line_color\":{\"value\":\"#1f77b4\"},\"right\":{\"value\":0.8},\"top\":{\"value\":-0.09510060566876255}},\"id\":\"03581632-b007-43f0-9f88-e7a8fd7ee360\",\"type\":\"Quad\"},{\"attributes\":{\"bottom\":{\"value\":0},\"fill_color\":{\"value\":\"brown\"},\"left\":{\"value\":6.2},\"line_color\":{\"value\":\"brown\"},\"right\":{\"value\":6.8},\"top\":{\"value\":-0.7109600909468134}},\"id\":\"ecd24d5c-0d1d-44b9-898e-6be88be1bb52\",\"type\":\"Quad\"},{\"attributes\":{\"overlay\":{\"id\":\"9e04a738-2852-44cf-b409-6207d169c4a4\",\"type\":\"BoxAnnotation\"},\"plot\":{\"id\":\"51f39171-f40b-472c-9a2f-ba4b1447727b\",\"subtype\":\"Figure\",\"type\":\"Plot\"}},\"id\":\"b9eda978-92fd-447f-a07e-4bae6e9db756\",\"type\":\"BoxZoomTool\"},{\"attributes\":{\"bottom_units\":\"screen\",\"fill_alpha\":{\"value\":0.5},\"fill_color\":{\"value\":\"lightgrey\"},\"left_units\":\"screen\",\"level\":\"overlay\",\"line_alpha\":{\"value\":1.0},\"line_color\":{\"value\":\"black\"},\"line_dash\":[4,4],\"line_width\":{\"value\":2},\"plot\":null,\"render_mode\":\"css\",\"right_units\":\"screen\",\"top_units\":\"screen\"},\"id\":\"9e04a738-2852-44cf-b409-6207d169c4a4\",\"type\":\"BoxAnnotation\"},{\"attributes\":{\"plot\":{\"id\":\"51f39171-f40b-472c-9a2f-ba4b1447727b\",\"subtype\":\"Figure\",\"type\":\"Plot\"}},\"id\":\"53b3164f-211b-4b0a-a559-2bb6dbb78600\",\"type\":\"WheelZoomTool\"},{\"attributes\":{\"bottom\":{\"value\":0},\"fill_color\":{\"value\":\"purple\"},\"left\":{\"value\":3.2},\"line_color\":{\"value\":\"purple\"},\"right\":{\"value\":3.8},\"top\":{\"value\":-0.4650685532869331}},\"id\":\"1e2bceab-3cba-4327-8725-447a4545da42\",\"type\":\"Quad\"},{\"attributes\":{\"data_source\":{\"id\":\"d25be77c-ab91-479c-918a-72df383a2584\",\"type\":\"ColumnDataSource\"},\"glyph\":{\"id\":\"818b67d6-f6ec-4313-b942-3dbf8660a59d\",\"type\":\"Quad\"},\"hover_glyph\":null,\"nonselection_glyph\":{\"id\":\"dd977a3c-1890-41e0-a233-b5ac146109fc\",\"type\":\"Quad\"},\"selection_glyph\":null},\"id\":\"609384ee-69c5-49b2-b678-7182b9269877\",\"type\":\"GlyphRenderer\"},{\"attributes\":{\"bottom\":{\"value\":0},\"fill_alpha\":{\"value\":0.1},\"fill_color\":{\"value\":\"#1f77b4\"},\"left\":{\"value\":3.2},\"line_alpha\":{\"value\":0.1},\"line_color\":{\"value\":\"#1f77b4\"},\"right\":{\"value\":3.8},\"top\":{\"value\":-0.12140157527218728}},\"id\":\"e1b6967f-e94a-4d3b-a586-5dd144873b44\",\"type\":\"Quad\"},{\"attributes\":{\"formatter\":{\"id\":\"a92ec3d2-1964-4035-9273-a8b700c0e78c\",\"type\":\"BasicTickFormatter\"},\"plot\":{\"id\":\"027a70d0-9790-4af8-a966-547e9f1b68e1\",\"subtype\":\"Figure\",\"type\":\"Plot\"},\"ticker\":{\"id\":\"26add7e0-dafd-4a8f-a5f6-dc9856d4ccd4\",\"type\":\"BasicTicker\"}},\"id\":\"86bcd6dc-20f1-49fd-95ef-c0737791f717\",\"type\":\"LinearAxis\"},{\"attributes\":{},\"id\":\"b5735264-1462-49eb-8abf-af426e7d3545\",\"type\":\"BasicTickFormatter\"},{\"attributes\":{\"bottom\":{\"value\":0},\"fill_alpha\":{\"value\":0.1},\"fill_color\":{\"value\":\"#1f77b4\"},\"left\":{\"value\":3.2},\"line_alpha\":{\"value\":0.1},\"line_color\":{\"value\":\"#1f77b4\"},\"right\":{\"value\":3.8},\"top\":{\"value\":-0.4650685532869331}},\"id\":\"17f17f09-8550-474f-9f1f-ca45493daeac\",\"type\":\"Quad\"},{\"attributes\":{\"bottom\":{\"value\":0},\"fill_alpha\":{\"value\":0.1},\"fill_color\":{\"value\":\"#1f77b4\"},\"left\":{\"value\":4.2},\"line_alpha\":{\"value\":0.1},\"line_color\":{\"value\":\"#1f77b4\"},\"right\":{\"value\":4.8},\"top\":{\"value\":0.16669887913611653}},\"id\":\"e58090e2-dbdc-46dc-aef8-e90d4c0ba482\",\"type\":\"Quad\"},{\"attributes\":{\"bottom\":{\"value\":0},\"fill_color\":{\"value\":\"red\"},\"left\":{\"value\":0.2},\"line_color\":{\"value\":\"red\"},\"right\":{\"value\":0.8},\"top\":{\"value\":-0.09510060566876255}},\"id\":\"7a7cdd8e-bbb5-4039-abd7-59d41584382f\",\"type\":\"Quad\"},{\"attributes\":{\"data_source\":{\"id\":\"2267cea3-4765-4e3f-a6ba-c07d203732a7\",\"type\":\"ColumnDataSource\"},\"glyph\":{\"id\":\"91bea4bf-be17-4c0d-a3fc-1241322dca46\",\"type\":\"Quad\"},\"hover_glyph\":null,\"nonselection_glyph\":{\"id\":\"e58090e2-dbdc-46dc-aef8-e90d4c0ba482\",\"type\":\"Quad\"},\"selection_glyph\":null},\"id\":\"a60f875e-f532-417c-9ed6-23c11d3096fb\",\"type\":\"GlyphRenderer\"},{\"attributes\":{\"plot\":{\"id\":\"51f39171-f40b-472c-9a2f-ba4b1447727b\",\"subtype\":\"Figure\",\"type\":\"Plot\"}},\"id\":\"22685262-ad88-46a1-8b3e-5f9311c0432b\",\"type\":\"ResizeTool\"},{\"attributes\":{},\"id\":\"26add7e0-dafd-4a8f-a5f6-dc9856d4ccd4\",\"type\":\"BasicTicker\"},{\"attributes\":{\"bottom\":{\"value\":0},\"fill_alpha\":{\"value\":0.1},\"fill_color\":{\"value\":\"#1f77b4\"},\"left\":{\"value\":1.2},\"line_alpha\":{\"value\":0.1},\"line_color\":{\"value\":\"#1f77b4\"},\"right\":{\"value\":1.8},\"top\":{\"value\":0.03340001972528662}},\"id\":\"dd977a3c-1890-41e0-a233-b5ac146109fc\",\"type\":\"Quad\"},{\"attributes\":{\"data_source\":{\"id\":\"5ea990b6-b04c-40fd-8c59-80da76b6bd0f\",\"type\":\"ColumnDataSource\"},\"glyph\":{\"id\":\"398cfd84-b870-45e9-89ec-7e1ddad74c25\",\"type\":\"Quad\"},\"hover_glyph\":null,\"nonselection_glyph\":{\"id\":\"e35f7502-5e03-42a9-bec0-2c147092e8f6\",\"type\":\"Quad\"},\"selection_glyph\":null},\"id\":\"cbe37a30-21ac-402e-b5c6-3b06548b8f68\",\"type\":\"GlyphRenderer\"},{\"attributes\":{\"bottom_units\":\"screen\",\"fill_alpha\":{\"value\":0.5},\"fill_color\":{\"value\":\"lightgrey\"},\"left_units\":\"screen\",\"level\":\"overlay\",\"line_alpha\":{\"value\":1.0},\"line_color\":{\"value\":\"black\"},\"line_dash\":[4,4],\"line_width\":{\"value\":2},\"plot\":null,\"render_mode\":\"css\",\"right_units\":\"screen\",\"top_units\":\"screen\"},\"id\":\"b380c9f8-8d6a-414d-adb4-a8e298812a38\",\"type\":\"BoxAnnotation\"},{\"attributes\":{\"callback\":null},\"id\":\"2267cea3-4765-4e3f-a6ba-c07d203732a7\",\"type\":\"ColumnDataSource\"},{\"attributes\":{\"callback\":null},\"id\":\"5e25cd43-fc82-4252-9840-5fa3f506940b\",\"type\":\"ColumnDataSource\"},{\"attributes\":{},\"id\":\"3f13784b-0af9-4cd1-9ce8-5d4d500d80b5\",\"type\":\"ToolEvents\"},{\"attributes\":{\"plot\":{\"id\":\"027a70d0-9790-4af8-a966-547e9f1b68e1\",\"subtype\":\"Figure\",\"type\":\"Plot\"}},\"id\":\"627db383-187d-453f-b09d-2939c0eb2588\",\"type\":\"HelpTool\"},{\"attributes\":{\"callback\":null},\"id\":\"2eab6319-708b-4f01-9217-972258e000a2\",\"type\":\"ColumnDataSource\"},{\"attributes\":{\"bottom\":{\"value\":0},\"fill_color\":{\"value\":\"orange\"},\"left\":{\"value\":1.2},\"line_color\":{\"value\":\"orange\"},\"right\":{\"value\":1.8},\"top\":{\"value\":-0.4124127837300706}},\"id\":\"7dd26a53-e244-45a6-be66-fce255d4d6d6\",\"type\":\"Quad\"},{\"attributes\":{},\"id\":\"1be82da9-82f9-4f77-979b-2594f75a273f\",\"type\":\"BasicTicker\"},{\"attributes\":{\"plot\":{\"id\":\"027a70d0-9790-4af8-a966-547e9f1b68e1\",\"subtype\":\"Figure\",\"type\":\"Plot\"}},\"id\":\"74108650-3f4a-4826-ab5a-384027bdc6a5\",\"type\":\"PanTool\"},{\"attributes\":{\"bottom\":{\"value\":0},\"fill_alpha\":{\"value\":0.1},\"fill_color\":{\"value\":\"#1f77b4\"},\"left\":{\"value\":5.2},\"line_alpha\":{\"value\":0.1},\"line_color\":{\"value\":\"#1f77b4\"},\"right\":{\"value\":5.8},\"top\":{\"value\":-0.736756589254854}},\"id\":\"3537969e-46fc-4206-aa0e-0c17e9d42176\",\"type\":\"Quad\"},{\"attributes\":{\"data_source\":{\"id\":\"df7bbcb8-adf4-4652-96fc-c6bcb771e45e\",\"type\":\"ColumnDataSource\"},\"glyph\":{\"id\":\"9df2b5c1-419f-4608-badb-b506e6214c4b\",\"type\":\"Quad\"},\"hover_glyph\":null,\"nonselection_glyph\":{\"id\":\"3cdfe7bc-876d-49eb-a0de-f33492bf51d4\",\"type\":\"Quad\"},\"selection_glyph\":null},\"id\":\"b09d9d1c-87d5-42c0-97c2-78f814246a11\",\"type\":\"GlyphRenderer\"},{\"attributes\":{\"formatter\":{\"id\":\"b2dcc6e1-5a73-47f0-a90b-f68ec78aa1a0\",\"type\":\"BasicTickFormatter\"},\"plot\":{\"id\":\"51f39171-f40b-472c-9a2f-ba4b1447727b\",\"subtype\":\"Figure\",\"type\":\"Plot\"},\"ticker\":{\"id\":\"1be82da9-82f9-4f77-979b-2594f75a273f\",\"type\":\"BasicTicker\"}},\"id\":\"0cc146ca-c9ca-4822-bf49-b564b3d4ae5d\",\"type\":\"LinearAxis\"},{\"attributes\":{\"bottom\":{\"value\":0},\"fill_alpha\":{\"value\":0.1},\"fill_color\":{\"value\":\"#1f77b4\"},\"left\":{\"value\":2.2},\"line_alpha\":{\"value\":0.1},\"line_color\":{\"value\":\"#1f77b4\"},\"right\":{\"value\":2.8},\"top\":{\"value\":0.029667350738920583}},\"id\":\"44342087-89f1-4a2c-8205-5c608d40e4eb\",\"type\":\"Quad\"},{\"attributes\":{\"dimension\":1,\"plot\":{\"id\":\"027a70d0-9790-4af8-a966-547e9f1b68e1\",\"subtype\":\"Figure\",\"type\":\"Plot\"},\"ticker\":{\"id\":\"26add7e0-dafd-4a8f-a5f6-dc9856d4ccd4\",\"type\":\"BasicTicker\"}},\"id\":\"aa69de85-9152-4fa9-9a81-bbb06c79c667\",\"type\":\"Grid\"},{\"attributes\":{\"plot\":{\"id\":\"027a70d0-9790-4af8-a966-547e9f1b68e1\",\"subtype\":\"Figure\",\"type\":\"Plot\"},\"ticker\":{\"id\":\"9140f42f-64df-4aa3-ac37-7fc5644e06c7\",\"type\":\"BasicTicker\"}},\"id\":\"34cdf2fb-0849-4cf2-b4cf-ad2359c98dd1\",\"type\":\"Grid\"},{\"attributes\":{\"bottom\":{\"value\":0},\"fill_alpha\":{\"value\":0.1},\"fill_color\":{\"value\":\"#1f77b4\"},\"left\":{\"value\":7.2},\"line_alpha\":{\"value\":0.1},\"line_color\":{\"value\":\"#1f77b4\"},\"right\":{\"value\":7.8},\"top\":{\"value\":-0.8906794035902462}},\"id\":\"e35f7502-5e03-42a9-bec0-2c147092e8f6\",\"type\":\"Quad\"},{\"attributes\":{\"below\":[{\"id\":\"0c2a9a0c-5ae7-43b7-8f71-af744899b343\",\"type\":\"LinearAxis\"}],\"left\":[{\"id\":\"86bcd6dc-20f1-49fd-95ef-c0737791f717\",\"type\":\"LinearAxis\"}],\"renderers\":[{\"id\":\"0c2a9a0c-5ae7-43b7-8f71-af744899b343\",\"type\":\"LinearAxis\"},{\"id\":\"34cdf2fb-0849-4cf2-b4cf-ad2359c98dd1\",\"type\":\"Grid\"},{\"id\":\"86bcd6dc-20f1-49fd-95ef-c0737791f717\",\"type\":\"LinearAxis\"},{\"id\":\"aa69de85-9152-4fa9-9a81-bbb06c79c667\",\"type\":\"Grid\"},{\"id\":\"b380c9f8-8d6a-414d-adb4-a8e298812a38\",\"type\":\"BoxAnnotation\"},{\"id\":\"00898d7d-a429-44ea-8c4e-0afd7cbc95c4\",\"type\":\"Legend\"},{\"id\":\"bc6db127-c51e-45bf-9746-a7b25571880d\",\"type\":\"GlyphRenderer\"},{\"id\":\"609384ee-69c5-49b2-b678-7182b9269877\",\"type\":\"GlyphRenderer\"},{\"id\":\"9ca36a44-bdf8-4d90-8c66-27ea12eb23db\",\"type\":\"GlyphRenderer\"},{\"id\":\"686d0791-96f8-4de5-ba78-0e58d39eefd6\",\"type\":\"GlyphRenderer\"}],\"title\":\"MALE Model Coefficients Logistic Regression\",\"tool_events\":{\"id\":\"76f3737e-ff3e-48ff-95a1-18752eb18645\",\"type\":\"ToolEvents\"},\"tools\":[{\"id\":\"74108650-3f4a-4826-ab5a-384027bdc6a5\",\"type\":\"PanTool\"},{\"id\":\"9380ebe0-c93e-43b0-acfc-794348b003d2\",\"type\":\"WheelZoomTool\"},{\"id\":\"680c5f50-4354-4987-9f69-7e69804d209c\",\"type\":\"BoxZoomTool\"},{\"id\":\"5e85227e-f97f-4b57-bbee-7aa39655fd67\",\"type\":\"PreviewSaveTool\"},{\"id\":\"0ebb1fa6-ec5c-4fdc-b6fa-e49e9d7fbb5f\",\"type\":\"ResizeTool\"},{\"id\":\"e6fb55bf-c8f5-4b97-8137-e3d3ef80305f\",\"type\":\"ResetTool\"},{\"id\":\"627db383-187d-453f-b09d-2939c0eb2588\",\"type\":\"HelpTool\"}],\"x_range\":{\"id\":\"485f62fb-11a4-4b10-aec9-3c06a4d23c4d\",\"type\":\"DataRange1d\"},\"y_range\":{\"id\":\"db287ce8-ecef-4987-bc7f-5cd85e9294e5\",\"type\":\"Range1d\"}},\"id\":\"027a70d0-9790-4af8-a966-547e9f1b68e1\",\"subtype\":\"Figure\",\"type\":\"Plot\"},{\"attributes\":{\"data_source\":{\"id\":\"fbe1de56-51d0-4e07-a331-84261f922577\",\"type\":\"ColumnDataSource\"},\"glyph\":{\"id\":\"17973784-c28a-445c-a0f6-009b05f1face\",\"type\":\"Quad\"},\"hover_glyph\":null,\"nonselection_glyph\":{\"id\":\"44342087-89f1-4a2c-8205-5c608d40e4eb\",\"type\":\"Quad\"},\"selection_glyph\":null},\"id\":\"01dcec25-697d-4b08-95a3-266cd72368e5\",\"type\":\"GlyphRenderer\"},{\"attributes\":{},\"id\":\"a92ec3d2-1964-4035-9273-a8b700c0e78c\",\"type\":\"BasicTickFormatter\"},{\"attributes\":{\"bottom\":{\"value\":0},\"fill_color\":{\"value\":\"green\"},\"left\":{\"value\":2.2},\"line_color\":{\"value\":\"green\"},\"right\":{\"value\":2.8},\"top\":{\"value\":0.029667350738920583}},\"id\":\"17973784-c28a-445c-a0f6-009b05f1face\",\"type\":\"Quad\"},{\"attributes\":{\"bottom\":{\"value\":0},\"fill_alpha\":{\"value\":0.1},\"fill_color\":{\"value\":\"#1f77b4\"},\"left\":{\"value\":0.2},\"line_alpha\":{\"value\":0.1},\"line_color\":{\"value\":\"#1f77b4\"},\"right\":{\"value\":0.8},\"top\":{\"value\":-0.3166354265346888}},\"id\":\"f9d298da-04f8-46dd-af10-564e3d9105e5\",\"type\":\"Quad\"},{\"attributes\":{\"plot\":{\"id\":\"027a70d0-9790-4af8-a966-547e9f1b68e1\",\"subtype\":\"Figure\",\"type\":\"Plot\"}},\"id\":\"9380ebe0-c93e-43b0-acfc-794348b003d2\",\"type\":\"WheelZoomTool\"},{\"attributes\":{\"callback\":null},\"id\":\"a303557d-9a99-4204-b497-f4cdfca0e444\",\"type\":\"ColumnDataSource\"},{\"attributes\":{\"bottom\":{\"value\":0},\"fill_color\":{\"value\":\"green\"},\"left\":{\"value\":2.2},\"line_color\":{\"value\":\"green\"},\"right\":{\"value\":2.8},\"top\":{\"value\":-0.3197938079042032}},\"id\":\"904ec5ec-2301-4d4e-8695-2de60bcf2b77\",\"type\":\"Quad\"},{\"attributes\":{\"data_source\":{\"id\":\"1853b5a2-fb97-409a-984b-ad572bfe6d89\",\"type\":\"ColumnDataSource\"},\"glyph\":{\"id\":\"1e2bceab-3cba-4327-8725-447a4545da42\",\"type\":\"Quad\"},\"hover_glyph\":null,\"nonselection_glyph\":{\"id\":\"17f17f09-8550-474f-9f1f-ca45493daeac\",\"type\":\"Quad\"},\"selection_glyph\":null},\"id\":\"686d0791-96f8-4de5-ba78-0e58d39eefd6\",\"type\":\"GlyphRenderer\"},{\"attributes\":{\"plot\":{\"id\":\"51f39171-f40b-472c-9a2f-ba4b1447727b\",\"subtype\":\"Figure\",\"type\":\"Plot\"}},\"id\":\"4990e790-bd56-489b-a546-1ebc9e62b796\",\"type\":\"HelpTool\"},{\"attributes\":{\"callback\":null},\"id\":\"f9e74d9b-7a28-4067-b256-ba75bb21222f\",\"type\":\"ColumnDataSource\"},{\"attributes\":{\"data_source\":{\"id\":\"b95296e2-4a09-41e0-b71e-02a30d25c353\",\"type\":\"ColumnDataSource\"},\"glyph\":{\"id\":\"7a7cdd8e-bbb5-4039-abd7-59d41584382f\",\"type\":\"Quad\"},\"hover_glyph\":null,\"nonselection_glyph\":{\"id\":\"03581632-b007-43f0-9f88-e7a8fd7ee360\",\"type\":\"Quad\"},\"selection_glyph\":null},\"id\":\"0a5c0e6f-8cfe-4617-9839-1e5264b01eb0\",\"type\":\"GlyphRenderer\"},{\"attributes\":{\"callback\":null,\"end\":2.121574536105329,\"start\":-0.9320830545412506},\"id\":\"db287ce8-ecef-4987-bc7f-5cd85e9294e5\",\"type\":\"Range1d\"},{\"attributes\":{\"callback\":null},\"id\":\"1853b5a2-fb97-409a-984b-ad572bfe6d89\",\"type\":\"ColumnDataSource\"},{\"attributes\":{\"plot\":{\"id\":\"027a70d0-9790-4af8-a966-547e9f1b68e1\",\"subtype\":\"Figure\",\"type\":\"Plot\"}},\"id\":\"0ebb1fa6-ec5c-4fdc-b6fa-e49e9d7fbb5f\",\"type\":\"ResizeTool\"},{\"attributes\":{\"overlay\":{\"id\":\"b380c9f8-8d6a-414d-adb4-a8e298812a38\",\"type\":\"BoxAnnotation\"},\"plot\":{\"id\":\"027a70d0-9790-4af8-a966-547e9f1b68e1\",\"subtype\":\"Figure\",\"type\":\"Plot\"}},\"id\":\"680c5f50-4354-4987-9f69-7e69804d209c\",\"type\":\"BoxZoomTool\"},{\"attributes\":{\"data_source\":{\"id\":\"a303557d-9a99-4204-b497-f4cdfca0e444\",\"type\":\"ColumnDataSource\"},\"glyph\":{\"id\":\"31b4a37c-6c16-46cf-9eb1-47a093155efb\",\"type\":\"Quad\"},\"hover_glyph\":null,\"nonselection_glyph\":{\"id\":\"e1b6967f-e94a-4d3b-a586-5dd144873b44\",\"type\":\"Quad\"},\"selection_glyph\":null},\"id\":\"0650684f-2b4e-4e94-a816-a9973de733d7\",\"type\":\"GlyphRenderer\"},{\"attributes\":{\"plot\":{\"id\":\"51f39171-f40b-472c-9a2f-ba4b1447727b\",\"subtype\":\"Figure\",\"type\":\"Plot\"}},\"id\":\"eb6c70ac-b1a6-40a9-959a-86c7954a28cc\",\"type\":\"ResetTool\"},{\"attributes\":{\"callback\":null},\"id\":\"29dd5826-7ec2-46b6-a17b-1eaa12d119b4\",\"type\":\"DataRange1d\"},{\"attributes\":{\"data_source\":{\"id\":\"85c39b70-d610-4068-96b7-80853fc6a655\",\"type\":\"ColumnDataSource\"},\"glyph\":{\"id\":\"14188d14-da39-4864-99ad-33844b50ec87\",\"type\":\"Quad\"},\"hover_glyph\":null,\"nonselection_glyph\":{\"id\":\"3537969e-46fc-4206-aa0e-0c17e9d42176\",\"type\":\"Quad\"},\"selection_glyph\":null},\"id\":\"50be2a42-1bd2-4d62-ab44-3c122bd0a7d6\",\"type\":\"GlyphRenderer\"},{\"attributes\":{\"bottom\":{\"value\":0},\"fill_color\":{\"value\":\"purple\"},\"left\":{\"value\":3.2},\"line_color\":{\"value\":\"purple\"},\"right\":{\"value\":3.8},\"top\":{\"value\":-0.12140157527218728}},\"id\":\"31b4a37c-6c16-46cf-9eb1-47a093155efb\",\"type\":\"Quad\"},{\"attributes\":{\"data_source\":{\"id\":\"067492cf-36e1-4853-9d6a-a8aff7f6c264\",\"type\":\"ColumnDataSource\"},\"glyph\":{\"id\":\"904ec5ec-2301-4d4e-8695-2de60bcf2b77\",\"type\":\"Quad\"},\"hover_glyph\":null,\"nonselection_glyph\":{\"id\":\"9ee74670-4155-43a0-862a-62b1eac4e6e8\",\"type\":\"Quad\"},\"selection_glyph\":null},\"id\":\"9ca36a44-bdf8-4d90-8c66-27ea12eb23db\",\"type\":\"GlyphRenderer\"},{\"attributes\":{\"callback\":null},\"id\":\"fbe1de56-51d0-4e07-a331-84261f922577\",\"type\":\"ColumnDataSource\"},{\"attributes\":{\"data_source\":{\"id\":\"f9e74d9b-7a28-4067-b256-ba75bb21222f\",\"type\":\"ColumnDataSource\"},\"glyph\":{\"id\":\"ecd24d5c-0d1d-44b9-898e-6be88be1bb52\",\"type\":\"Quad\"},\"hover_glyph\":null,\"nonselection_glyph\":{\"id\":\"62b099b8-4131-481a-a108-2da2ef60b241\",\"type\":\"Quad\"},\"selection_glyph\":null},\"id\":\"176d714d-a8e3-44ce-8419-462b0216bd6e\",\"type\":\"GlyphRenderer\"},{\"attributes\":{\"data_source\":{\"id\":\"9def8f09-3027-499d-aebb-707a1486178d\",\"type\":\"ColumnDataSource\"},\"glyph\":{\"id\":\"7dd26a53-e244-45a6-be66-fce255d4d6d6\",\"type\":\"Quad\"},\"hover_glyph\":null,\"nonselection_glyph\":{\"id\":\"5829025e-958c-4278-a1ff-e2418643c9dd\",\"type\":\"Quad\"},\"selection_glyph\":null},\"id\":\"0cf6ed57-b5bf-464b-9a19-d116d2e724b8\",\"type\":\"GlyphRenderer\"},{\"attributes\":{\"plot\":{\"id\":\"027a70d0-9790-4af8-a966-547e9f1b68e1\",\"subtype\":\"Figure\",\"type\":\"Plot\"}},\"id\":\"e6fb55bf-c8f5-4b97-8137-e3d3ef80305f\",\"type\":\"ResetTool\"},{\"attributes\":{\"bottom\":{\"value\":0},\"fill_alpha\":{\"value\":0.1},\"fill_color\":{\"value\":\"#1f77b4\"},\"left\":{\"value\":1.2},\"line_alpha\":{\"value\":0.1},\"line_color\":{\"value\":\"#1f77b4\"},\"right\":{\"value\":1.8},\"top\":{\"value\":-0.4124127837300706}},\"id\":\"5829025e-958c-4278-a1ff-e2418643c9dd\",\"type\":\"Quad\"},{\"attributes\":{\"bottom\":{\"value\":0},\"fill_alpha\":{\"value\":0.1},\"fill_color\":{\"value\":\"#1f77b4\"},\"left\":{\"value\":2.2},\"line_alpha\":{\"value\":0.1},\"line_color\":{\"value\":\"#1f77b4\"},\"right\":{\"value\":2.8},\"top\":{\"value\":-0.3197938079042032}},\"id\":\"9ee74670-4155-43a0-862a-62b1eac4e6e8\",\"type\":\"Quad\"},{\"attributes\":{\"callback\":null},\"id\":\"485f62fb-11a4-4b10-aec9-3c06a4d23c4d\",\"type\":\"DataRange1d\"},{\"attributes\":{\"callback\":null},\"id\":\"9def8f09-3027-499d-aebb-707a1486178d\",\"type\":\"ColumnDataSource\"},{\"attributes\":{},\"id\":\"9140f42f-64df-4aa3-ac37-7fc5644e06c7\",\"type\":\"BasicTicker\"}],\"root_ids\":[\"51f39171-f40b-472c-9a2f-ba4b1447727b\",\"027a70d0-9790-4af8-a966-547e9f1b68e1\"]},\"title\":\"Bokeh Application\",\"version\":\"0.11.1\"}};\n",
       "            var render_items = [{\"docid\":\"d190ec56-263c-4901-9f21-b25df7d35b9d\",\"elementid\":\"abb99e2c-aa72-4128-aa5d-c84449e040c0\",\"modelid\":\"027a70d0-9790-4af8-a966-547e9f1b68e1\",\"notebook_comms_target\":\"c456730a-b927-444a-a815-4b81a1da1bd4\"}];\n",
       "            \n",
       "            Bokeh.embed.embed_items(docs_json, render_items);\n",
       "        });\n",
       "      },\n",
       "      function(Bokeh) {\n",
       "      }\n",
       "    ];\n",
       "  \n",
       "    function run_inline_js() {\n",
       "      for (var i = 0; i < inline_js.length; i++) {\n",
       "        inline_js[i](window.Bokeh);\n",
       "      }\n",
       "    }\n",
       "  \n",
       "    if (window._bokeh_is_loading === 0) {\n",
       "      console.log(\"Bokeh: BokehJS loaded, going straight to plotting\");\n",
       "      run_inline_js();\n",
       "    } else {\n",
       "      load_libs(js_urls, function() {\n",
       "        console.log(\"Bokeh: BokehJS plotting callback run at\", now());\n",
       "        run_inline_js();\n",
       "      });\n",
       "    }\n",
       "  }(this));\n",
       "</script>"
      ]
     },
     "metadata": {},
     "output_type": "display_data"
    },
    {
     "data": {
      "text/html": [
       "<p><code>&lt;Bokeh Notebook handle for <strong>In[48]</strong>&gt;</code></p>"
      ],
      "text/plain": [
       "<bokeh.io._CommsHandle at 0x120be3fd0>"
      ]
     },
     "execution_count": 48,
     "metadata": {},
     "output_type": "execute_result"
    }
   ],
   "source": [
    "p = figure(title=\"MALE Model Coefficients Logistic Regression\")\n",
    "for val in x_male:\n",
    "    p.quad(top=model_lr_male.coef_.ravel()[val], \n",
    "           bottom=0, left=val+0.2,right=val+0.8, \n",
    "           color=['red','orange','green','purple','yellow','brown'][val],\n",
    "           legend=names_male[val]\n",
    "          )\n",
    "    \n",
    "p.y_range = Range1d(min(model_lr_male.coef_.ravel())-0.1, max(model_lr_male.coef_.ravel())+1.5)\n",
    "show(p)"
   ]
  },
  {
   "cell_type": "code",
   "execution_count": 49,
   "metadata": {
    "collapsed": false
   },
   "outputs": [
    {
     "data": {
      "text/html": [
       "<div>\n",
       "<table border=\"1\" class=\"dataframe\">\n",
       "  <thead>\n",
       "    <tr style=\"text-align: right;\">\n",
       "      <th></th>\n",
       "      <th>features</th>\n",
       "      <th>coeff</th>\n",
       "    </tr>\n",
       "  </thead>\n",
       "  <tbody>\n",
       "    <tr>\n",
       "      <th>0</th>\n",
       "      <td>Net enrolment rate, secondary, gender parity i...</td>\n",
       "      <td>-0.316635</td>\n",
       "    </tr>\n",
       "    <tr>\n",
       "      <th>1</th>\n",
       "      <td>Net enrolment rate, secondary, male (%)</td>\n",
       "      <td>0.033400</td>\n",
       "    </tr>\n",
       "    <tr>\n",
       "      <th>2</th>\n",
       "      <td>School life expectancy, secondary, gender pari...</td>\n",
       "      <td>-0.319794</td>\n",
       "    </tr>\n",
       "  </tbody>\n",
       "</table>\n",
       "</div>"
      ],
      "text/plain": [
       "                                            features     coeff\n",
       "0  Net enrolment rate, secondary, gender parity i... -0.316635\n",
       "1            Net enrolment rate, secondary, male (%)  0.033400\n",
       "2  School life expectancy, secondary, gender pari... -0.319794"
      ]
     },
     "execution_count": 49,
     "metadata": {},
     "output_type": "execute_result"
    }
   ],
   "source": [
    "coeffs_male = pd.DataFrame(zip(features_male.columns[:-1],model_lr_male.coef_.ravel()),columns=['features','coeff'])\n",
    "coeffs_male.head()"
   ]
  },
  {
   "cell_type": "markdown",
   "metadata": {},
   "source": [
    "### Compare Performance of Logistic Regression to KNN\n"
   ]
  },
  {
   "cell_type": "code",
   "execution_count": 50,
   "metadata": {
    "collapsed": false
   },
   "outputs": [
    {
     "data": {
      "text/plain": [
       "0.72121212121212119"
      ]
     },
     "execution_count": 50,
     "metadata": {},
     "output_type": "execute_result"
    }
   ],
   "source": [
    "model_knn_male = KNeighborsClassifier(11)\n",
    "cross_val_score(model_knn_male,features_male,target_male,cv=11).mean()"
   ]
  },
  {
   "cell_type": "code",
   "execution_count": 51,
   "metadata": {
    "collapsed": false
   },
   "outputs": [
    {
     "name": "stdout",
     "output_type": "stream",
     "text": [
      "0.521212121212\n"
     ]
    }
   ],
   "source": [
    "# Decision Tree\n",
    "\n",
    "decision_tree_male = sklearn.tree.DecisionTreeClassifier()\n",
    "score_male = sklearn.cross_validation.cross_val_score(decision_tree_male,features_male,target_male,cv=11).mean()\n",
    "print(score_male)"
   ]
  },
  {
   "cell_type": "markdown",
   "metadata": {},
   "source": [
    "## Objective 3: Predict `Quality of Commitment` for Female Secondary Education"
   ]
  },
  {
   "cell_type": "markdown",
   "metadata": {},
   "source": [
    "Now that 3 <b>`Quality of Commitment`</b> clusters have been built, I want to know whether the features for secondary-education of males can predict a country's class membership"
   ]
  },
  {
   "cell_type": "markdown",
   "metadata": {},
   "source": [
    "In order to predict the `Quality of Commitment` for Female Secondary Education across the 27 countries above, I will leverage features that specifically represent characteristcs of females in secondary education."
   ]
  },
  {
   "cell_type": "markdown",
   "metadata": {},
   "source": [
    "#### In order to arrive at the class-membership predictions, I will leverage 4 features (per country):\n",
    "1) Net enrolment rate, secondary, gender parity index (GPI) <br>\n",
    "2) Net enrolment rate, secondary, female (%) <br>\n",
    "3) School life expectancy, secondary, gender parity index (GPI) <br>\n",
    "4) School life expectancy, secondary, female (years) <br>"
   ]
  },
  {
   "cell_type": "markdown",
   "metadata": {},
   "source": [
    "Within the World Bank's bounty of datasets there exists features for each topic noted above, which I use to build my feature-space:<br>\n",
    "<br>\n",
    "\n",
    "Topic: <b>Net enrolment rate, secondary, gender parity index (GPI)</b><br>\n",
    "Description:<br>\n",
    "Ratio of female net enrolment rate for secondary to the male net enrolment rate for secondary. It is calculated by dividing the female value for the indicator by the male value for the indicator. A GPI equal to 1 indicates parity between females and males. In general, a value less than 1 indicates disparity in favor of males and a value greater than 1 indicates disparity in favor of females.\n",
    "<br>\n",
    "<br>\n",
    "\n",
    "Topic: <b>Net enrolment rate, secondary, female (%)</b> <br>\n",
    "Description: <br>\n",
    "Total number of female students in the theoretical age group for secondary education enrolled in that level, expressed as a percentage of the total female population in that age group. Divide the number of female students enrolled who are of the official age group for secondary education by the female population for the same age group and multiply the result by 100. NER at each level of education should be based on enrolment of the relevant age group in all types of schools and education institutions, including public, private and all other institutions that provide organized educational programmes.\n",
    "<br>\n",
    "\n",
    "Topic: <b>School life expectancy, secondary, gender parity index (GPI)</b> <br>\n",
    "Description: <br>\n",
    "Ratio of female school life expectancy to the male school life expectancy. It is calculated by dividing the female value for the indicator by the male value for the indicator. A GPI equal to 1 indicates parity between females and males. In general, a value less than 1 indicates disparity in favor of males and a value greater than 1 indicates disparity in favor of females.<br>\n",
    "<br>\n",
    "\n",
    "Topic: <b>School life expectancy, secondary, female (years)</b> <br>\n",
    "Description: <br>\n",
    "Number of years a person of school entrance age can expect to spend within the specified level of education. For a child of a certain age a, the school life expectancy is calculated as the sum of the age specific enrolment rates for the levels of education specified. The part of the enrolment that is not distributed by age is divided by the school-age population for the level of education they are enrolled in, and multiplied by the duration of that level of education. The result is then added to the sum of the age-specific enrolment rates. A relatively high SLE indicates greater probability for children to spend more years in education and higher overall retention within the education system. It must be noted that the expected number of years does not necessarily coincide with the expected number of grades of education completed, because of repetition. Since school life expectancy is an average based on participation in different levels of education, the expected number of years of schooling may be pulled down by the magnitude of children who never go to school. Those children who are in school may benefit from many more years of education than the average.\n",
    "<br>"
   ]
  },
  {
   "cell_type": "code",
   "execution_count": 52,
   "metadata": {
    "collapsed": true
   },
   "outputs": [],
   "source": [
    "secondary_ed_females = (\n",
    "    education_data.loc[\n",
    "        education_data[\n",
    "            'Series'\n",
    "        ].isin(\n",
    "            [\n",
    "            'Net enrolment rate, secondary, gender parity index (GPI)',\n",
    "            'Net enrolment rate, secondary, female (%)',\n",
    "            'School life expectancy, secondary, gender parity index (GPI)',\n",
    "            'School life expectancy, secondary, female (years)'\n",
    "            ]\n",
    "        )\n",
    "    ]\n",
    ")"
   ]
  },
  {
   "cell_type": "code",
   "execution_count": 53,
   "metadata": {
    "collapsed": false
   },
   "outputs": [
    {
     "data": {
      "text/html": [
       "<div>\n",
       "<table border=\"1\" class=\"dataframe\">\n",
       "  <thead>\n",
       "    <tr style=\"text-align: right;\">\n",
       "      <th></th>\n",
       "      <th>﻿Country</th>\n",
       "      <th>Country Code</th>\n",
       "      <th>Series</th>\n",
       "      <th>Series Code</th>\n",
       "      <th>2011 [YR2011]</th>\n",
       "    </tr>\n",
       "  </thead>\n",
       "  <tbody>\n",
       "    <tr>\n",
       "      <th>1633</th>\n",
       "      <td>Afghanistan</td>\n",
       "      <td>AFG</td>\n",
       "      <td>Net enrolment rate, secondary, female (%)</td>\n",
       "      <td>SE.SEC.NENR.FE</td>\n",
       "      <td>..</td>\n",
       "    </tr>\n",
       "    <tr>\n",
       "      <th>1634</th>\n",
       "      <td>Afghanistan</td>\n",
       "      <td>AFG</td>\n",
       "      <td>Net enrolment rate, secondary, gender parity i...</td>\n",
       "      <td>UIS.NER.23.GPI</td>\n",
       "      <td>..</td>\n",
       "    </tr>\n",
       "    <tr>\n",
       "      <th>2865</th>\n",
       "      <td>Afghanistan</td>\n",
       "      <td>AFG</td>\n",
       "      <td>School life expectancy, secondary, female (years)</td>\n",
       "      <td>UIS.SLE.23.F</td>\n",
       "      <td>2.18757009506226</td>\n",
       "    </tr>\n",
       "    <tr>\n",
       "      <th>2866</th>\n",
       "      <td>Afghanistan</td>\n",
       "      <td>AFG</td>\n",
       "      <td>School life expectancy, secondary, gender pari...</td>\n",
       "      <td>UIS.SLE.23.GPI</td>\n",
       "      <td>0.548789978027344</td>\n",
       "    </tr>\n",
       "    <tr>\n",
       "      <th>4633</th>\n",
       "      <td>Albania</td>\n",
       "      <td>ALB</td>\n",
       "      <td>Net enrolment rate, secondary, female (%)</td>\n",
       "      <td>SE.SEC.NENR.FE</td>\n",
       "      <td>..</td>\n",
       "    </tr>\n",
       "  </tbody>\n",
       "</table>\n",
       "</div>"
      ],
      "text/plain": [
       "         ﻿Country Country Code  \\\n",
       "1633  Afghanistan          AFG   \n",
       "1634  Afghanistan          AFG   \n",
       "2865  Afghanistan          AFG   \n",
       "2866  Afghanistan          AFG   \n",
       "4633      Albania          ALB   \n",
       "\n",
       "                                                 Series     Series Code  \\\n",
       "1633          Net enrolment rate, secondary, female (%)  SE.SEC.NENR.FE   \n",
       "1634  Net enrolment rate, secondary, gender parity i...  UIS.NER.23.GPI   \n",
       "2865  School life expectancy, secondary, female (years)    UIS.SLE.23.F   \n",
       "2866  School life expectancy, secondary, gender pari...  UIS.SLE.23.GPI   \n",
       "4633          Net enrolment rate, secondary, female (%)  SE.SEC.NENR.FE   \n",
       "\n",
       "          2011 [YR2011]  \n",
       "1633                 ..  \n",
       "1634                 ..  \n",
       "2865   2.18757009506226  \n",
       "2866  0.548789978027344  \n",
       "4633                 ..  "
      ]
     },
     "execution_count": 53,
     "metadata": {},
     "output_type": "execute_result"
    }
   ],
   "source": [
    "secondary_ed_females.head()"
   ]
  },
  {
   "cell_type": "code",
   "execution_count": 54,
   "metadata": {
    "collapsed": false
   },
   "outputs": [
    {
     "name": "stderr",
     "output_type": "stream",
     "text": [
      "/anaconda/lib/python2.7/site-packages/ipykernel/__main__.py:2: SettingWithCopyWarning: \n",
      "A value is trying to be set on a copy of a slice from a DataFrame\n",
      "\n",
      "See the caveats in the documentation: http://pandas.pydata.org/pandas-docs/stable/indexing.html#indexing-view-versus-copy\n",
      "  from ipykernel import kernelapp as app\n"
     ]
    }
   ],
   "source": [
    "# Remove unnecessary columns\n",
    "secondary_ed_females.drop(['Country Code','Series Code'],axis=1,inplace=True)"
   ]
  },
  {
   "cell_type": "code",
   "execution_count": 55,
   "metadata": {
    "collapsed": true
   },
   "outputs": [],
   "source": [
    "secondary_ed_females.columns = ['Country','Feature','Feature Value']"
   ]
  },
  {
   "cell_type": "code",
   "execution_count": 56,
   "metadata": {
    "collapsed": false
   },
   "outputs": [
    {
     "data": {
      "text/html": [
       "<div>\n",
       "<table border=\"1\" class=\"dataframe\">\n",
       "  <thead>\n",
       "    <tr style=\"text-align: right;\">\n",
       "      <th>Feature</th>\n",
       "      <th>Country</th>\n",
       "      <th>Net enrolment rate, secondary, female (%)</th>\n",
       "      <th>Net enrolment rate, secondary, gender parity index (GPI)</th>\n",
       "      <th>School life expectancy, secondary, female (years)</th>\n",
       "      <th>School life expectancy, secondary, gender parity index (GPI)</th>\n",
       "    </tr>\n",
       "  </thead>\n",
       "  <tbody>\n",
       "    <tr>\n",
       "      <th>0</th>\n",
       "      <td>Afghanistan</td>\n",
       "      <td>..</td>\n",
       "      <td>..</td>\n",
       "      <td>2.18757009506226</td>\n",
       "      <td>0.548789978027344</td>\n",
       "    </tr>\n",
       "    <tr>\n",
       "      <th>1</th>\n",
       "      <td>Albania</td>\n",
       "      <td>..</td>\n",
       "      <td>..</td>\n",
       "      <td>..</td>\n",
       "      <td>..</td>\n",
       "    </tr>\n",
       "    <tr>\n",
       "      <th>2</th>\n",
       "      <td>Algeria</td>\n",
       "      <td>..</td>\n",
       "      <td>..</td>\n",
       "      <td>6.82981014251709</td>\n",
       "      <td>1.03393995761871</td>\n",
       "    </tr>\n",
       "    <tr>\n",
       "      <th>3</th>\n",
       "      <td>American Samoa</td>\n",
       "      <td>..</td>\n",
       "      <td>..</td>\n",
       "      <td>..</td>\n",
       "      <td>..</td>\n",
       "    </tr>\n",
       "    <tr>\n",
       "      <th>4</th>\n",
       "      <td>Andorra</td>\n",
       "      <td>..</td>\n",
       "      <td>..</td>\n",
       "      <td>..</td>\n",
       "      <td>..</td>\n",
       "    </tr>\n",
       "  </tbody>\n",
       "</table>\n",
       "</div>"
      ],
      "text/plain": [
       "Feature         Country Net enrolment rate, secondary, female (%)  \\\n",
       "0           Afghanistan                                        ..   \n",
       "1               Albania                                        ..   \n",
       "2               Algeria                                        ..   \n",
       "3        American Samoa                                        ..   \n",
       "4               Andorra                                        ..   \n",
       "\n",
       "Feature Net enrolment rate, secondary, gender parity index (GPI)  \\\n",
       "0                                                       ..         \n",
       "1                                                       ..         \n",
       "2                                                       ..         \n",
       "3                                                       ..         \n",
       "4                                                       ..         \n",
       "\n",
       "Feature School life expectancy, secondary, female (years)  \\\n",
       "0                                        2.18757009506226   \n",
       "1                                                      ..   \n",
       "2                                        6.82981014251709   \n",
       "3                                                      ..   \n",
       "4                                                      ..   \n",
       "\n",
       "Feature School life expectancy, secondary, gender parity index (GPI)  \n",
       "0                                        0.548789978027344            \n",
       "1                                                       ..            \n",
       "2                                         1.03393995761871            \n",
       "3                                                       ..            \n",
       "4                                                       ..            "
      ]
     },
     "execution_count": 56,
     "metadata": {},
     "output_type": "execute_result"
    }
   ],
   "source": [
    "secondary_ed_females_pivot = secondary_ed_females.pivot(index='Country', columns='Feature', values='Feature Value')\n",
    "secondary_ed_females_reset = secondary_ed_females_pivot.dropna().reset_index()\n",
    "secondary_ed_females_reset.head()"
   ]
  },
  {
   "cell_type": "code",
   "execution_count": 57,
   "metadata": {
    "collapsed": true
   },
   "outputs": [],
   "source": [
    "edu_class_female = pd.merge(edu_with_classes, secondary_ed_females_reset, on='Country', how='left')"
   ]
  },
  {
   "cell_type": "code",
   "execution_count": 58,
   "metadata": {
    "collapsed": false
   },
   "outputs": [
    {
     "data": {
      "text/html": [
       "<div>\n",
       "<table border=\"1\" class=\"dataframe\">\n",
       "  <thead>\n",
       "    <tr style=\"text-align: right;\">\n",
       "      <th>Feature</th>\n",
       "      <th>Country</th>\n",
       "      <th>class_labels</th>\n",
       "      <th>Net enrolment rate, secondary, female (%)</th>\n",
       "      <th>Net enrolment rate, secondary, gender parity index (GPI)</th>\n",
       "      <th>School life expectancy, secondary, female (years)</th>\n",
       "      <th>School life expectancy, secondary, gender parity index (GPI)</th>\n",
       "    </tr>\n",
       "  </thead>\n",
       "  <tbody>\n",
       "    <tr>\n",
       "      <th>0</th>\n",
       "      <td>Bulgaria</td>\n",
       "      <td>0</td>\n",
       "      <td>84.3120803833008</td>\n",
       "      <td>0.978900015354156</td>\n",
       "      <td>7.18878984451294</td>\n",
       "      <td>0.960240006446838</td>\n",
       "    </tr>\n",
       "    <tr>\n",
       "      <th>1</th>\n",
       "      <td>Burkina Faso</td>\n",
       "      <td>2</td>\n",
       "      <td>16.3774890899658</td>\n",
       "      <td>0.80102002620697</td>\n",
       "      <td>1.53029000759125</td>\n",
       "      <td>0.774110019207001</td>\n",
       "    </tr>\n",
       "    <tr>\n",
       "      <th>2</th>\n",
       "      <td>Colombia</td>\n",
       "      <td>3</td>\n",
       "      <td>78.4101486206055</td>\n",
       "      <td>1.07465994358063</td>\n",
       "      <td>6.11611986160278</td>\n",
       "      <td>1.08826994895935</td>\n",
       "    </tr>\n",
       "    <tr>\n",
       "      <th>3</th>\n",
       "      <td>Cyprus</td>\n",
       "      <td>4</td>\n",
       "      <td>90.6231079101563</td>\n",
       "      <td>1.02063000202179</td>\n",
       "      <td>5.60550022125244</td>\n",
       "      <td>1.01495003700256</td>\n",
       "    </tr>\n",
       "    <tr>\n",
       "      <th>4</th>\n",
       "      <td>Ecuador</td>\n",
       "      <td>1</td>\n",
       "      <td>72.9861679077148</td>\n",
       "      <td>1.0220799446106</td>\n",
       "      <td>5.17021989822388</td>\n",
       "      <td>1.01372003555298</td>\n",
       "    </tr>\n",
       "  </tbody>\n",
       "</table>\n",
       "</div>"
      ],
      "text/plain": [
       "Feature       Country  class_labels Net enrolment rate, secondary, female (%)  \\\n",
       "0            Bulgaria             0                          84.3120803833008   \n",
       "1        Burkina Faso             2                          16.3774890899658   \n",
       "2            Colombia             3                          78.4101486206055   \n",
       "3              Cyprus             4                          90.6231079101563   \n",
       "4             Ecuador             1                          72.9861679077148   \n",
       "\n",
       "Feature Net enrolment rate, secondary, gender parity index (GPI)  \\\n",
       "0                                        0.978900015354156         \n",
       "1                                         0.80102002620697         \n",
       "2                                         1.07465994358063         \n",
       "3                                         1.02063000202179         \n",
       "4                                          1.0220799446106         \n",
       "\n",
       "Feature School life expectancy, secondary, female (years)  \\\n",
       "0                                        7.18878984451294   \n",
       "1                                        1.53029000759125   \n",
       "2                                        6.11611986160278   \n",
       "3                                        5.60550022125244   \n",
       "4                                        5.17021989822388   \n",
       "\n",
       "Feature School life expectancy, secondary, gender parity index (GPI)  \n",
       "0                                        0.960240006446838            \n",
       "1                                        0.774110019207001            \n",
       "2                                         1.08826994895935            \n",
       "3                                         1.01495003700256            \n",
       "4                                         1.01372003555298            "
      ]
     },
     "execution_count": 58,
     "metadata": {},
     "output_type": "execute_result"
    }
   ],
   "source": [
    "edu_class_female.head()"
   ]
  },
  {
   "cell_type": "code",
   "execution_count": 59,
   "metadata": {
    "collapsed": true
   },
   "outputs": [],
   "source": [
    "features_fem = edu_class_female.drop(['Country','class_labels'],axis=1)\n",
    "target_fem = edu_class_female.class_labels\n",
    "scaler_fem = StandardScaler()\n",
    "fem_features_normalized = scaler_fem.fit_transform(features_fem)"
   ]
  },
  {
   "cell_type": "code",
   "execution_count": 60,
   "metadata": {
    "collapsed": false
   },
   "outputs": [
    {
     "data": {
      "text/html": [
       "<div>\n",
       "<table border=\"1\" class=\"dataframe\">\n",
       "  <thead>\n",
       "    <tr style=\"text-align: right;\">\n",
       "      <th>Feature</th>\n",
       "      <th>Net enrolment rate, secondary, female (%)</th>\n",
       "      <th>Net enrolment rate, secondary, gender parity index (GPI)</th>\n",
       "      <th>School life expectancy, secondary, female (years)</th>\n",
       "      <th>School life expectancy, secondary, gender parity index (GPI)</th>\n",
       "    </tr>\n",
       "  </thead>\n",
       "  <tbody>\n",
       "    <tr>\n",
       "      <th>0</th>\n",
       "      <td>0.248431</td>\n",
       "      <td>-0.104284</td>\n",
       "      <td>0.972924</td>\n",
       "      <td>-0.200720</td>\n",
       "    </tr>\n",
       "    <tr>\n",
       "      <th>1</th>\n",
       "      <td>-2.866086</td>\n",
       "      <td>-1.762741</td>\n",
       "      <td>-2.525707</td>\n",
       "      <td>-1.916614</td>\n",
       "    </tr>\n",
       "    <tr>\n",
       "      <th>2</th>\n",
       "      <td>-0.022148</td>\n",
       "      <td>0.788529</td>\n",
       "      <td>0.309696</td>\n",
       "      <td>0.979561</td>\n",
       "    </tr>\n",
       "    <tr>\n",
       "      <th>3</th>\n",
       "      <td>0.537765</td>\n",
       "      <td>0.284783</td>\n",
       "      <td>-0.006018</td>\n",
       "      <td>0.303640</td>\n",
       "    </tr>\n",
       "    <tr>\n",
       "      <th>4</th>\n",
       "      <td>-0.270815</td>\n",
       "      <td>0.298302</td>\n",
       "      <td>-0.275151</td>\n",
       "      <td>0.292301</td>\n",
       "    </tr>\n",
       "  </tbody>\n",
       "</table>\n",
       "</div>"
      ],
      "text/plain": [
       "Feature  Net enrolment rate, secondary, female (%)  \\\n",
       "0                                         0.248431   \n",
       "1                                        -2.866086   \n",
       "2                                        -0.022148   \n",
       "3                                         0.537765   \n",
       "4                                        -0.270815   \n",
       "\n",
       "Feature  Net enrolment rate, secondary, gender parity index (GPI)  \\\n",
       "0                                                -0.104284          \n",
       "1                                                -1.762741          \n",
       "2                                                 0.788529          \n",
       "3                                                 0.284783          \n",
       "4                                                 0.298302          \n",
       "\n",
       "Feature  School life expectancy, secondary, female (years)  \\\n",
       "0                                                 0.972924   \n",
       "1                                                -2.525707   \n",
       "2                                                 0.309696   \n",
       "3                                                -0.006018   \n",
       "4                                                -0.275151   \n",
       "\n",
       "Feature  School life expectancy, secondary, gender parity index (GPI)  \n",
       "0                                                -0.200720             \n",
       "1                                                -1.916614             \n",
       "2                                                 0.979561             \n",
       "3                                                 0.303640             \n",
       "4                                                 0.292301             "
      ]
     },
     "execution_count": 60,
     "metadata": {},
     "output_type": "execute_result"
    }
   ],
   "source": [
    "pd.DataFrame(fem_features_normalized, columns=features_fem.columns).head()"
   ]
  },
  {
   "cell_type": "code",
   "execution_count": 61,
   "metadata": {
    "collapsed": false
   },
   "outputs": [
    {
     "data": {
      "text/plain": [
       "0.64242424242424245"
      ]
     },
     "execution_count": 61,
     "metadata": {},
     "output_type": "execute_result"
    }
   ],
   "source": [
    "model_lr_fem = LogisticRegression(C=1)\n",
    "cross_val_score(model_lr_fem,features_fem, target_fem,cv=11).mean()"
   ]
  },
  {
   "cell_type": "code",
   "execution_count": 62,
   "metadata": {
    "collapsed": false
   },
   "outputs": [
    {
     "data": {
      "text/plain": [
       "Index([u'Net enrolment rate, secondary, female (%)',\n",
       "       u'Net enrolment rate, secondary, gender parity index (GPI)',\n",
       "       u'School life expectancy, secondary, female (years)',\n",
       "       u'School life expectancy, secondary, gender parity index (GPI)'],\n",
       "      dtype='object', name=u'Feature')"
      ]
     },
     "execution_count": 62,
     "metadata": {},
     "output_type": "execute_result"
    }
   ],
   "source": [
    "model_lr_fem = LogisticRegression(C=1).fit(features_fem, target_fem)\n",
    "\n",
    "x_fem = np.arange(len(features_fem.columns))\n",
    "names_fem = features_fem.columns\n",
    "names_fem"
   ]
  },
  {
   "cell_type": "code",
   "execution_count": 63,
   "metadata": {
    "collapsed": false
   },
   "outputs": [
    {
     "name": "stdout",
     "output_type": "stream",
     "text": [
      "[[ 0.03590044 -0.39611727 -0.46448516 -0.39448654]\n",
      " [ 0.0014629  -0.78407314  0.36907952 -0.81946934]\n",
      " [-0.10191017  0.38712802  0.3602501   0.37043945]\n",
      " [-0.01333051  0.36971179 -0.2146415   0.42152293]\n",
      " [-0.00258208 -0.29156965 -0.20625098 -0.27349653]]\n",
      "[ 0.03590044 -0.39611727 -0.46448516 -0.39448654  0.0014629  -0.78407314\n",
      "  0.36907952 -0.81946934 -0.10191017  0.38712802  0.3602501   0.37043945\n",
      " -0.01333051  0.36971179 -0.2146415   0.42152293 -0.00258208 -0.29156965\n",
      " -0.20625098 -0.27349653]\n"
     ]
    }
   ],
   "source": [
    "print model_lr_fem.coef_\n",
    "print model_lr_fem.coef_.ravel()"
   ]
  },
  {
   "cell_type": "code",
   "execution_count": 64,
   "metadata": {
    "collapsed": false
   },
   "outputs": [
    {
     "data": {
      "text/html": [
       "\n",
       "\n",
       "    <div class=\"plotdiv\" id=\"3c4f5122-bc3a-4f71-8b70-f131c0a3acf7\"></div>\n",
       "<script type=\"text/javascript\">\n",
       "  \n",
       "  (function(global) {\n",
       "    function now() {\n",
       "      return new Date();\n",
       "    }\n",
       "  \n",
       "    if (typeof (window._bokeh_onload_callbacks) === \"undefined\") {\n",
       "      window._bokeh_onload_callbacks = [];\n",
       "    }\n",
       "  \n",
       "    function run_callbacks() {\n",
       "      window._bokeh_onload_callbacks.forEach(function(callback) { callback() });\n",
       "      delete window._bokeh_onload_callbacks\n",
       "      console.info(\"Bokeh: all callbacks have finished\");\n",
       "    }\n",
       "  \n",
       "    function load_libs(js_urls, callback) {\n",
       "      window._bokeh_onload_callbacks.push(callback);\n",
       "      if (window._bokeh_is_loading > 0) {\n",
       "        console.log(\"Bokeh: BokehJS is being loaded, scheduling callback at\", now());\n",
       "        return null;\n",
       "      }\n",
       "      if (js_urls == null || js_urls.length === 0) {\n",
       "        run_callbacks();\n",
       "        return null;\n",
       "      }\n",
       "      console.log(\"Bokeh: BokehJS not loaded, scheduling load and callback at\", now());\n",
       "      window._bokeh_is_loading = js_urls.length;\n",
       "      for (var i = 0; i < js_urls.length; i++) {\n",
       "        var url = js_urls[i];\n",
       "        var s = document.createElement('script');\n",
       "        s.src = url;\n",
       "        s.async = false;\n",
       "        s.onreadystatechange = s.onload = function() {\n",
       "          window._bokeh_is_loading--;\n",
       "          if (window._bokeh_is_loading === 0) {\n",
       "            console.log(\"Bokeh: all BokehJS libraries loaded\");\n",
       "            run_callbacks()\n",
       "          }\n",
       "        };\n",
       "        s.onerror = function() {\n",
       "          console.warn(\"failed to load library \" + url);\n",
       "        };\n",
       "        console.log(\"Bokeh: injecting script tag for BokehJS library: \", url);\n",
       "        document.getElementsByTagName(\"head\")[0].appendChild(s);\n",
       "      }\n",
       "    };var element = document.getElementById(\"3c4f5122-bc3a-4f71-8b70-f131c0a3acf7\");\n",
       "    if (element == null) {\n",
       "      console.log(\"Bokeh: ERROR: autoload.js configured with elementid '3c4f5122-bc3a-4f71-8b70-f131c0a3acf7' but no matching script tag was found. \")\n",
       "      return false;\n",
       "    }\n",
       "  \n",
       "    var js_urls = [];\n",
       "  \n",
       "    var inline_js = [\n",
       "      function(Bokeh) {\n",
       "        Bokeh.$(function() {\n",
       "            var docs_json = {\"952691ca-4064-4f0f-8b8e-ff92a4640944\":{\"roots\":{\"references\":[{\"attributes\":{},\"id\":\"b2dcc6e1-5a73-47f0-a90b-f68ec78aa1a0\",\"type\":\"BasicTickFormatter\"},{\"attributes\":{\"below\":[{\"id\":\"0cc146ca-c9ca-4822-bf49-b564b3d4ae5d\",\"type\":\"LinearAxis\"}],\"left\":[{\"id\":\"06693a45-aa95-40f1-b0fa-1665985cb682\",\"type\":\"LinearAxis\"}],\"renderers\":[{\"id\":\"0cc146ca-c9ca-4822-bf49-b564b3d4ae5d\",\"type\":\"LinearAxis\"},{\"id\":\"48fa0cc9-6215-44fd-a97e-9d5d177af5e4\",\"type\":\"Grid\"},{\"id\":\"06693a45-aa95-40f1-b0fa-1665985cb682\",\"type\":\"LinearAxis\"},{\"id\":\"9118fb8b-570a-4acc-b08b-dc1c075f17d9\",\"type\":\"Grid\"},{\"id\":\"9e04a738-2852-44cf-b409-6207d169c4a4\",\"type\":\"BoxAnnotation\"},{\"id\":\"9b25e0c7-8201-47ee-bfd4-9d947d82f397\",\"type\":\"Legend\"},{\"id\":\"0a5c0e6f-8cfe-4617-9839-1e5264b01eb0\",\"type\":\"GlyphRenderer\"},{\"id\":\"0cf6ed57-b5bf-464b-9a19-d116d2e724b8\",\"type\":\"GlyphRenderer\"},{\"id\":\"01dcec25-697d-4b08-95a3-266cd72368e5\",\"type\":\"GlyphRenderer\"},{\"id\":\"0650684f-2b4e-4e94-a816-a9973de733d7\",\"type\":\"GlyphRenderer\"},{\"id\":\"a60f875e-f532-417c-9ed6-23c11d3096fb\",\"type\":\"GlyphRenderer\"},{\"id\":\"50be2a42-1bd2-4d62-ab44-3c122bd0a7d6\",\"type\":\"GlyphRenderer\"},{\"id\":\"176d714d-a8e3-44ce-8419-462b0216bd6e\",\"type\":\"GlyphRenderer\"},{\"id\":\"cbe37a30-21ac-402e-b5c6-3b06548b8f68\",\"type\":\"GlyphRenderer\"},{\"id\":\"b09d9d1c-87d5-42c0-97c2-78f814246a11\",\"type\":\"GlyphRenderer\"},{\"id\":\"082f06e9-094d-45b7-92bf-c0f0cdfa3531\",\"type\":\"GlyphRenderer\"}],\"title\":\"Index Coefficients Logistic Regression\",\"tool_events\":{\"id\":\"3f13784b-0af9-4cd1-9ce8-5d4d500d80b5\",\"type\":\"ToolEvents\"},\"tools\":[{\"id\":\"6f5ea326-4a54-42e3-a4e1-2d597a7d2bd9\",\"type\":\"PanTool\"},{\"id\":\"53b3164f-211b-4b0a-a559-2bb6dbb78600\",\"type\":\"WheelZoomTool\"},{\"id\":\"b9eda978-92fd-447f-a07e-4bae6e9db756\",\"type\":\"BoxZoomTool\"},{\"id\":\"589c986d-ca6f-4600-9ddb-bed69a7b4643\",\"type\":\"PreviewSaveTool\"},{\"id\":\"22685262-ad88-46a1-8b3e-5f9311c0432b\",\"type\":\"ResizeTool\"},{\"id\":\"eb6c70ac-b1a6-40a9-959a-86c7954a28cc\",\"type\":\"ResetTool\"},{\"id\":\"4990e790-bd56-489b-a546-1ebc9e62b796\",\"type\":\"HelpTool\"}],\"x_range\":{\"id\":\"29dd5826-7ec2-46b6-a17b-1eaa12d119b4\",\"type\":\"DataRange1d\"},\"y_range\":{\"id\":\"14d1dc4e-db1e-4a95-96b7-a75c739d08da\",\"type\":\"Range1d\"}},\"id\":\"51f39171-f40b-472c-9a2f-ba4b1447727b\",\"subtype\":\"Figure\",\"type\":\"Plot\"},{\"attributes\":{\"plot\":{\"id\":\"51f39171-f40b-472c-9a2f-ba4b1447727b\",\"subtype\":\"Figure\",\"type\":\"Plot\"},\"ticker\":{\"id\":\"1be82da9-82f9-4f77-979b-2594f75a273f\",\"type\":\"BasicTicker\"}},\"id\":\"48fa0cc9-6215-44fd-a97e-9d5d177af5e4\",\"type\":\"Grid\"},{\"attributes\":{\"overlay\":{\"id\":\"6a65afe6-5eda-4f62-b38b-adb23cd15d1a\",\"type\":\"BoxAnnotation\"},\"plot\":{\"id\":\"77e7a535-7cce-4664-b1ad-1776da476bf7\",\"subtype\":\"Figure\",\"type\":\"Plot\"}},\"id\":\"a7091d42-fb27-48a7-b553-a34ed98a1a93\",\"type\":\"BoxZoomTool\"},{\"attributes\":{\"callback\":null},\"id\":\"b95296e2-4a09-41e0-b71e-02a30d25c353\",\"type\":\"ColumnDataSource\"},{\"attributes\":{\"formatter\":{\"id\":\"b2f3d6fa-9e7b-4de9-8934-c9da06da41b4\",\"type\":\"BasicTickFormatter\"},\"plot\":{\"id\":\"51f39171-f40b-472c-9a2f-ba4b1447727b\",\"subtype\":\"Figure\",\"type\":\"Plot\"},\"ticker\":{\"id\":\"a1cff191-16fd-40f5-b86d-f8e684b3ede6\",\"type\":\"BasicTicker\"}},\"id\":\"06693a45-aa95-40f1-b0fa-1665985cb682\",\"type\":\"LinearAxis\"},{\"attributes\":{\"bottom\":{\"value\":0},\"fill_color\":{\"value\":\"pink\"},\"left\":{\"value\":8.2},\"line_color\":{\"value\":\"pink\"},\"right\":{\"value\":8.8},\"top\":{\"value\":0.7757406736065163}},\"id\":\"9df2b5c1-419f-4608-badb-b506e6214c4b\",\"type\":\"Quad\"},{\"attributes\":{},\"id\":\"11755893-020e-45f5-9da8-85b75a0d7760\",\"type\":\"BasicTickFormatter\"},{\"attributes\":{},\"id\":\"a1cff191-16fd-40f5-b86d-f8e684b3ede6\",\"type\":\"BasicTicker\"},{\"attributes\":{\"plot\":{\"id\":\"51f39171-f40b-472c-9a2f-ba4b1447727b\",\"subtype\":\"Figure\",\"type\":\"Plot\"}},\"id\":\"6f5ea326-4a54-42e3-a4e1-2d597a7d2bd9\",\"type\":\"PanTool\"},{\"attributes\":{\"plot\":{\"id\":\"51f39171-f40b-472c-9a2f-ba4b1447727b\",\"subtype\":\"Figure\",\"type\":\"Plot\"}},\"id\":\"589c986d-ca6f-4600-9ddb-bed69a7b4643\",\"type\":\"PreviewSaveTool\"},{\"attributes\":{\"bottom\":{\"value\":0},\"fill_alpha\":{\"value\":0.1},\"fill_color\":{\"value\":\"#1f77b4\"},\"left\":{\"value\":6.2},\"line_alpha\":{\"value\":0.1},\"line_color\":{\"value\":\"#1f77b4\"},\"right\":{\"value\":6.8},\"top\":{\"value\":-0.7109600909468134}},\"id\":\"62b099b8-4131-481a-a108-2da2ef60b241\",\"type\":\"Quad\"},{\"attributes\":{},\"id\":\"26add7e0-dafd-4a8f-a5f6-dc9856d4ccd4\",\"type\":\"BasicTicker\"},{\"attributes\":{\"callback\":null},\"id\":\"5ea990b6-b04c-40fd-8c59-80da76b6bd0f\",\"type\":\"ColumnDataSource\"},{\"attributes\":{\"data_source\":{\"id\":\"2eab6319-708b-4f01-9217-972258e000a2\",\"type\":\"ColumnDataSource\"},\"glyph\":{\"id\":\"2544bd5d-df6e-4be4-8716-696303ed2035\",\"type\":\"Quad\"},\"hover_glyph\":null,\"nonselection_glyph\":{\"id\":\"c297b329-30c7-41cf-a1ef-ce6dd0b2d65b\",\"type\":\"Quad\"},\"selection_glyph\":null},\"id\":\"082f06e9-094d-45b7-92bf-c0f0cdfa3531\",\"type\":\"GlyphRenderer\"},{\"attributes\":{\"callback\":null},\"id\":\"067492cf-36e1-4853-9d6a-a8aff7f6c264\",\"type\":\"ColumnDataSource\"},{\"attributes\":{\"plot\":{\"id\":\"77e7a535-7cce-4664-b1ad-1776da476bf7\",\"subtype\":\"Figure\",\"type\":\"Plot\"}},\"id\":\"ac47c5da-ee66-4fed-a333-56aa5468cb67\",\"type\":\"WheelZoomTool\"},{\"attributes\":{\"callback\":null},\"id\":\"d25be77c-ab91-479c-918a-72df383a2584\",\"type\":\"ColumnDataSource\"},{\"attributes\":{\"legends\":[[\"Net enrolment rate, secondary, gender parity index (GPI)\",[{\"id\":\"bc6db127-c51e-45bf-9746-a7b25571880d\",\"type\":\"GlyphRenderer\"}]],[\"Net enrolment rate, secondary, male (%)\",[{\"id\":\"609384ee-69c5-49b2-b678-7182b9269877\",\"type\":\"GlyphRenderer\"}]],[\"School life expectancy, secondary, gender parity index (GPI)\",[{\"id\":\"9ca36a44-bdf8-4d90-8c66-27ea12eb23db\",\"type\":\"GlyphRenderer\"}]],[\"School life expectancy, secondary, male (years)\",[{\"id\":\"686d0791-96f8-4de5-ba78-0e58d39eefd6\",\"type\":\"GlyphRenderer\"}]]],\"plot\":{\"id\":\"027a70d0-9790-4af8-a966-547e9f1b68e1\",\"subtype\":\"Figure\",\"type\":\"Plot\"}},\"id\":\"00898d7d-a429-44ea-8c4e-0afd7cbc95c4\",\"type\":\"Legend\"},{\"attributes\":{\"data_source\":{\"id\":\"7f17e799-912a-46c2-8cd8-2cd12f7de7eb\",\"type\":\"ColumnDataSource\"},\"glyph\":{\"id\":\"36d4f40c-64a2-4f77-ab96-d3fd07f24d16\",\"type\":\"Quad\"},\"hover_glyph\":null,\"nonselection_glyph\":{\"id\":\"b8218686-977f-4395-a6cd-3fbce1f11602\",\"type\":\"Quad\"},\"selection_glyph\":null},\"id\":\"75ad0e33-6431-4b5b-8869-45b406f71234\",\"type\":\"GlyphRenderer\"},{\"attributes\":{\"legends\":[[\"All staff compensation as % of total expenditure in secondary public institutions (%)\",[{\"id\":\"0a5c0e6f-8cfe-4617-9839-1e5264b01eb0\",\"type\":\"GlyphRenderer\"}]],[\"Duration of compulsory education (years)\",[{\"id\":\"0cf6ed57-b5bf-464b-9a19-d116d2e724b8\",\"type\":\"GlyphRenderer\"}]],[\"Expenditure on education as % of total government expenditure (%)\",[{\"id\":\"01dcec25-697d-4b08-95a3-266cd72368e5\",\"type\":\"GlyphRenderer\"}]],[\"Expenditure on secondary as % of government expenditure on education (%)\",[{\"id\":\"0650684f-2b4e-4e94-a816-a9973de733d7\",\"type\":\"GlyphRenderer\"}]],[\"Expenditure on secondary as % of total government expenditure (%)\",[{\"id\":\"a60f875e-f532-417c-9ed6-23c11d3096fb\",\"type\":\"GlyphRenderer\"}]],[\"Government expenditure in educational institutions as % of GDP (%)\",[{\"id\":\"50be2a42-1bd2-4d62-ab44-3c122bd0a7d6\",\"type\":\"GlyphRenderer\"}]],[\"Government expenditure in secondary institutions education as % of GDP (%)\",[{\"id\":\"176d714d-a8e3-44ce-8419-462b0216bd6e\",\"type\":\"GlyphRenderer\"}]],[\"Government expenditure on education as % of GDP (%)\",[{\"id\":\"cbe37a30-21ac-402e-b5c6-3b06548b8f68\",\"type\":\"GlyphRenderer\"}]],[\"Net enrolment rate, secondary, both sexes (%)\",[{\"id\":\"b09d9d1c-87d5-42c0-97c2-78f814246a11\",\"type\":\"GlyphRenderer\"}]],[\"Pupil-teacher ratio in secondary education (headcount basis)\",[{\"id\":\"082f06e9-094d-45b7-92bf-c0f0cdfa3531\",\"type\":\"GlyphRenderer\"}]]],\"plot\":{\"id\":\"51f39171-f40b-472c-9a2f-ba4b1447727b\",\"subtype\":\"Figure\",\"type\":\"Plot\"}},\"id\":\"9b25e0c7-8201-47ee-bfd4-9d947d82f397\",\"type\":\"Legend\"},{\"attributes\":{\"bottom\":{\"value\":0},\"fill_color\":{\"field\":\"hazel\"},\"left\":{\"value\":9.2},\"line_color\":{\"field\":\"hazel\"},\"right\":{\"value\":9.8},\"top\":{\"value\":-0.536816206293769}},\"id\":\"2544bd5d-df6e-4be4-8716-696303ed2035\",\"type\":\"Quad\"},{\"attributes\":{\"bottom\":{\"value\":0},\"fill_alpha\":{\"value\":0.1},\"fill_color\":{\"value\":\"#1f77b4\"},\"left\":{\"value\":8.2},\"line_alpha\":{\"value\":0.1},\"line_color\":{\"value\":\"#1f77b4\"},\"right\":{\"value\":8.8},\"top\":{\"value\":0.7757406736065163}},\"id\":\"3cdfe7bc-876d-49eb-a0de-f33492bf51d4\",\"type\":\"Quad\"},{\"attributes\":{\"callback\":null},\"id\":\"4d0d10fe-c4c5-471e-b6c8-bbc94c416a95\",\"type\":\"ColumnDataSource\"},{\"attributes\":{\"bottom\":{\"value\":0},\"fill_alpha\":{\"value\":0.1},\"fill_color\":{\"value\":\"#1f77b4\"},\"left\":{\"value\":1.2},\"line_alpha\":{\"value\":0.1},\"line_color\":{\"value\":\"#1f77b4\"},\"right\":{\"value\":1.8},\"top\":{\"value\":-0.3961172650467229}},\"id\":\"b8218686-977f-4395-a6cd-3fbce1f11602\",\"type\":\"Quad\"},{\"attributes\":{},\"id\":\"76f3737e-ff3e-48ff-95a1-18752eb18645\",\"type\":\"ToolEvents\"},{\"attributes\":{\"callback\":null,\"end\":2.4933630972618093,\"start\":-0.9906794035902462},\"id\":\"14d1dc4e-db1e-4a95-96b7-a75c739d08da\",\"type\":\"Range1d\"},{\"attributes\":{\"bottom\":{\"value\":0},\"fill_alpha\":{\"value\":0.1},\"fill_color\":{\"value\":\"#1f77b4\"},\"left\":{\"value\":3.2},\"line_alpha\":{\"value\":0.1},\"line_color\":{\"value\":\"#1f77b4\"},\"right\":{\"value\":3.8},\"top\":{\"value\":-0.39448654422704554}},\"id\":\"a14f5f9a-41bc-4a98-bf5f-c88a38165355\",\"type\":\"Quad\"},{\"attributes\":{\"plot\":{\"id\":\"027a70d0-9790-4af8-a966-547e9f1b68e1\",\"subtype\":\"Figure\",\"type\":\"Plot\"}},\"id\":\"5e85227e-f97f-4b57-bbee-7aa39655fd67\",\"type\":\"PreviewSaveTool\"},{\"attributes\":{\"formatter\":{\"id\":\"288644f9-55bd-4242-85b2-2ff281af4ce1\",\"type\":\"BasicTickFormatter\"},\"plot\":{\"id\":\"77e7a535-7cce-4664-b1ad-1776da476bf7\",\"subtype\":\"Figure\",\"type\":\"Plot\"},\"ticker\":{\"id\":\"8d1828a4-3646-4fe8-b224-e33ed016be74\",\"type\":\"BasicTicker\"}},\"id\":\"3acb0624-3929-4901-a093-09e6b4855437\",\"type\":\"LinearAxis\"},{\"attributes\":{\"bottom\":{\"value\":0},\"fill_color\":{\"value\":\"black\"},\"left\":{\"value\":4.2},\"right\":{\"value\":4.8},\"top\":{\"value\":0.16669887913611653}},\"id\":\"91bea4bf-be17-4c0d-a3fc-1241322dca46\",\"type\":\"Quad\"},{\"attributes\":{\"dimension\":1,\"plot\":{\"id\":\"51f39171-f40b-472c-9a2f-ba4b1447727b\",\"subtype\":\"Figure\",\"type\":\"Plot\"},\"ticker\":{\"id\":\"a1cff191-16fd-40f5-b86d-f8e684b3ede6\",\"type\":\"BasicTicker\"}},\"id\":\"9118fb8b-570a-4acc-b08b-dc1c075f17d9\",\"type\":\"Grid\"},{\"attributes\":{\"data_source\":{\"id\":\"5e25cd43-fc82-4252-9840-5fa3f506940b\",\"type\":\"ColumnDataSource\"},\"glyph\":{\"id\":\"f8102ecb-4dab-4020-8c70-6d81d5487d64\",\"type\":\"Quad\"},\"hover_glyph\":null,\"nonselection_glyph\":{\"id\":\"f9d298da-04f8-46dd-af10-564e3d9105e5\",\"type\":\"Quad\"},\"selection_glyph\":null},\"id\":\"bc6db127-c51e-45bf-9746-a7b25571880d\",\"type\":\"GlyphRenderer\"},{\"attributes\":{\"formatter\":{\"id\":\"b5735264-1462-49eb-8abf-af426e7d3545\",\"type\":\"BasicTickFormatter\"},\"plot\":{\"id\":\"027a70d0-9790-4af8-a966-547e9f1b68e1\",\"subtype\":\"Figure\",\"type\":\"Plot\"},\"ticker\":{\"id\":\"9140f42f-64df-4aa3-ac37-7fc5644e06c7\",\"type\":\"BasicTicker\"}},\"id\":\"0c2a9a0c-5ae7-43b7-8f71-af744899b343\",\"type\":\"LinearAxis\"},{\"attributes\":{\"bottom\":{\"value\":0},\"fill_alpha\":{\"value\":0.1},\"fill_color\":{\"value\":\"#1f77b4\"},\"left\":{\"value\":9.2},\"line_alpha\":{\"value\":0.1},\"line_color\":{\"value\":\"#1f77b4\"},\"right\":{\"value\":9.8},\"top\":{\"value\":-0.536816206293769}},\"id\":\"c297b329-30c7-41cf-a1ef-ce6dd0b2d65b\",\"type\":\"Quad\"},{\"attributes\":{},\"id\":\"b2f3d6fa-9e7b-4de9-8934-c9da06da41b4\",\"type\":\"BasicTickFormatter\"},{\"attributes\":{\"bottom\":{\"value\":0},\"left\":{\"value\":7.2},\"line_color\":{\"value\":\"gray\"},\"right\":{\"value\":7.8},\"top\":{\"value\":-0.8906794035902462}},\"id\":\"398cfd84-b870-45e9-89ec-7e1ddad74c25\",\"type\":\"Quad\"},{\"attributes\":{\"bottom\":{\"value\":0},\"fill_color\":{\"value\":\"orange\"},\"left\":{\"value\":1.2},\"line_color\":{\"value\":\"orange\"},\"right\":{\"value\":1.8},\"top\":{\"value\":0.03340001972528662}},\"id\":\"818b67d6-f6ec-4313-b942-3dbf8660a59d\",\"type\":\"Quad\"},{\"attributes\":{\"bottom\":{\"value\":0},\"fill_color\":{\"value\":\"yellow\"},\"left\":{\"value\":5.2},\"line_color\":{\"value\":\"yellow\"},\"right\":{\"value\":5.8},\"top\":{\"value\":-0.736756589254854}},\"id\":\"14188d14-da39-4864-99ad-33844b50ec87\",\"type\":\"Quad\"},{\"attributes\":{},\"id\":\"1be82da9-82f9-4f77-979b-2594f75a273f\",\"type\":\"BasicTicker\"},{\"attributes\":{\"callback\":null},\"id\":\"5e25cd43-fc82-4252-9840-5fa3f506940b\",\"type\":\"ColumnDataSource\"},{\"attributes\":{\"bottom\":{\"value\":0},\"fill_alpha\":{\"value\":0.1},\"fill_color\":{\"value\":\"#1f77b4\"},\"left\":{\"value\":0.2},\"line_alpha\":{\"value\":0.1},\"line_color\":{\"value\":\"#1f77b4\"},\"right\":{\"value\":0.8},\"top\":{\"value\":-0.09510060566876255}},\"id\":\"03581632-b007-43f0-9f88-e7a8fd7ee360\",\"type\":\"Quad\"},{\"attributes\":{\"bottom\":{\"value\":0},\"fill_color\":{\"value\":\"brown\"},\"left\":{\"value\":6.2},\"line_color\":{\"value\":\"brown\"},\"right\":{\"value\":6.8},\"top\":{\"value\":-0.7109600909468134}},\"id\":\"ecd24d5c-0d1d-44b9-898e-6be88be1bb52\",\"type\":\"Quad\"},{\"attributes\":{\"overlay\":{\"id\":\"9e04a738-2852-44cf-b409-6207d169c4a4\",\"type\":\"BoxAnnotation\"},\"plot\":{\"id\":\"51f39171-f40b-472c-9a2f-ba4b1447727b\",\"subtype\":\"Figure\",\"type\":\"Plot\"}},\"id\":\"b9eda978-92fd-447f-a07e-4bae6e9db756\",\"type\":\"BoxZoomTool\"},{\"attributes\":{\"bottom_units\":\"screen\",\"fill_alpha\":{\"value\":0.5},\"fill_color\":{\"value\":\"lightgrey\"},\"left_units\":\"screen\",\"level\":\"overlay\",\"line_alpha\":{\"value\":1.0},\"line_color\":{\"value\":\"black\"},\"line_dash\":[4,4],\"line_width\":{\"value\":2},\"plot\":null,\"render_mode\":\"css\",\"right_units\":\"screen\",\"top_units\":\"screen\"},\"id\":\"9e04a738-2852-44cf-b409-6207d169c4a4\",\"type\":\"BoxAnnotation\"},{\"attributes\":{\"plot\":{\"id\":\"51f39171-f40b-472c-9a2f-ba4b1447727b\",\"subtype\":\"Figure\",\"type\":\"Plot\"}},\"id\":\"53b3164f-211b-4b0a-a559-2bb6dbb78600\",\"type\":\"WheelZoomTool\"},{\"attributes\":{\"bottom\":{\"value\":0},\"fill_color\":{\"value\":\"purple\"},\"left\":{\"value\":3.2},\"line_color\":{\"value\":\"purple\"},\"right\":{\"value\":3.8},\"top\":{\"value\":-0.4650685532869331}},\"id\":\"1e2bceab-3cba-4327-8725-447a4545da42\",\"type\":\"Quad\"},{\"attributes\":{\"data_source\":{\"id\":\"d25be77c-ab91-479c-918a-72df383a2584\",\"type\":\"ColumnDataSource\"},\"glyph\":{\"id\":\"818b67d6-f6ec-4313-b942-3dbf8660a59d\",\"type\":\"Quad\"},\"hover_glyph\":null,\"nonselection_glyph\":{\"id\":\"dd977a3c-1890-41e0-a233-b5ac146109fc\",\"type\":\"Quad\"},\"selection_glyph\":null},\"id\":\"609384ee-69c5-49b2-b678-7182b9269877\",\"type\":\"GlyphRenderer\"},{\"attributes\":{\"bottom\":{\"value\":0},\"fill_alpha\":{\"value\":0.1},\"fill_color\":{\"value\":\"#1f77b4\"},\"left\":{\"value\":3.2},\"line_alpha\":{\"value\":0.1},\"line_color\":{\"value\":\"#1f77b4\"},\"right\":{\"value\":3.8},\"top\":{\"value\":-0.12140157527218728}},\"id\":\"e1b6967f-e94a-4d3b-a586-5dd144873b44\",\"type\":\"Quad\"},{\"attributes\":{\"formatter\":{\"id\":\"a92ec3d2-1964-4035-9273-a8b700c0e78c\",\"type\":\"BasicTickFormatter\"},\"plot\":{\"id\":\"027a70d0-9790-4af8-a966-547e9f1b68e1\",\"subtype\":\"Figure\",\"type\":\"Plot\"},\"ticker\":{\"id\":\"26add7e0-dafd-4a8f-a5f6-dc9856d4ccd4\",\"type\":\"BasicTicker\"}},\"id\":\"86bcd6dc-20f1-49fd-95ef-c0737791f717\",\"type\":\"LinearAxis\"},{\"attributes\":{\"bottom\":{\"value\":0},\"fill_alpha\":{\"value\":0.1},\"fill_color\":{\"value\":\"#1f77b4\"},\"left\":{\"value\":2.2},\"line_alpha\":{\"value\":0.1},\"line_color\":{\"value\":\"#1f77b4\"},\"right\":{\"value\":2.8},\"top\":{\"value\":-0.46448516316759997}},\"id\":\"44f5cd32-44cb-448d-b483-5b78488139c4\",\"type\":\"Quad\"},{\"attributes\":{},\"id\":\"b5735264-1462-49eb-8abf-af426e7d3545\",\"type\":\"BasicTickFormatter\"},{\"attributes\":{},\"id\":\"5c522efa-8d5b-471e-a73c-1d9de244651c\",\"type\":\"BasicTicker\"},{\"attributes\":{\"bottom_units\":\"screen\",\"fill_alpha\":{\"value\":0.5},\"fill_color\":{\"value\":\"lightgrey\"},\"left_units\":\"screen\",\"level\":\"overlay\",\"line_alpha\":{\"value\":1.0},\"line_color\":{\"value\":\"black\"},\"line_dash\":[4,4],\"line_width\":{\"value\":2},\"plot\":null,\"render_mode\":\"css\",\"right_units\":\"screen\",\"top_units\":\"screen\"},\"id\":\"6a65afe6-5eda-4f62-b38b-adb23cd15d1a\",\"type\":\"BoxAnnotation\"},{\"attributes\":{\"callback\":null},\"id\":\"1e1ef023-0531-4b5d-9d07-f83e25cb1b73\",\"type\":\"ColumnDataSource\"},{\"attributes\":{\"plot\":{\"id\":\"77e7a535-7cce-4664-b1ad-1776da476bf7\",\"subtype\":\"Figure\",\"type\":\"Plot\"}},\"id\":\"d5e2db09-b899-4360-9435-780e70eba23f\",\"type\":\"ResizeTool\"},{\"attributes\":{\"data_source\":{\"id\":\"067492cf-36e1-4853-9d6a-a8aff7f6c264\",\"type\":\"ColumnDataSource\"},\"glyph\":{\"id\":\"904ec5ec-2301-4d4e-8695-2de60bcf2b77\",\"type\":\"Quad\"},\"hover_glyph\":null,\"nonselection_glyph\":{\"id\":\"9ee74670-4155-43a0-862a-62b1eac4e6e8\",\"type\":\"Quad\"},\"selection_glyph\":null},\"id\":\"9ca36a44-bdf8-4d90-8c66-27ea12eb23db\",\"type\":\"GlyphRenderer\"},{\"attributes\":{\"bottom\":{\"value\":0},\"fill_alpha\":{\"value\":0.1},\"fill_color\":{\"value\":\"#1f77b4\"},\"left\":{\"value\":4.2},\"line_alpha\":{\"value\":0.1},\"line_color\":{\"value\":\"#1f77b4\"},\"right\":{\"value\":4.8},\"top\":{\"value\":0.16669887913611653}},\"id\":\"e58090e2-dbdc-46dc-aef8-e90d4c0ba482\",\"type\":\"Quad\"},{\"attributes\":{\"bottom\":{\"value\":0},\"fill_color\":{\"value\":\"red\"},\"left\":{\"value\":0.2},\"line_color\":{\"value\":\"red\"},\"right\":{\"value\":0.8},\"top\":{\"value\":-0.09510060566876255}},\"id\":\"7a7cdd8e-bbb5-4039-abd7-59d41584382f\",\"type\":\"Quad\"},{\"attributes\":{\"formatter\":{\"id\":\"11755893-020e-45f5-9da8-85b75a0d7760\",\"type\":\"BasicTickFormatter\"},\"plot\":{\"id\":\"77e7a535-7cce-4664-b1ad-1776da476bf7\",\"subtype\":\"Figure\",\"type\":\"Plot\"},\"ticker\":{\"id\":\"5c522efa-8d5b-471e-a73c-1d9de244651c\",\"type\":\"BasicTicker\"}},\"id\":\"06111cdb-db23-4735-bbad-536d2688d70d\",\"type\":\"LinearAxis\"},{\"attributes\":{\"data_source\":{\"id\":\"918647db-88f7-4b3b-a547-eb5972b90f4d\",\"type\":\"ColumnDataSource\"},\"glyph\":{\"id\":\"bf390225-67a2-4b16-855b-1f957f9b2aa4\",\"type\":\"Quad\"},\"hover_glyph\":null,\"nonselection_glyph\":{\"id\":\"44f5cd32-44cb-448d-b483-5b78488139c4\",\"type\":\"Quad\"},\"selection_glyph\":null},\"id\":\"f704f53a-ee9a-41d3-882d-b88663aff6b6\",\"type\":\"GlyphRenderer\"},{\"attributes\":{\"plot\":{\"id\":\"51f39171-f40b-472c-9a2f-ba4b1447727b\",\"subtype\":\"Figure\",\"type\":\"Plot\"}},\"id\":\"22685262-ad88-46a1-8b3e-5f9311c0432b\",\"type\":\"ResizeTool\"},{\"attributes\":{\"callback\":null},\"id\":\"df7bbcb8-adf4-4652-96fc-c6bcb771e45e\",\"type\":\"ColumnDataSource\"},{\"attributes\":{\"data_source\":{\"id\":\"2267cea3-4765-4e3f-a6ba-c07d203732a7\",\"type\":\"ColumnDataSource\"},\"glyph\":{\"id\":\"91bea4bf-be17-4c0d-a3fc-1241322dca46\",\"type\":\"Quad\"},\"hover_glyph\":null,\"nonselection_glyph\":{\"id\":\"e58090e2-dbdc-46dc-aef8-e90d4c0ba482\",\"type\":\"Quad\"},\"selection_glyph\":null},\"id\":\"a60f875e-f532-417c-9ed6-23c11d3096fb\",\"type\":\"GlyphRenderer\"},{\"attributes\":{\"bottom\":{\"value\":0},\"fill_alpha\":{\"value\":0.1},\"fill_color\":{\"value\":\"#1f77b4\"},\"left\":{\"value\":1.2},\"line_alpha\":{\"value\":0.1},\"line_color\":{\"value\":\"#1f77b4\"},\"right\":{\"value\":1.8},\"top\":{\"value\":0.03340001972528662}},\"id\":\"dd977a3c-1890-41e0-a233-b5ac146109fc\",\"type\":\"Quad\"},{\"attributes\":{\"plot\":{\"id\":\"77e7a535-7cce-4664-b1ad-1776da476bf7\",\"subtype\":\"Figure\",\"type\":\"Plot\"}},\"id\":\"7ab0f17c-aff4-4811-991c-4557e6a88a96\",\"type\":\"HelpTool\"},{\"attributes\":{\"data_source\":{\"id\":\"5ea990b6-b04c-40fd-8c59-80da76b6bd0f\",\"type\":\"ColumnDataSource\"},\"glyph\":{\"id\":\"398cfd84-b870-45e9-89ec-7e1ddad74c25\",\"type\":\"Quad\"},\"hover_glyph\":null,\"nonselection_glyph\":{\"id\":\"e35f7502-5e03-42a9-bec0-2c147092e8f6\",\"type\":\"Quad\"},\"selection_glyph\":null},\"id\":\"cbe37a30-21ac-402e-b5c6-3b06548b8f68\",\"type\":\"GlyphRenderer\"},{\"attributes\":{\"bottom_units\":\"screen\",\"fill_alpha\":{\"value\":0.5},\"fill_color\":{\"value\":\"lightgrey\"},\"left_units\":\"screen\",\"level\":\"overlay\",\"line_alpha\":{\"value\":1.0},\"line_color\":{\"value\":\"black\"},\"line_dash\":[4,4],\"line_width\":{\"value\":2},\"plot\":null,\"render_mode\":\"css\",\"right_units\":\"screen\",\"top_units\":\"screen\"},\"id\":\"b380c9f8-8d6a-414d-adb4-a8e298812a38\",\"type\":\"BoxAnnotation\"},{\"attributes\":{\"bottom\":{\"value\":0},\"fill_color\":{\"value\":\"orange\"},\"left\":{\"value\":1.2},\"line_color\":{\"value\":\"orange\"},\"right\":{\"value\":1.8},\"top\":{\"value\":-0.3961172650467229}},\"id\":\"36d4f40c-64a2-4f77-ab96-d3fd07f24d16\",\"type\":\"Quad\"},{\"attributes\":{\"callback\":null},\"id\":\"2267cea3-4765-4e3f-a6ba-c07d203732a7\",\"type\":\"ColumnDataSource\"},{\"attributes\":{\"callback\":null},\"id\":\"85c39b70-d610-4068-96b7-80853fc6a655\",\"type\":\"ColumnDataSource\"},{\"attributes\":{},\"id\":\"3f13784b-0af9-4cd1-9ce8-5d4d500d80b5\",\"type\":\"ToolEvents\"},{\"attributes\":{\"plot\":{\"id\":\"027a70d0-9790-4af8-a966-547e9f1b68e1\",\"subtype\":\"Figure\",\"type\":\"Plot\"}},\"id\":\"627db383-187d-453f-b09d-2939c0eb2588\",\"type\":\"HelpTool\"},{\"attributes\":{\"callback\":null},\"id\":\"2eab6319-708b-4f01-9217-972258e000a2\",\"type\":\"ColumnDataSource\"},{\"attributes\":{\"data_source\":{\"id\":\"1e1ef023-0531-4b5d-9d07-f83e25cb1b73\",\"type\":\"ColumnDataSource\"},\"glyph\":{\"id\":\"2001b67f-27ed-44bf-bfa0-4b48c1fad455\",\"type\":\"Quad\"},\"hover_glyph\":null,\"nonselection_glyph\":{\"id\":\"a14f5f9a-41bc-4a98-bf5f-c88a38165355\",\"type\":\"Quad\"},\"selection_glyph\":null},\"id\":\"132b97c7-0c3c-4426-a39b-4a003aec65fe\",\"type\":\"GlyphRenderer\"},{\"attributes\":{\"plot\":{\"id\":\"77e7a535-7cce-4664-b1ad-1776da476bf7\",\"subtype\":\"Figure\",\"type\":\"Plot\"},\"ticker\":{\"id\":\"8d1828a4-3646-4fe8-b224-e33ed016be74\",\"type\":\"BasicTicker\"}},\"id\":\"3edf0327-4cb3-46c8-b45e-9d4a191d6a9b\",\"type\":\"Grid\"},{\"attributes\":{\"callback\":null},\"id\":\"918647db-88f7-4b3b-a547-eb5972b90f4d\",\"type\":\"ColumnDataSource\"},{\"attributes\":{\"bottom\":{\"value\":0},\"fill_color\":{\"value\":\"orange\"},\"left\":{\"value\":1.2},\"line_color\":{\"value\":\"orange\"},\"right\":{\"value\":1.8},\"top\":{\"value\":-0.4124127837300706}},\"id\":\"7dd26a53-e244-45a6-be66-fce255d4d6d6\",\"type\":\"Quad\"},{\"attributes\":{\"bottom\":{\"value\":0},\"fill_color\":{\"value\":\"red\"},\"left\":{\"value\":0.2},\"line_color\":{\"value\":\"red\"},\"right\":{\"value\":0.8},\"top\":{\"value\":-0.3166354265346888}},\"id\":\"f8102ecb-4dab-4020-8c70-6d81d5487d64\",\"type\":\"Quad\"},{\"attributes\":{\"plot\":{\"id\":\"027a70d0-9790-4af8-a966-547e9f1b68e1\",\"subtype\":\"Figure\",\"type\":\"Plot\"}},\"id\":\"74108650-3f4a-4826-ab5a-384027bdc6a5\",\"type\":\"PanTool\"},{\"attributes\":{\"bottom\":{\"value\":0},\"fill_alpha\":{\"value\":0.1},\"fill_color\":{\"value\":\"#1f77b4\"},\"left\":{\"value\":5.2},\"line_alpha\":{\"value\":0.1},\"line_color\":{\"value\":\"#1f77b4\"},\"right\":{\"value\":5.8},\"top\":{\"value\":-0.736756589254854}},\"id\":\"3537969e-46fc-4206-aa0e-0c17e9d42176\",\"type\":\"Quad\"},{\"attributes\":{\"data_source\":{\"id\":\"df7bbcb8-adf4-4652-96fc-c6bcb771e45e\",\"type\":\"ColumnDataSource\"},\"glyph\":{\"id\":\"9df2b5c1-419f-4608-badb-b506e6214c4b\",\"type\":\"Quad\"},\"hover_glyph\":null,\"nonselection_glyph\":{\"id\":\"3cdfe7bc-876d-49eb-a0de-f33492bf51d4\",\"type\":\"Quad\"},\"selection_glyph\":null},\"id\":\"b09d9d1c-87d5-42c0-97c2-78f814246a11\",\"type\":\"GlyphRenderer\"},{\"attributes\":{\"plot\":{\"id\":\"77e7a535-7cce-4664-b1ad-1776da476bf7\",\"subtype\":\"Figure\",\"type\":\"Plot\"}},\"id\":\"4cd648ba-87c9-4d30-bb9f-92dc772fa082\",\"type\":\"PanTool\"},{\"attributes\":{\"callback\":null,\"end\":1.9215229296177592,\"start\":-0.9194693393807176},\"id\":\"c1e41240-49dd-4006-b8cc-5314c0cffc5e\",\"type\":\"Range1d\"},{\"attributes\":{\"formatter\":{\"id\":\"b2dcc6e1-5a73-47f0-a90b-f68ec78aa1a0\",\"type\":\"BasicTickFormatter\"},\"plot\":{\"id\":\"51f39171-f40b-472c-9a2f-ba4b1447727b\",\"subtype\":\"Figure\",\"type\":\"Plot\"},\"ticker\":{\"id\":\"1be82da9-82f9-4f77-979b-2594f75a273f\",\"type\":\"BasicTicker\"}},\"id\":\"0cc146ca-c9ca-4822-bf49-b564b3d4ae5d\",\"type\":\"LinearAxis\"},{\"attributes\":{\"bottom\":{\"value\":0},\"fill_alpha\":{\"value\":0.1},\"fill_color\":{\"value\":\"#1f77b4\"},\"left\":{\"value\":0.2},\"line_alpha\":{\"value\":0.1},\"line_color\":{\"value\":\"#1f77b4\"},\"right\":{\"value\":0.8},\"top\":{\"value\":0.035900439451808}},\"id\":\"ac6d6fef-aaf8-4bcd-a2a6-239f89b2992b\",\"type\":\"Quad\"},{\"attributes\":{\"bottom\":{\"value\":0},\"fill_alpha\":{\"value\":0.1},\"fill_color\":{\"value\":\"#1f77b4\"},\"left\":{\"value\":2.2},\"line_alpha\":{\"value\":0.1},\"line_color\":{\"value\":\"#1f77b4\"},\"right\":{\"value\":2.8},\"top\":{\"value\":0.029667350738920583}},\"id\":\"44342087-89f1-4a2c-8205-5c608d40e4eb\",\"type\":\"Quad\"},{\"attributes\":{\"dimension\":1,\"plot\":{\"id\":\"027a70d0-9790-4af8-a966-547e9f1b68e1\",\"subtype\":\"Figure\",\"type\":\"Plot\"},\"ticker\":{\"id\":\"26add7e0-dafd-4a8f-a5f6-dc9856d4ccd4\",\"type\":\"BasicTicker\"}},\"id\":\"aa69de85-9152-4fa9-9a81-bbb06c79c667\",\"type\":\"Grid\"},{\"attributes\":{},\"id\":\"8d1828a4-3646-4fe8-b224-e33ed016be74\",\"type\":\"BasicTicker\"},{\"attributes\":{\"plot\":{\"id\":\"027a70d0-9790-4af8-a966-547e9f1b68e1\",\"subtype\":\"Figure\",\"type\":\"Plot\"},\"ticker\":{\"id\":\"9140f42f-64df-4aa3-ac37-7fc5644e06c7\",\"type\":\"BasicTicker\"}},\"id\":\"34cdf2fb-0849-4cf2-b4cf-ad2359c98dd1\",\"type\":\"Grid\"},{\"attributes\":{\"bottom\":{\"value\":0},\"fill_alpha\":{\"value\":0.1},\"fill_color\":{\"value\":\"#1f77b4\"},\"left\":{\"value\":7.2},\"line_alpha\":{\"value\":0.1},\"line_color\":{\"value\":\"#1f77b4\"},\"right\":{\"value\":7.8},\"top\":{\"value\":-0.8906794035902462}},\"id\":\"e35f7502-5e03-42a9-bec0-2c147092e8f6\",\"type\":\"Quad\"},{\"attributes\":{\"below\":[{\"id\":\"0c2a9a0c-5ae7-43b7-8f71-af744899b343\",\"type\":\"LinearAxis\"}],\"left\":[{\"id\":\"86bcd6dc-20f1-49fd-95ef-c0737791f717\",\"type\":\"LinearAxis\"}],\"renderers\":[{\"id\":\"0c2a9a0c-5ae7-43b7-8f71-af744899b343\",\"type\":\"LinearAxis\"},{\"id\":\"34cdf2fb-0849-4cf2-b4cf-ad2359c98dd1\",\"type\":\"Grid\"},{\"id\":\"86bcd6dc-20f1-49fd-95ef-c0737791f717\",\"type\":\"LinearAxis\"},{\"id\":\"aa69de85-9152-4fa9-9a81-bbb06c79c667\",\"type\":\"Grid\"},{\"id\":\"b380c9f8-8d6a-414d-adb4-a8e298812a38\",\"type\":\"BoxAnnotation\"},{\"id\":\"00898d7d-a429-44ea-8c4e-0afd7cbc95c4\",\"type\":\"Legend\"},{\"id\":\"bc6db127-c51e-45bf-9746-a7b25571880d\",\"type\":\"GlyphRenderer\"},{\"id\":\"609384ee-69c5-49b2-b678-7182b9269877\",\"type\":\"GlyphRenderer\"},{\"id\":\"9ca36a44-bdf8-4d90-8c66-27ea12eb23db\",\"type\":\"GlyphRenderer\"},{\"id\":\"686d0791-96f8-4de5-ba78-0e58d39eefd6\",\"type\":\"GlyphRenderer\"}],\"title\":\"MALE Model Coefficients Logistic Regression\",\"tool_events\":{\"id\":\"76f3737e-ff3e-48ff-95a1-18752eb18645\",\"type\":\"ToolEvents\"},\"tools\":[{\"id\":\"74108650-3f4a-4826-ab5a-384027bdc6a5\",\"type\":\"PanTool\"},{\"id\":\"9380ebe0-c93e-43b0-acfc-794348b003d2\",\"type\":\"WheelZoomTool\"},{\"id\":\"680c5f50-4354-4987-9f69-7e69804d209c\",\"type\":\"BoxZoomTool\"},{\"id\":\"5e85227e-f97f-4b57-bbee-7aa39655fd67\",\"type\":\"PreviewSaveTool\"},{\"id\":\"0ebb1fa6-ec5c-4fdc-b6fa-e49e9d7fbb5f\",\"type\":\"ResizeTool\"},{\"id\":\"e6fb55bf-c8f5-4b97-8137-e3d3ef80305f\",\"type\":\"ResetTool\"},{\"id\":\"627db383-187d-453f-b09d-2939c0eb2588\",\"type\":\"HelpTool\"}],\"x_range\":{\"id\":\"485f62fb-11a4-4b10-aec9-3c06a4d23c4d\",\"type\":\"DataRange1d\"},\"y_range\":{\"id\":\"db287ce8-ecef-4987-bc7f-5cd85e9294e5\",\"type\":\"Range1d\"}},\"id\":\"027a70d0-9790-4af8-a966-547e9f1b68e1\",\"subtype\":\"Figure\",\"type\":\"Plot\"},{\"attributes\":{},\"id\":\"363d76f9-4e23-4a6a-a1b3-70b079bce33e\",\"type\":\"ToolEvents\"},{\"attributes\":{\"plot\":{\"id\":\"77e7a535-7cce-4664-b1ad-1776da476bf7\",\"subtype\":\"Figure\",\"type\":\"Plot\"}},\"id\":\"11cea40e-0851-4713-ab66-406fceb02381\",\"type\":\"ResetTool\"},{\"attributes\":{\"data_source\":{\"id\":\"4d0d10fe-c4c5-471e-b6c8-bbc94c416a95\",\"type\":\"ColumnDataSource\"},\"glyph\":{\"id\":\"836b7fd2-c806-4f76-80c4-0528d699d778\",\"type\":\"Quad\"},\"hover_glyph\":null,\"nonselection_glyph\":{\"id\":\"ac6d6fef-aaf8-4bcd-a2a6-239f89b2992b\",\"type\":\"Quad\"},\"selection_glyph\":null},\"id\":\"9c692956-31dc-426b-936e-b769bb71629a\",\"type\":\"GlyphRenderer\"},{\"attributes\":{\"data_source\":{\"id\":\"fbe1de56-51d0-4e07-a331-84261f922577\",\"type\":\"ColumnDataSource\"},\"glyph\":{\"id\":\"17973784-c28a-445c-a0f6-009b05f1face\",\"type\":\"Quad\"},\"hover_glyph\":null,\"nonselection_glyph\":{\"id\":\"44342087-89f1-4a2c-8205-5c608d40e4eb\",\"type\":\"Quad\"},\"selection_glyph\":null},\"id\":\"01dcec25-697d-4b08-95a3-266cd72368e5\",\"type\":\"GlyphRenderer\"},{\"attributes\":{\"bottom\":{\"value\":0},\"fill_color\":{\"value\":\"purple\"},\"left\":{\"value\":3.2},\"line_color\":{\"value\":\"purple\"},\"right\":{\"value\":3.8},\"top\":{\"value\":-0.39448654422704554}},\"id\":\"2001b67f-27ed-44bf-bfa0-4b48c1fad455\",\"type\":\"Quad\"},{\"attributes\":{},\"id\":\"a92ec3d2-1964-4035-9273-a8b700c0e78c\",\"type\":\"BasicTickFormatter\"},{\"attributes\":{\"bottom\":{\"value\":0},\"fill_color\":{\"value\":\"green\"},\"left\":{\"value\":2.2},\"line_color\":{\"value\":\"green\"},\"right\":{\"value\":2.8},\"top\":{\"value\":0.029667350738920583}},\"id\":\"17973784-c28a-445c-a0f6-009b05f1face\",\"type\":\"Quad\"},{\"attributes\":{\"bottom\":{\"value\":0},\"fill_alpha\":{\"value\":0.1},\"fill_color\":{\"value\":\"#1f77b4\"},\"left\":{\"value\":0.2},\"line_alpha\":{\"value\":0.1},\"line_color\":{\"value\":\"#1f77b4\"},\"right\":{\"value\":0.8},\"top\":{\"value\":-0.3166354265346888}},\"id\":\"f9d298da-04f8-46dd-af10-564e3d9105e5\",\"type\":\"Quad\"},{\"attributes\":{\"plot\":{\"id\":\"027a70d0-9790-4af8-a966-547e9f1b68e1\",\"subtype\":\"Figure\",\"type\":\"Plot\"}},\"id\":\"9380ebe0-c93e-43b0-acfc-794348b003d2\",\"type\":\"WheelZoomTool\"},{\"attributes\":{\"callback\":null},\"id\":\"a303557d-9a99-4204-b497-f4cdfca0e444\",\"type\":\"ColumnDataSource\"},{\"attributes\":{\"bottom\":{\"value\":0},\"fill_color\":{\"value\":\"green\"},\"left\":{\"value\":2.2},\"line_color\":{\"value\":\"green\"},\"right\":{\"value\":2.8},\"top\":{\"value\":-0.3197938079042032}},\"id\":\"904ec5ec-2301-4d4e-8695-2de60bcf2b77\",\"type\":\"Quad\"},{\"attributes\":{\"data_source\":{\"id\":\"1853b5a2-fb97-409a-984b-ad572bfe6d89\",\"type\":\"ColumnDataSource\"},\"glyph\":{\"id\":\"1e2bceab-3cba-4327-8725-447a4545da42\",\"type\":\"Quad\"},\"hover_glyph\":null,\"nonselection_glyph\":{\"id\":\"17f17f09-8550-474f-9f1f-ca45493daeac\",\"type\":\"Quad\"},\"selection_glyph\":null},\"id\":\"686d0791-96f8-4de5-ba78-0e58d39eefd6\",\"type\":\"GlyphRenderer\"},{\"attributes\":{\"callback\":null},\"id\":\"41ee722f-26d1-459a-9d25-c2a2da1e0185\",\"type\":\"DataRange1d\"},{\"attributes\":{\"bottom\":{\"value\":0},\"fill_color\":{\"value\":\"green\"},\"left\":{\"value\":2.2},\"line_color\":{\"value\":\"green\"},\"right\":{\"value\":2.8},\"top\":{\"value\":-0.46448516316759997}},\"id\":\"bf390225-67a2-4b16-855b-1f957f9b2aa4\",\"type\":\"Quad\"},{\"attributes\":{\"plot\":{\"id\":\"51f39171-f40b-472c-9a2f-ba4b1447727b\",\"subtype\":\"Figure\",\"type\":\"Plot\"}},\"id\":\"4990e790-bd56-489b-a546-1ebc9e62b796\",\"type\":\"HelpTool\"},{\"attributes\":{\"callback\":null},\"id\":\"7f17e799-912a-46c2-8cd8-2cd12f7de7eb\",\"type\":\"ColumnDataSource\"},{\"attributes\":{\"callback\":null},\"id\":\"f9e74d9b-7a28-4067-b256-ba75bb21222f\",\"type\":\"ColumnDataSource\"},{\"attributes\":{\"data_source\":{\"id\":\"b95296e2-4a09-41e0-b71e-02a30d25c353\",\"type\":\"ColumnDataSource\"},\"glyph\":{\"id\":\"7a7cdd8e-bbb5-4039-abd7-59d41584382f\",\"type\":\"Quad\"},\"hover_glyph\":null,\"nonselection_glyph\":{\"id\":\"03581632-b007-43f0-9f88-e7a8fd7ee360\",\"type\":\"Quad\"},\"selection_glyph\":null},\"id\":\"0a5c0e6f-8cfe-4617-9839-1e5264b01eb0\",\"type\":\"GlyphRenderer\"},{\"attributes\":{\"callback\":null,\"end\":2.121574536105329,\"start\":-0.9320830545412506},\"id\":\"db287ce8-ecef-4987-bc7f-5cd85e9294e5\",\"type\":\"Range1d\"},{\"attributes\":{\"legends\":[[\"Net enrolment rate, secondary, female (%)\",[{\"id\":\"9c692956-31dc-426b-936e-b769bb71629a\",\"type\":\"GlyphRenderer\"}]],[\"Net enrolment rate, secondary, gender parity index (GPI)\",[{\"id\":\"75ad0e33-6431-4b5b-8869-45b406f71234\",\"type\":\"GlyphRenderer\"}]],[\"School life expectancy, secondary, female (years)\",[{\"id\":\"f704f53a-ee9a-41d3-882d-b88663aff6b6\",\"type\":\"GlyphRenderer\"}]],[\"School life expectancy, secondary, gender parity index (GPI)\",[{\"id\":\"132b97c7-0c3c-4426-a39b-4a003aec65fe\",\"type\":\"GlyphRenderer\"}]]],\"plot\":{\"id\":\"77e7a535-7cce-4664-b1ad-1776da476bf7\",\"subtype\":\"Figure\",\"type\":\"Plot\"}},\"id\":\"2e165835-2562-49cc-acd0-b80ff67154a9\",\"type\":\"Legend\"},{\"attributes\":{\"bottom\":{\"value\":0},\"fill_color\":{\"value\":\"red\"},\"left\":{\"value\":0.2},\"line_color\":{\"value\":\"red\"},\"right\":{\"value\":0.8},\"top\":{\"value\":0.035900439451808}},\"id\":\"836b7fd2-c806-4f76-80c4-0528d699d778\",\"type\":\"Quad\"},{\"attributes\":{\"dimension\":1,\"plot\":{\"id\":\"77e7a535-7cce-4664-b1ad-1776da476bf7\",\"subtype\":\"Figure\",\"type\":\"Plot\"},\"ticker\":{\"id\":\"5c522efa-8d5b-471e-a73c-1d9de244651c\",\"type\":\"BasicTicker\"}},\"id\":\"1e62d828-06ee-44ab-9f29-17d50f6855e5\",\"type\":\"Grid\"},{\"attributes\":{\"callback\":null},\"id\":\"1853b5a2-fb97-409a-984b-ad572bfe6d89\",\"type\":\"ColumnDataSource\"},{\"attributes\":{\"plot\":{\"id\":\"027a70d0-9790-4af8-a966-547e9f1b68e1\",\"subtype\":\"Figure\",\"type\":\"Plot\"}},\"id\":\"0ebb1fa6-ec5c-4fdc-b6fa-e49e9d7fbb5f\",\"type\":\"ResizeTool\"},{\"attributes\":{\"overlay\":{\"id\":\"b380c9f8-8d6a-414d-adb4-a8e298812a38\",\"type\":\"BoxAnnotation\"},\"plot\":{\"id\":\"027a70d0-9790-4af8-a966-547e9f1b68e1\",\"subtype\":\"Figure\",\"type\":\"Plot\"}},\"id\":\"680c5f50-4354-4987-9f69-7e69804d209c\",\"type\":\"BoxZoomTool\"},{\"attributes\":{\"data_source\":{\"id\":\"a303557d-9a99-4204-b497-f4cdfca0e444\",\"type\":\"ColumnDataSource\"},\"glyph\":{\"id\":\"31b4a37c-6c16-46cf-9eb1-47a093155efb\",\"type\":\"Quad\"},\"hover_glyph\":null,\"nonselection_glyph\":{\"id\":\"e1b6967f-e94a-4d3b-a586-5dd144873b44\",\"type\":\"Quad\"},\"selection_glyph\":null},\"id\":\"0650684f-2b4e-4e94-a816-a9973de733d7\",\"type\":\"GlyphRenderer\"},{\"attributes\":{\"plot\":{\"id\":\"77e7a535-7cce-4664-b1ad-1776da476bf7\",\"subtype\":\"Figure\",\"type\":\"Plot\"}},\"id\":\"ea5ae4d2-3ac3-4e6c-a4bb-69240acb1572\",\"type\":\"PreviewSaveTool\"},{\"attributes\":{\"plot\":{\"id\":\"51f39171-f40b-472c-9a2f-ba4b1447727b\",\"subtype\":\"Figure\",\"type\":\"Plot\"}},\"id\":\"eb6c70ac-b1a6-40a9-959a-86c7954a28cc\",\"type\":\"ResetTool\"},{\"attributes\":{\"callback\":null},\"id\":\"29dd5826-7ec2-46b6-a17b-1eaa12d119b4\",\"type\":\"DataRange1d\"},{\"attributes\":{\"data_source\":{\"id\":\"85c39b70-d610-4068-96b7-80853fc6a655\",\"type\":\"ColumnDataSource\"},\"glyph\":{\"id\":\"14188d14-da39-4864-99ad-33844b50ec87\",\"type\":\"Quad\"},\"hover_glyph\":null,\"nonselection_glyph\":{\"id\":\"3537969e-46fc-4206-aa0e-0c17e9d42176\",\"type\":\"Quad\"},\"selection_glyph\":null},\"id\":\"50be2a42-1bd2-4d62-ab44-3c122bd0a7d6\",\"type\":\"GlyphRenderer\"},{\"attributes\":{\"bottom\":{\"value\":0},\"fill_color\":{\"value\":\"purple\"},\"left\":{\"value\":3.2},\"line_color\":{\"value\":\"purple\"},\"right\":{\"value\":3.8},\"top\":{\"value\":-0.12140157527218728}},\"id\":\"31b4a37c-6c16-46cf-9eb1-47a093155efb\",\"type\":\"Quad\"},{\"attributes\":{},\"id\":\"288644f9-55bd-4242-85b2-2ff281af4ce1\",\"type\":\"BasicTickFormatter\"},{\"attributes\":{\"bottom\":{\"value\":0},\"fill_alpha\":{\"value\":0.1},\"fill_color\":{\"value\":\"#1f77b4\"},\"left\":{\"value\":3.2},\"line_alpha\":{\"value\":0.1},\"line_color\":{\"value\":\"#1f77b4\"},\"right\":{\"value\":3.8},\"top\":{\"value\":-0.4650685532869331}},\"id\":\"17f17f09-8550-474f-9f1f-ca45493daeac\",\"type\":\"Quad\"},{\"attributes\":{\"callback\":null},\"id\":\"fbe1de56-51d0-4e07-a331-84261f922577\",\"type\":\"ColumnDataSource\"},{\"attributes\":{\"below\":[{\"id\":\"3acb0624-3929-4901-a093-09e6b4855437\",\"type\":\"LinearAxis\"}],\"left\":[{\"id\":\"06111cdb-db23-4735-bbad-536d2688d70d\",\"type\":\"LinearAxis\"}],\"renderers\":[{\"id\":\"3acb0624-3929-4901-a093-09e6b4855437\",\"type\":\"LinearAxis\"},{\"id\":\"3edf0327-4cb3-46c8-b45e-9d4a191d6a9b\",\"type\":\"Grid\"},{\"id\":\"06111cdb-db23-4735-bbad-536d2688d70d\",\"type\":\"LinearAxis\"},{\"id\":\"1e62d828-06ee-44ab-9f29-17d50f6855e5\",\"type\":\"Grid\"},{\"id\":\"6a65afe6-5eda-4f62-b38b-adb23cd15d1a\",\"type\":\"BoxAnnotation\"},{\"id\":\"2e165835-2562-49cc-acd0-b80ff67154a9\",\"type\":\"Legend\"},{\"id\":\"9c692956-31dc-426b-936e-b769bb71629a\",\"type\":\"GlyphRenderer\"},{\"id\":\"75ad0e33-6431-4b5b-8869-45b406f71234\",\"type\":\"GlyphRenderer\"},{\"id\":\"f704f53a-ee9a-41d3-882d-b88663aff6b6\",\"type\":\"GlyphRenderer\"},{\"id\":\"132b97c7-0c3c-4426-a39b-4a003aec65fe\",\"type\":\"GlyphRenderer\"}],\"title\":\"FEMALE Model Coefficients Logistic Regression\",\"tool_events\":{\"id\":\"363d76f9-4e23-4a6a-a1b3-70b079bce33e\",\"type\":\"ToolEvents\"},\"tools\":[{\"id\":\"4cd648ba-87c9-4d30-bb9f-92dc772fa082\",\"type\":\"PanTool\"},{\"id\":\"ac47c5da-ee66-4fed-a333-56aa5468cb67\",\"type\":\"WheelZoomTool\"},{\"id\":\"a7091d42-fb27-48a7-b553-a34ed98a1a93\",\"type\":\"BoxZoomTool\"},{\"id\":\"ea5ae4d2-3ac3-4e6c-a4bb-69240acb1572\",\"type\":\"PreviewSaveTool\"},{\"id\":\"d5e2db09-b899-4360-9435-780e70eba23f\",\"type\":\"ResizeTool\"},{\"id\":\"11cea40e-0851-4713-ab66-406fceb02381\",\"type\":\"ResetTool\"},{\"id\":\"7ab0f17c-aff4-4811-991c-4557e6a88a96\",\"type\":\"HelpTool\"}],\"x_range\":{\"id\":\"41ee722f-26d1-459a-9d25-c2a2da1e0185\",\"type\":\"DataRange1d\"},\"y_range\":{\"id\":\"c1e41240-49dd-4006-b8cc-5314c0cffc5e\",\"type\":\"Range1d\"}},\"id\":\"77e7a535-7cce-4664-b1ad-1776da476bf7\",\"subtype\":\"Figure\",\"type\":\"Plot\"},{\"attributes\":{\"data_source\":{\"id\":\"f9e74d9b-7a28-4067-b256-ba75bb21222f\",\"type\":\"ColumnDataSource\"},\"glyph\":{\"id\":\"ecd24d5c-0d1d-44b9-898e-6be88be1bb52\",\"type\":\"Quad\"},\"hover_glyph\":null,\"nonselection_glyph\":{\"id\":\"62b099b8-4131-481a-a108-2da2ef60b241\",\"type\":\"Quad\"},\"selection_glyph\":null},\"id\":\"176d714d-a8e3-44ce-8419-462b0216bd6e\",\"type\":\"GlyphRenderer\"},{\"attributes\":{\"data_source\":{\"id\":\"9def8f09-3027-499d-aebb-707a1486178d\",\"type\":\"ColumnDataSource\"},\"glyph\":{\"id\":\"7dd26a53-e244-45a6-be66-fce255d4d6d6\",\"type\":\"Quad\"},\"hover_glyph\":null,\"nonselection_glyph\":{\"id\":\"5829025e-958c-4278-a1ff-e2418643c9dd\",\"type\":\"Quad\"},\"selection_glyph\":null},\"id\":\"0cf6ed57-b5bf-464b-9a19-d116d2e724b8\",\"type\":\"GlyphRenderer\"},{\"attributes\":{\"plot\":{\"id\":\"027a70d0-9790-4af8-a966-547e9f1b68e1\",\"subtype\":\"Figure\",\"type\":\"Plot\"}},\"id\":\"e6fb55bf-c8f5-4b97-8137-e3d3ef80305f\",\"type\":\"ResetTool\"},{\"attributes\":{\"bottom\":{\"value\":0},\"fill_alpha\":{\"value\":0.1},\"fill_color\":{\"value\":\"#1f77b4\"},\"left\":{\"value\":1.2},\"line_alpha\":{\"value\":0.1},\"line_color\":{\"value\":\"#1f77b4\"},\"right\":{\"value\":1.8},\"top\":{\"value\":-0.4124127837300706}},\"id\":\"5829025e-958c-4278-a1ff-e2418643c9dd\",\"type\":\"Quad\"},{\"attributes\":{\"bottom\":{\"value\":0},\"fill_alpha\":{\"value\":0.1},\"fill_color\":{\"value\":\"#1f77b4\"},\"left\":{\"value\":2.2},\"line_alpha\":{\"value\":0.1},\"line_color\":{\"value\":\"#1f77b4\"},\"right\":{\"value\":2.8},\"top\":{\"value\":-0.3197938079042032}},\"id\":\"9ee74670-4155-43a0-862a-62b1eac4e6e8\",\"type\":\"Quad\"},{\"attributes\":{\"callback\":null},\"id\":\"485f62fb-11a4-4b10-aec9-3c06a4d23c4d\",\"type\":\"DataRange1d\"},{\"attributes\":{\"callback\":null},\"id\":\"9def8f09-3027-499d-aebb-707a1486178d\",\"type\":\"ColumnDataSource\"},{\"attributes\":{},\"id\":\"9140f42f-64df-4aa3-ac37-7fc5644e06c7\",\"type\":\"BasicTicker\"}],\"root_ids\":[\"51f39171-f40b-472c-9a2f-ba4b1447727b\",\"027a70d0-9790-4af8-a966-547e9f1b68e1\",\"77e7a535-7cce-4664-b1ad-1776da476bf7\"]},\"title\":\"Bokeh Application\",\"version\":\"0.11.1\"}};\n",
       "            var render_items = [{\"docid\":\"952691ca-4064-4f0f-8b8e-ff92a4640944\",\"elementid\":\"3c4f5122-bc3a-4f71-8b70-f131c0a3acf7\",\"modelid\":\"77e7a535-7cce-4664-b1ad-1776da476bf7\",\"notebook_comms_target\":\"19ec9111-3df2-4325-a5c7-870cc9432fcb\"}];\n",
       "            \n",
       "            Bokeh.embed.embed_items(docs_json, render_items);\n",
       "        });\n",
       "      },\n",
       "      function(Bokeh) {\n",
       "      }\n",
       "    ];\n",
       "  \n",
       "    function run_inline_js() {\n",
       "      for (var i = 0; i < inline_js.length; i++) {\n",
       "        inline_js[i](window.Bokeh);\n",
       "      }\n",
       "    }\n",
       "  \n",
       "    if (window._bokeh_is_loading === 0) {\n",
       "      console.log(\"Bokeh: BokehJS loaded, going straight to plotting\");\n",
       "      run_inline_js();\n",
       "    } else {\n",
       "      load_libs(js_urls, function() {\n",
       "        console.log(\"Bokeh: BokehJS plotting callback run at\", now());\n",
       "        run_inline_js();\n",
       "      });\n",
       "    }\n",
       "  }(this));\n",
       "</script>"
      ]
     },
     "metadata": {},
     "output_type": "display_data"
    },
    {
     "data": {
      "text/html": [
       "<p><code>&lt;Bokeh Notebook handle for <strong>In[64]</strong>&gt;</code></p>"
      ],
      "text/plain": [
       "<bokeh.io._CommsHandle at 0x11e9de590>"
      ]
     },
     "execution_count": 64,
     "metadata": {},
     "output_type": "execute_result"
    }
   ],
   "source": [
    "p = figure(title=\"FEMALE Model Coefficients Logistic Regression\")\n",
    "for val in x_fem:\n",
    "    p.quad(top=model_lr_fem.coef_.ravel()[val], \n",
    "           bottom=0, left=val+0.2,right=val+0.8, \n",
    "           color=['red','orange','green','purple'][val],\n",
    "           legend=names_fem[val]\n",
    "          )\n",
    "    \n",
    "p.y_range = Range1d(min(model_lr_fem.coef_.ravel())-0.1, max(model_lr_fem.coef_.ravel())+1.5)\n",
    "show(p)"
   ]
  },
  {
   "cell_type": "code",
   "execution_count": 65,
   "metadata": {
    "collapsed": false
   },
   "outputs": [
    {
     "data": {
      "text/html": [
       "<div>\n",
       "<table border=\"1\" class=\"dataframe\">\n",
       "  <thead>\n",
       "    <tr style=\"text-align: right;\">\n",
       "      <th></th>\n",
       "      <th>features</th>\n",
       "      <th>coeff</th>\n",
       "    </tr>\n",
       "  </thead>\n",
       "  <tbody>\n",
       "    <tr>\n",
       "      <th>0</th>\n",
       "      <td>Net enrolment rate, secondary, female (%)</td>\n",
       "      <td>0.035900</td>\n",
       "    </tr>\n",
       "    <tr>\n",
       "      <th>1</th>\n",
       "      <td>Net enrolment rate, secondary, gender parity i...</td>\n",
       "      <td>-0.396117</td>\n",
       "    </tr>\n",
       "    <tr>\n",
       "      <th>2</th>\n",
       "      <td>School life expectancy, secondary, female (years)</td>\n",
       "      <td>-0.464485</td>\n",
       "    </tr>\n",
       "  </tbody>\n",
       "</table>\n",
       "</div>"
      ],
      "text/plain": [
       "                                            features     coeff\n",
       "0          Net enrolment rate, secondary, female (%)  0.035900\n",
       "1  Net enrolment rate, secondary, gender parity i... -0.396117\n",
       "2  School life expectancy, secondary, female (years) -0.464485"
      ]
     },
     "execution_count": 65,
     "metadata": {},
     "output_type": "execute_result"
    }
   ],
   "source": [
    "coeffs_fem = pd.DataFrame(zip(features_fem.columns[:-1],model_lr_fem.coef_.ravel()),columns=['features','coeff'])\n",
    "coeffs_fem.head()"
   ]
  },
  {
   "cell_type": "markdown",
   "metadata": {},
   "source": [
    "#### Now Attempting with Different Classifiers"
   ]
  },
  {
   "cell_type": "code",
   "execution_count": 66,
   "metadata": {
    "collapsed": false,
    "scrolled": true
   },
   "outputs": [
    {
     "data": {
      "text/plain": [
       "0.67272727272727273"
      ]
     },
     "execution_count": 66,
     "metadata": {},
     "output_type": "execute_result"
    }
   ],
   "source": [
    "# KNN\n",
    "model_knn_fem = KNeighborsClassifier(11)\n",
    "cross_val_score(model_knn_fem,features_fem,target_fem,cv=11).mean()"
   ]
  },
  {
   "cell_type": "code",
   "execution_count": 67,
   "metadata": {
    "collapsed": false
   },
   "outputs": [
    {
     "name": "stdout",
     "output_type": "stream",
     "text": [
      "0.509090909091\n"
     ]
    }
   ],
   "source": [
    "# Decision Tree\n",
    "\n",
    "decision_tree_fem = sklearn.tree.DecisionTreeClassifier()\n",
    "score_fem = sklearn.cross_validation.cross_val_score(decision_tree_fem,features_fem,target_fem,cv=11).mean()\n",
    "print(score_fem)"
   ]
  },
  {
   "cell_type": "markdown",
   "metadata": {},
   "source": [
    "## Objective 4: Review Outcomes"
   ]
  },
  {
   "cell_type": "markdown",
   "metadata": {},
   "source": [
    "### TLDR: Underperforming Models When Looking at Selected Gender Features"
   ]
  },
  {
   "cell_type": "code",
   "execution_count": 68,
   "metadata": {
    "collapsed": false
   },
   "outputs": [],
   "source": [
    "country_labels = education_with_countries[['Country','class_labels']]"
   ]
  },
  {
   "cell_type": "code",
   "execution_count": 69,
   "metadata": {
    "collapsed": true
   },
   "outputs": [],
   "source": [
    "orig_with_labels = pd.merge(country_labels, education_index_reset, on='Country', how='left')"
   ]
  },
  {
   "cell_type": "code",
   "execution_count": 70,
   "metadata": {
    "collapsed": false
   },
   "outputs": [
    {
     "data": {
      "text/html": [
       "<div>\n",
       "<table border=\"1\" class=\"dataframe\">\n",
       "  <thead>\n",
       "    <tr style=\"text-align: right;\">\n",
       "      <th>Feature</th>\n",
       "      <th>Country</th>\n",
       "      <th>class_labels</th>\n",
       "      <th>All staff compensation as % of total expenditure in secondary public institutions (%)</th>\n",
       "      <th>Duration of compulsory education (years)</th>\n",
       "      <th>Expenditure on education as % of total government expenditure (%)</th>\n",
       "      <th>Expenditure on secondary as % of government expenditure on education (%)</th>\n",
       "      <th>Expenditure on secondary as % of total government expenditure (%)</th>\n",
       "      <th>Government expenditure in educational institutions as % of GDP (%)</th>\n",
       "      <th>Government expenditure in secondary institutions education as % of GDP (%)</th>\n",
       "      <th>Government expenditure on education as % of GDP (%)</th>\n",
       "      <th>Net enrolment rate, secondary, both sexes (%)</th>\n",
       "      <th>Pupil-teacher ratio in secondary education (headcount basis)</th>\n",
       "    </tr>\n",
       "  </thead>\n",
       "  <tbody>\n",
       "    <tr>\n",
       "      <th>0</th>\n",
       "      <td>Bulgaria</td>\n",
       "      <td>0</td>\n",
       "      <td>70.2788391113281</td>\n",
       "      <td>9</td>\n",
       "      <td>11.1000499725342</td>\n",
       "      <td>41.4084091186523</td>\n",
       "      <td>4.59635019302368</td>\n",
       "      <td>3.04402995109558</td>\n",
       "      <td>1.25155997276306</td>\n",
       "      <td>3.66866993904114</td>\n",
       "      <td>85.2456436157227</td>\n",
       "      <td>12.297739982605</td>\n",
       "    </tr>\n",
       "    <tr>\n",
       "      <th>1</th>\n",
       "      <td>Burkina Faso</td>\n",
       "      <td>2</td>\n",
       "      <td>59.7685394287109</td>\n",
       "      <td>10</td>\n",
       "      <td>20.3136405944824</td>\n",
       "      <td>19.0634803771973</td>\n",
       "      <td>3.87248992919922</td>\n",
       "      <td>4.30073976516724</td>\n",
       "      <td>0.845690011978149</td>\n",
       "      <td>4.47012996673584</td>\n",
       "      <td>18.4462394714355</td>\n",
       "      <td>26.4881401062012</td>\n",
       "    </tr>\n",
       "    <tr>\n",
       "      <th>2</th>\n",
       "      <td>Colombia</td>\n",
       "      <td>3</td>\n",
       "      <td>90.3166885375977</td>\n",
       "      <td>10</td>\n",
       "      <td>15.5291404724121</td>\n",
       "      <td>36.2583885192871</td>\n",
       "      <td>5.63062000274658</td>\n",
       "      <td>4.24277019500732</td>\n",
       "      <td>1.56815004348755</td>\n",
       "      <td>4.45980978012085</td>\n",
       "      <td>75.6345596313477</td>\n",
       "      <td>25.5813694000244</td>\n",
       "    </tr>\n",
       "    <tr>\n",
       "      <th>3</th>\n",
       "      <td>Cyprus</td>\n",
       "      <td>4</td>\n",
       "      <td>86.4166107177734</td>\n",
       "      <td>9</td>\n",
       "      <td>15.5367097854614</td>\n",
       "      <td>42.6022300720215</td>\n",
       "      <td>6.61897993087769</td>\n",
       "      <td>6.67362022399902</td>\n",
       "      <td>2.99753999710083</td>\n",
       "      <td>7.2425799369812</td>\n",
       "      <td>89.6834182739258</td>\n",
       "      <td>9.72688007354736</td>\n",
       "    </tr>\n",
       "    <tr>\n",
       "      <th>4</th>\n",
       "      <td>Ecuador</td>\n",
       "      <td>1</td>\n",
       "      <td>47.2555618286133</td>\n",
       "      <td>15</td>\n",
       "      <td>10.9646701812744</td>\n",
       "      <td>39.7605285644531</td>\n",
       "      <td>4.35961008071899</td>\n",
       "      <td>4.28348016738892</td>\n",
       "      <td>1.71548998355865</td>\n",
       "      <td>4.31454992294312</td>\n",
       "      <td>72.1840362548828</td>\n",
       "      <td>10.9397296905518</td>\n",
       "    </tr>\n",
       "  </tbody>\n",
       "</table>\n",
       "</div>"
      ],
      "text/plain": [
       "Feature       Country  class_labels  \\\n",
       "0            Bulgaria             0   \n",
       "1        Burkina Faso             2   \n",
       "2            Colombia             3   \n",
       "3              Cyprus             4   \n",
       "4             Ecuador             1   \n",
       "\n",
       "Feature All staff compensation as % of total expenditure in secondary public institutions (%)  \\\n",
       "0                                         70.2788391113281                                      \n",
       "1                                         59.7685394287109                                      \n",
       "2                                         90.3166885375977                                      \n",
       "3                                         86.4166107177734                                      \n",
       "4                                         47.2555618286133                                      \n",
       "\n",
       "Feature Duration of compulsory education (years)  \\\n",
       "0                                              9   \n",
       "1                                             10   \n",
       "2                                             10   \n",
       "3                                              9   \n",
       "4                                             15   \n",
       "\n",
       "Feature Expenditure on education as % of total government expenditure (%)  \\\n",
       "0                                         11.1000499725342                  \n",
       "1                                         20.3136405944824                  \n",
       "2                                         15.5291404724121                  \n",
       "3                                         15.5367097854614                  \n",
       "4                                         10.9646701812744                  \n",
       "\n",
       "Feature Expenditure on secondary as % of government expenditure on education (%)  \\\n",
       "0                                         41.4084091186523                         \n",
       "1                                         19.0634803771973                         \n",
       "2                                         36.2583885192871                         \n",
       "3                                         42.6022300720215                         \n",
       "4                                         39.7605285644531                         \n",
       "\n",
       "Feature Expenditure on secondary as % of total government expenditure (%)  \\\n",
       "0                                         4.59635019302368                  \n",
       "1                                         3.87248992919922                  \n",
       "2                                         5.63062000274658                  \n",
       "3                                         6.61897993087769                  \n",
       "4                                         4.35961008071899                  \n",
       "\n",
       "Feature Government expenditure in educational institutions as % of GDP (%)  \\\n",
       "0                                         3.04402995109558                   \n",
       "1                                         4.30073976516724                   \n",
       "2                                         4.24277019500732                   \n",
       "3                                         6.67362022399902                   \n",
       "4                                         4.28348016738892                   \n",
       "\n",
       "Feature Government expenditure in secondary institutions education as % of GDP (%)  \\\n",
       "0                                         1.25155997276306                           \n",
       "1                                        0.845690011978149                           \n",
       "2                                         1.56815004348755                           \n",
       "3                                         2.99753999710083                           \n",
       "4                                         1.71548998355865                           \n",
       "\n",
       "Feature Government expenditure on education as % of GDP (%)  \\\n",
       "0                                         3.66866993904114    \n",
       "1                                         4.47012996673584    \n",
       "2                                         4.45980978012085    \n",
       "3                                          7.2425799369812    \n",
       "4                                         4.31454992294312    \n",
       "\n",
       "Feature Net enrolment rate, secondary, both sexes (%)  \\\n",
       "0                                    85.2456436157227   \n",
       "1                                    18.4462394714355   \n",
       "2                                    75.6345596313477   \n",
       "3                                    89.6834182739258   \n",
       "4                                    72.1840362548828   \n",
       "\n",
       "Feature Pupil-teacher ratio in secondary education (headcount basis)  \n",
       "0                                          12.297739982605            \n",
       "1                                         26.4881401062012            \n",
       "2                                         25.5813694000244            \n",
       "3                                         9.72688007354736            \n",
       "4                                         10.9397296905518            "
      ]
     },
     "execution_count": 70,
     "metadata": {},
     "output_type": "execute_result"
    }
   ],
   "source": [
    "orig_with_labels.head()"
   ]
  },
  {
   "cell_type": "code",
   "execution_count": 71,
   "metadata": {
    "collapsed": false
   },
   "outputs": [
    {
     "data": {
      "text/plain": [
       "Feature\n",
       "School life expectancy, secondary, female (years)    1.53029\n",
       "dtype: float64"
      ]
     },
     "execution_count": 71,
     "metadata": {},
     "output_type": "execute_result"
    }
   ],
   "source": [
    "edu_class_female[['School life expectancy, secondary, female (years)']].min()"
   ]
  },
  {
   "cell_type": "code",
   "execution_count": 72,
   "metadata": {
    "collapsed": false
   },
   "outputs": [
    {
     "data": {
      "text/html": [
       "<div>\n",
       "<table border=\"1\" class=\"dataframe\">\n",
       "  <thead>\n",
       "    <tr style=\"text-align: right;\">\n",
       "      <th>Feature</th>\n",
       "      <th>Country</th>\n",
       "      <th>School life expectancy, secondary, female (years)</th>\n",
       "    </tr>\n",
       "  </thead>\n",
       "  <tbody>\n",
       "    <tr>\n",
       "      <th>0</th>\n",
       "      <td>Bulgaria</td>\n",
       "      <td>7.18878984451294</td>\n",
       "    </tr>\n",
       "    <tr>\n",
       "      <th>1</th>\n",
       "      <td>Burkina Faso</td>\n",
       "      <td>1.53029000759125</td>\n",
       "    </tr>\n",
       "    <tr>\n",
       "      <th>2</th>\n",
       "      <td>Colombia</td>\n",
       "      <td>6.11611986160278</td>\n",
       "    </tr>\n",
       "    <tr>\n",
       "      <th>3</th>\n",
       "      <td>Cyprus</td>\n",
       "      <td>5.60550022125244</td>\n",
       "    </tr>\n",
       "    <tr>\n",
       "      <th>4</th>\n",
       "      <td>Ecuador</td>\n",
       "      <td>5.17021989822388</td>\n",
       "    </tr>\n",
       "  </tbody>\n",
       "</table>\n",
       "</div>"
      ],
      "text/plain": [
       "Feature       Country School life expectancy, secondary, female (years)\n",
       "0            Bulgaria                                  7.18878984451294\n",
       "1        Burkina Faso                                  1.53029000759125\n",
       "2            Colombia                                  6.11611986160278\n",
       "3              Cyprus                                  5.60550022125244\n",
       "4             Ecuador                                  5.17021989822388"
      ]
     },
     "execution_count": 72,
     "metadata": {},
     "output_type": "execute_result"
    }
   ],
   "source": [
    "edu_class_female[['Country','School life expectancy, secondary, female (years)']].head()"
   ]
  },
  {
   "cell_type": "code",
   "execution_count": 73,
   "metadata": {
    "collapsed": false
   },
   "outputs": [
    {
     "data": {
      "text/plain": [
       "Feature\n",
       "School life expectancy, secondary, male (years)    1.97684\n",
       "dtype: float64"
      ]
     },
     "execution_count": 73,
     "metadata": {},
     "output_type": "execute_result"
    }
   ],
   "source": [
    "edu_class_male[['School life expectancy, secondary, male (years)']].min()"
   ]
  },
  {
   "cell_type": "code",
   "execution_count": 74,
   "metadata": {
    "collapsed": false
   },
   "outputs": [
    {
     "data": {
      "text/html": [
       "<div>\n",
       "<table border=\"1\" class=\"dataframe\">\n",
       "  <thead>\n",
       "    <tr style=\"text-align: right;\">\n",
       "      <th>Feature</th>\n",
       "      <th>Country</th>\n",
       "      <th>School life expectancy, secondary, male (years)</th>\n",
       "    </tr>\n",
       "  </thead>\n",
       "  <tbody>\n",
       "    <tr>\n",
       "      <th>0</th>\n",
       "      <td>Bulgaria</td>\n",
       "      <td>7.48646020889282</td>\n",
       "    </tr>\n",
       "    <tr>\n",
       "      <th>1</th>\n",
       "      <td>Burkina Faso</td>\n",
       "      <td>1.97684001922607</td>\n",
       "    </tr>\n",
       "    <tr>\n",
       "      <th>2</th>\n",
       "      <td>Colombia</td>\n",
       "      <td>5.62004995346069</td>\n",
       "    </tr>\n",
       "    <tr>\n",
       "      <th>3</th>\n",
       "      <td>Cyprus</td>\n",
       "      <td>5.52293014526367</td>\n",
       "    </tr>\n",
       "    <tr>\n",
       "      <th>4</th>\n",
       "      <td>Ecuador</td>\n",
       "      <td>5.10024976730347</td>\n",
       "    </tr>\n",
       "  </tbody>\n",
       "</table>\n",
       "</div>"
      ],
      "text/plain": [
       "Feature       Country School life expectancy, secondary, male (years)\n",
       "0            Bulgaria                                7.48646020889282\n",
       "1        Burkina Faso                                1.97684001922607\n",
       "2            Colombia                                5.62004995346069\n",
       "3              Cyprus                                5.52293014526367\n",
       "4             Ecuador                                5.10024976730347"
      ]
     },
     "execution_count": 74,
     "metadata": {},
     "output_type": "execute_result"
    }
   ],
   "source": [
    "edu_class_male[['Country','School life expectancy, secondary, male (years)']].head()"
   ]
  },
  {
   "cell_type": "code",
   "execution_count": 75,
   "metadata": {
    "collapsed": false
   },
   "outputs": [],
   "source": [
    "ed_fem = edu_class_female[['Country','School life expectancy, secondary, female (years)']]\n",
    "ed_male = edu_class_male[['Country','School life expectancy, secondary, male (years)']]\n",
    "ed_fem_male = pd.merge(ed_fem, ed_male, on='Country', how='left')"
   ]
  },
  {
   "cell_type": "code",
   "execution_count": 76,
   "metadata": {
    "collapsed": false
   },
   "outputs": [],
   "source": [
    "ed_fem_male_fem = ed_fem_male[['School life expectancy, secondary, female (years)']].astype(float)\n",
    "ed_fem_male_male = ed_fem_male[['School life expectancy, secondary, male (years)']].astype(float)"
   ]
  },
  {
   "cell_type": "code",
   "execution_count": 77,
   "metadata": {
    "collapsed": false
   },
   "outputs": [],
   "source": [
    "ed_fem_male2 = ed_fem_male_fem.join(ed_fem_male_male)"
   ]
  },
  {
   "cell_type": "code",
   "execution_count": 78,
   "metadata": {
    "collapsed": true
   },
   "outputs": [],
   "source": [
    "ed_fem_male2_countries = orig_with_labels[['Country']]"
   ]
  },
  {
   "cell_type": "code",
   "execution_count": 79,
   "metadata": {
    "collapsed": false
   },
   "outputs": [],
   "source": [
    "ed_fem_male3 = ed_fem_male2_countries.join(ed_fem_male2)"
   ]
  },
  {
   "cell_type": "code",
   "execution_count": 80,
   "metadata": {
    "collapsed": false
   },
   "outputs": [],
   "source": [
    "ed_fem_male3_diff = ed_fem_male3['School life expectancy, secondary, female (years)']-ed_fem_male3['School life expectancy, secondary, male (years)']"
   ]
  },
  {
   "cell_type": "code",
   "execution_count": 81,
   "metadata": {
    "collapsed": false
   },
   "outputs": [],
   "source": [
    "ed_fem_male3_diff_2 = pd.DataFrame(ed_fem_male3_diff)"
   ]
  },
  {
   "cell_type": "code",
   "execution_count": 82,
   "metadata": {
    "collapsed": true
   },
   "outputs": [],
   "source": [
    "ed_fem_male3_diff_2.columns = ['Diff']"
   ]
  },
  {
   "cell_type": "code",
   "execution_count": 83,
   "metadata": {
    "collapsed": true
   },
   "outputs": [],
   "source": [
    "ed_fem_male4 = ed_fem_male3.join(ed_fem_male3_diff_2)"
   ]
  },
  {
   "cell_type": "code",
   "execution_count": 84,
   "metadata": {
    "collapsed": false,
    "scrolled": true
   },
   "outputs": [
    {
     "data": {
      "text/html": [
       "<div>\n",
       "<table border=\"1\" class=\"dataframe\">\n",
       "  <thead>\n",
       "    <tr style=\"text-align: right;\">\n",
       "      <th>Feature</th>\n",
       "      <th>Country</th>\n",
       "      <th>School life expectancy, secondary, female (years)</th>\n",
       "      <th>School life expectancy, secondary, male (years)</th>\n",
       "      <th>Diff</th>\n",
       "    </tr>\n",
       "  </thead>\n",
       "  <tbody>\n",
       "    <tr>\n",
       "      <th>7</th>\n",
       "      <td>Guinea</td>\n",
       "      <td>2.09161</td>\n",
       "      <td>3.34409</td>\n",
       "      <td>-1.25248</td>\n",
       "    </tr>\n",
       "  </tbody>\n",
       "</table>\n",
       "</div>"
      ],
      "text/plain": [
       "Feature Country  School life expectancy, secondary, female (years)  \\\n",
       "7        Guinea                                            2.09161   \n",
       "\n",
       "Feature  School life expectancy, secondary, male (years)     Diff  \n",
       "7                                                3.34409 -1.25248  "
      ]
     },
     "execution_count": 84,
     "metadata": {},
     "output_type": "execute_result"
    }
   ],
   "source": [
    "ed_fem_male4.where(ed_fem_male4.Diff<-1).dropna()"
   ]
  },
  {
   "cell_type": "markdown",
   "metadata": {},
   "source": [
    "#### On Average, Girls in Guinea are Expected to be in Secondary School 1 1/4 years less than boys!"
   ]
  },
  {
   "cell_type": "code",
   "execution_count": 85,
   "metadata": {
    "collapsed": false
   },
   "outputs": [
    {
     "data": {
      "text/html": [
       "<div>\n",
       "<table border=\"1\" class=\"dataframe\">\n",
       "  <thead>\n",
       "    <tr style=\"text-align: right;\">\n",
       "      <th>Feature</th>\n",
       "      <th>Country</th>\n",
       "      <th>School life expectancy, secondary, female (years)</th>\n",
       "      <th>School life expectancy, secondary, male (years)</th>\n",
       "      <th>Diff</th>\n",
       "    </tr>\n",
       "  </thead>\n",
       "  <tbody>\n",
       "    <tr>\n",
       "      <th>7</th>\n",
       "      <td>Guinea</td>\n",
       "      <td>2.09161</td>\n",
       "      <td>3.34409</td>\n",
       "      <td>-1.25248</td>\n",
       "    </tr>\n",
       "    <tr>\n",
       "      <th>15</th>\n",
       "      <td>Mali</td>\n",
       "      <td>2.18127</td>\n",
       "      <td>3.07127</td>\n",
       "      <td>-0.89000</td>\n",
       "    </tr>\n",
       "  </tbody>\n",
       "</table>\n",
       "</div>"
      ],
      "text/plain": [
       "Feature Country  School life expectancy, secondary, female (years)  \\\n",
       "7        Guinea                                            2.09161   \n",
       "15         Mali                                            2.18127   \n",
       "\n",
       "Feature  School life expectancy, secondary, male (years)     Diff  \n",
       "7                                                3.34409 -1.25248  \n",
       "15                                               3.07127 -0.89000  "
      ]
     },
     "execution_count": 85,
     "metadata": {},
     "output_type": "execute_result"
    }
   ],
   "source": [
    "ed_fem_male4.where(ed_fem_male4.Diff<-.5).dropna()"
   ]
  },
  {
   "cell_type": "code",
   "execution_count": 86,
   "metadata": {
    "collapsed": false
   },
   "outputs": [
    {
     "data": {
      "text/html": [
       "<div>\n",
       "<table border=\"1\" class=\"dataframe\">\n",
       "  <thead>\n",
       "    <tr style=\"text-align: right;\">\n",
       "      <th>Feature</th>\n",
       "      <th>Country</th>\n",
       "      <th>All staff compensation as % of total expenditure in secondary public institutions (%)</th>\n",
       "      <th>Duration of compulsory education (years)</th>\n",
       "      <th>Expenditure on education as % of total government expenditure (%)</th>\n",
       "      <th>Expenditure on secondary as % of government expenditure on education (%)</th>\n",
       "      <th>Expenditure on secondary as % of total government expenditure (%)</th>\n",
       "      <th>Government expenditure in educational institutions as % of GDP (%)</th>\n",
       "      <th>Government expenditure in secondary institutions education as % of GDP (%)</th>\n",
       "      <th>Government expenditure on education as % of GDP (%)</th>\n",
       "      <th>Net enrolment rate, secondary, both sexes (%)</th>\n",
       "      <th>Pupil-teacher ratio in secondary education (headcount basis)</th>\n",
       "    </tr>\n",
       "  </thead>\n",
       "  <tbody>\n",
       "    <tr>\n",
       "      <th>7</th>\n",
       "      <td>Guinea</td>\n",
       "      <td>86.4152679443359</td>\n",
       "      <td>6</td>\n",
       "      <td>14.2593097686768</td>\n",
       "      <td>21.5236797332764</td>\n",
       "      <td>3.06912994384766</td>\n",
       "      <td>2.39252996444702</td>\n",
       "      <td>0.65922999382019</td>\n",
       "      <td>3.06282997131348</td>\n",
       "      <td>30.4055194854736</td>\n",
       "      <td>33.1355400085449</td>\n",
       "    </tr>\n",
       "    <tr>\n",
       "      <th>15</th>\n",
       "      <td>Mali</td>\n",
       "      <td>56.9571800231934</td>\n",
       "      <td>9</td>\n",
       "      <td>18.2702503204346</td>\n",
       "      <td>37.9789505004883</td>\n",
       "      <td>6.93884992599487</td>\n",
       "      <td>4.26151990890503</td>\n",
       "      <td>1.72906005382538</td>\n",
       "      <td>4.57597017288208</td>\n",
       "      <td>34.4886894226074</td>\n",
       "      <td>24.7188396453857</td>\n",
       "    </tr>\n",
       "  </tbody>\n",
       "</table>\n",
       "</div>"
      ],
      "text/plain": [
       "Feature Country  \\\n",
       "7        Guinea   \n",
       "15         Mali   \n",
       "\n",
       "Feature All staff compensation as % of total expenditure in secondary public institutions (%)  \\\n",
       "7                                         86.4152679443359                                      \n",
       "15                                        56.9571800231934                                      \n",
       "\n",
       "Feature Duration of compulsory education (years)  \\\n",
       "7                                              6   \n",
       "15                                             9   \n",
       "\n",
       "Feature Expenditure on education as % of total government expenditure (%)  \\\n",
       "7                                         14.2593097686768                  \n",
       "15                                        18.2702503204346                  \n",
       "\n",
       "Feature Expenditure on secondary as % of government expenditure on education (%)  \\\n",
       "7                                         21.5236797332764                         \n",
       "15                                        37.9789505004883                         \n",
       "\n",
       "Feature Expenditure on secondary as % of total government expenditure (%)  \\\n",
       "7                                         3.06912994384766                  \n",
       "15                                        6.93884992599487                  \n",
       "\n",
       "Feature Government expenditure in educational institutions as % of GDP (%)  \\\n",
       "7                                         2.39252996444702                   \n",
       "15                                        4.26151990890503                   \n",
       "\n",
       "Feature Government expenditure in secondary institutions education as % of GDP (%)  \\\n",
       "7                                         0.65922999382019                           \n",
       "15                                        1.72906005382538                           \n",
       "\n",
       "Feature Government expenditure on education as % of GDP (%)  \\\n",
       "7                                         3.06282997131348    \n",
       "15                                        4.57597017288208    \n",
       "\n",
       "Feature Net enrolment rate, secondary, both sexes (%)  \\\n",
       "7                                    30.4055194854736   \n",
       "15                                   34.4886894226074   \n",
       "\n",
       "Feature Pupil-teacher ratio in secondary education (headcount basis)  \n",
       "7                                         33.1355400085449            \n",
       "15                                        24.7188396453857            "
      ]
     },
     "execution_count": 86,
     "metadata": {},
     "output_type": "execute_result"
    }
   ],
   "source": [
    "lowest_female_school_life_expectancy = (\n",
    "    education_index_reset.loc[\n",
    "        education_index_reset[\n",
    "            'Country'\n",
    "        ].isin(\n",
    "            [\n",
    "            'Guinea',\n",
    "            'Mali'\n",
    "            ]\n",
    "        )\n",
    "    ]\n",
    ")\n",
    "lowest_female_school_life_expectancy"
   ]
  },
  {
   "cell_type": "code",
   "execution_count": 87,
   "metadata": {
    "collapsed": false
   },
   "outputs": [
    {
     "name": "stderr",
     "output_type": "stream",
     "text": [
      "/anaconda/lib/python2.7/site-packages/ipykernel/__main__.py:3: FutureWarning: sort(columns=....) is deprecated, use sort_values(by=.....)\n",
      "  app.launch_new_instance()\n"
     ]
    },
    {
     "data": {
      "text/html": [
       "<div>\n",
       "<table border=\"1\" class=\"dataframe\">\n",
       "  <thead>\n",
       "    <tr style=\"text-align: right;\">\n",
       "      <th>Feature</th>\n",
       "      <th>Country</th>\n",
       "      <th>Expenditure on secondary as % of government expenditure on education (%)</th>\n",
       "    </tr>\n",
       "  </thead>\n",
       "  <tbody>\n",
       "    <tr>\n",
       "      <th>6</th>\n",
       "      <td>France</td>\n",
       "      <td>44.3830184936523</td>\n",
       "    </tr>\n",
       "    <tr>\n",
       "      <th>3</th>\n",
       "      <td>Cyprus</td>\n",
       "      <td>42.6022300720215</td>\n",
       "    </tr>\n",
       "    <tr>\n",
       "      <th>5</th>\n",
       "      <td>Finland</td>\n",
       "      <td>42.015251159668</td>\n",
       "    </tr>\n",
       "    <tr>\n",
       "      <th>0</th>\n",
       "      <td>Bulgaria</td>\n",
       "      <td>41.4084091186523</td>\n",
       "    </tr>\n",
       "    <tr>\n",
       "      <th>18</th>\n",
       "      <td>Netherlands</td>\n",
       "      <td>40.2388305664063</td>\n",
       "    </tr>\n",
       "    <tr>\n",
       "      <th>11</th>\n",
       "      <td>Jamaica</td>\n",
       "      <td>39.7851791381836</td>\n",
       "    </tr>\n",
       "    <tr>\n",
       "      <th>4</th>\n",
       "      <td>Ecuador</td>\n",
       "      <td>39.7605285644531</td>\n",
       "    </tr>\n",
       "    <tr>\n",
       "      <th>9</th>\n",
       "      <td>Hungary</td>\n",
       "      <td>39.3475799560547</td>\n",
       "    </tr>\n",
       "    <tr>\n",
       "      <th>12</th>\n",
       "      <td>Japan</td>\n",
       "      <td>38.2433700561523</td>\n",
       "    </tr>\n",
       "    <tr>\n",
       "      <th>15</th>\n",
       "      <td>Mali</td>\n",
       "      <td>37.9789505004883</td>\n",
       "    </tr>\n",
       "    <tr>\n",
       "      <th>23</th>\n",
       "      <td>Spain</td>\n",
       "      <td>36.9709281921387</td>\n",
       "    </tr>\n",
       "    <tr>\n",
       "      <th>17</th>\n",
       "      <td>Moldova</td>\n",
       "      <td>36.3644104003906</td>\n",
       "    </tr>\n",
       "    <tr>\n",
       "      <th>22</th>\n",
       "      <td>Slovenia</td>\n",
       "      <td>36.3539390563965</td>\n",
       "    </tr>\n",
       "    <tr>\n",
       "      <th>2</th>\n",
       "      <td>Colombia</td>\n",
       "      <td>36.2583885192871</td>\n",
       "    </tr>\n",
       "    <tr>\n",
       "      <th>26</th>\n",
       "      <td>United States</td>\n",
       "      <td>35.8716087341309</td>\n",
       "    </tr>\n",
       "    <tr>\n",
       "      <th>24</th>\n",
       "      <td>Sweden</td>\n",
       "      <td>35.422119140625</td>\n",
       "    </tr>\n",
       "    <tr>\n",
       "      <th>13</th>\n",
       "      <td>Latvia</td>\n",
       "      <td>34.6651000976563</td>\n",
       "    </tr>\n",
       "    <tr>\n",
       "      <th>20</th>\n",
       "      <td>Poland</td>\n",
       "      <td>34.6441116333008</td>\n",
       "    </tr>\n",
       "    <tr>\n",
       "      <th>8</th>\n",
       "      <td>Guyana</td>\n",
       "      <td>33.3771514892578</td>\n",
       "    </tr>\n",
       "    <tr>\n",
       "      <th>19</th>\n",
       "      <td>Peru</td>\n",
       "      <td>31.405330657959</td>\n",
       "    </tr>\n",
       "    <tr>\n",
       "      <th>16</th>\n",
       "      <td>Mexico</td>\n",
       "      <td>30.662260055542</td>\n",
       "    </tr>\n",
       "    <tr>\n",
       "      <th>14</th>\n",
       "      <td>Malaysia</td>\n",
       "      <td>30.5544300079346</td>\n",
       "    </tr>\n",
       "    <tr>\n",
       "      <th>10</th>\n",
       "      <td>Indonesia</td>\n",
       "      <td>24.1075401306152</td>\n",
       "    </tr>\n",
       "    <tr>\n",
       "      <th>21</th>\n",
       "      <td>Serbia</td>\n",
       "      <td>23.1376705169678</td>\n",
       "    </tr>\n",
       "    <tr>\n",
       "      <th>7</th>\n",
       "      <td>Guinea</td>\n",
       "      <td>21.5236797332764</td>\n",
       "    </tr>\n",
       "    <tr>\n",
       "      <th>25</th>\n",
       "      <td>Thailand</td>\n",
       "      <td>21.4528408050537</td>\n",
       "    </tr>\n",
       "    <tr>\n",
       "      <th>1</th>\n",
       "      <td>Burkina Faso</td>\n",
       "      <td>19.0634803771973</td>\n",
       "    </tr>\n",
       "  </tbody>\n",
       "</table>\n",
       "</div>"
      ],
      "text/plain": [
       "Feature        Country  \\\n",
       "6               France   \n",
       "3               Cyprus   \n",
       "5              Finland   \n",
       "0             Bulgaria   \n",
       "18         Netherlands   \n",
       "11             Jamaica   \n",
       "4              Ecuador   \n",
       "9              Hungary   \n",
       "12               Japan   \n",
       "15                Mali   \n",
       "23               Spain   \n",
       "17             Moldova   \n",
       "22            Slovenia   \n",
       "2             Colombia   \n",
       "26       United States   \n",
       "24              Sweden   \n",
       "13              Latvia   \n",
       "20              Poland   \n",
       "8               Guyana   \n",
       "19                Peru   \n",
       "16              Mexico   \n",
       "14            Malaysia   \n",
       "10           Indonesia   \n",
       "21              Serbia   \n",
       "7               Guinea   \n",
       "25            Thailand   \n",
       "1         Burkina Faso   \n",
       "\n",
       "Feature Expenditure on secondary as % of government expenditure on education (%)  \n",
       "6                                         44.3830184936523                        \n",
       "3                                         42.6022300720215                        \n",
       "5                                          42.015251159668                        \n",
       "0                                         41.4084091186523                        \n",
       "18                                        40.2388305664063                        \n",
       "11                                        39.7851791381836                        \n",
       "4                                         39.7605285644531                        \n",
       "9                                         39.3475799560547                        \n",
       "12                                        38.2433700561523                        \n",
       "15                                        37.9789505004883                        \n",
       "23                                        36.9709281921387                        \n",
       "17                                        36.3644104003906                        \n",
       "22                                        36.3539390563965                        \n",
       "2                                         36.2583885192871                        \n",
       "26                                        35.8716087341309                        \n",
       "24                                         35.422119140625                        \n",
       "13                                        34.6651000976563                        \n",
       "20                                        34.6441116333008                        \n",
       "8                                         33.3771514892578                        \n",
       "19                                         31.405330657959                        \n",
       "16                                         30.662260055542                        \n",
       "14                                        30.5544300079346                        \n",
       "10                                        24.1075401306152                        \n",
       "21                                        23.1376705169678                        \n",
       "7                                         21.5236797332764                        \n",
       "25                                        21.4528408050537                        \n",
       "1                                         19.0634803771973                        "
      ]
     },
     "execution_count": 87,
     "metadata": {},
     "output_type": "execute_result"
    }
   ],
   "source": [
    "education_index_reset[['Country','Expenditure on secondary as % of government expenditure on education (%)']].sort(\n",
    "    columns='Expenditure on secondary as % of government expenditure on education (%)',\n",
    "    ascending=False\n",
    ")"
   ]
  }
 ],
 "metadata": {
  "kernelspec": {
   "display_name": "Python 2",
   "language": "python",
   "name": "python2"
  },
  "language_info": {
   "codemirror_mode": {
    "name": "ipython",
    "version": 2
   },
   "file_extension": ".py",
   "mimetype": "text/x-python",
   "name": "python",
   "nbconvert_exporter": "python",
   "pygments_lexer": "ipython2",
   "version": "2.7.11"
  }
 },
 "nbformat": 4,
 "nbformat_minor": 0
}
